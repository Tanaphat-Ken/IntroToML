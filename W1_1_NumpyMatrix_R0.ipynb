{
 "cells": [
  {
   "cell_type": "markdown",
   "metadata": {
    "id": "zAwTPA_5VtMJ"
   },
   "source": [
    "# Numpy Tutorial\n",
    "Ref: https://www.w3schools.com/python/numpy/default.asp"
   ]
  },
  {
   "cell_type": "markdown",
   "metadata": {
    "id": "atjTXbjhVtMM"
   },
   "source": [
    "##### Sample"
   ]
  },
  {
   "cell_type": "markdown",
   "metadata": {
    "id": "zMq9me-sYQq8"
   },
   "source": [
    "numpy array นั้นมี requirements ที่มากกว่าของ array ปกติ เนื่องจากหากกำหนดให้ข้อมูลภายในนั้นเป็นชนิดใดก็ตามแล้ว ภายใน array นั้น ๆ จะต้องมีข้อมูลชนิดนั้นเท่านั้น เช่น ต้องเป็นตัวอักษรทั้งหมด หรือต้องเป็นตัวเลขทั้งหมด แต่ความยุ่งยากนี้แลกมากับความเร็วในการทำงานที่มากขึ้น ดังตัวอย่างด้านล่าง"
   ]
  },
  {
   "cell_type": "code",
   "execution_count": 2,
   "metadata": {
    "colab": {
     "base_uri": "https://localhost:8080/"
    },
    "executionInfo": {
     "elapsed": 29,
     "status": "ok",
     "timestamp": 1750171607406,
     "user": {
      "displayName": "Nattawut Chayauam",
      "userId": "02605944594835988637"
     },
     "user_tz": -420
    },
    "id": "LG5RqNwVZ4dZ",
    "outputId": "f2cf5ce1-10ab-42c3-96e4-6086ccddc06a"
   },
   "outputs": [
    {
     "name": "stdout",
     "output_type": "stream",
     "text": [
      "Python list time: 0.005767345428466797 seconds\n",
      "Python result: [9, 10, 4, 3, 6, 11, 7, 4, 17, 7, 4, 14, 9, 3, 7, 6, 7, 14, 8, 11]\n",
      "------------------------------\n",
      "NumPy array time: 0.0004220008850097656 seconds\n",
      "NumPy result: [ 9 10  4 ...  9  9  5]\n",
      "is equal : True\n"
     ]
    }
   ],
   "source": [
    "import numpy as np\n",
    "import time\n",
    "\n",
    "size = 100_000\n",
    "\n",
    "list1 = np.random.randint(0, 10, size).tolist()\n",
    "list2 = np.random.randint(0, 10, size).tolist()\n",
    "\n",
    "array1 = np.array(list1)\n",
    "array2 = np.array(list2)\n",
    "\n",
    "start_time = time.time()\n",
    "result_list = [list1[i] + list2[i] for i in range(size)]\n",
    "list_time = time.time() - start_time\n",
    "\n",
    "start_time = time.time()\n",
    "result_array = array1 + array2\n",
    "numpy_time = time.time() - start_time\n",
    "\n",
    "results_equal = result_list == result_array.tolist()\n",
    "\n",
    "print(\"Python list time:\", list_time, \"seconds\")\n",
    "print(\"Python result:\", result_list[:20])\n",
    "print(\"-\"*30)\n",
    "print(\"NumPy array time:\", numpy_time, \"seconds\")\n",
    "print(\"NumPy result:\", result_array)\n",
    "print(\"is equal :\", results_equal)"
   ]
  },
  {
   "cell_type": "code",
   "execution_count": 3,
   "metadata": {
    "executionInfo": {
     "elapsed": 4,
     "status": "ok",
     "timestamp": 1750171607413,
     "user": {
      "displayName": "Nattawut Chayauam",
      "userId": "02605944594835988637"
     },
     "user_tz": -420
    },
    "id": "3ATYjnGYVtMM"
   },
   "outputs": [],
   "source": [
    "arr = [1, 2, 3, 4, 5]"
   ]
  },
  {
   "cell_type": "code",
   "execution_count": 4,
   "metadata": {
    "colab": {
     "base_uri": "https://localhost:8080/"
    },
    "executionInfo": {
     "elapsed": 25,
     "status": "ok",
     "timestamp": 1750171607437,
     "user": {
      "displayName": "Nattawut Chayauam",
      "userId": "02605944594835988637"
     },
     "user_tz": -420
    },
    "id": "xs41YKQfVtMO",
    "outputId": "e3d605d1-b735-42ce-b15d-5f073a7aae29"
   },
   "outputs": [
    {
     "data": {
      "text/plain": [
       "array([1, 2, 3, 4, 5])"
      ]
     },
     "execution_count": 4,
     "metadata": {},
     "output_type": "execute_result"
    }
   ],
   "source": [
    "arr = np.array(arr)\n",
    "arr"
   ]
  },
  {
   "cell_type": "code",
   "execution_count": 5,
   "metadata": {
    "colab": {
     "base_uri": "https://localhost:8080/"
    },
    "executionInfo": {
     "elapsed": 12,
     "status": "ok",
     "timestamp": 1750171607439,
     "user": {
      "displayName": "Nattawut Chayauam",
      "userId": "02605944594835988637"
     },
     "user_tz": -420
    },
    "id": "56Xm2ozTVtMO",
    "outputId": "84aeae89-b992-4266-dbfb-6d094312e031"
   },
   "outputs": [
    {
     "name": "stdout",
     "output_type": "stream",
     "text": [
      "2.3.1\n"
     ]
    }
   ],
   "source": [
    "print(np.__version__)"
   ]
  },
  {
   "cell_type": "markdown",
   "metadata": {
    "id": "AU5-RSCSVtMP"
   },
   "source": [
    "##### Creating arrays"
   ]
  },
  {
   "cell_type": "code",
   "execution_count": 6,
   "metadata": {
    "colab": {
     "base_uri": "https://localhost:8080/"
    },
    "executionInfo": {
     "elapsed": 16,
     "status": "ok",
     "timestamp": 1750171607457,
     "user": {
      "displayName": "Nattawut Chayauam",
      "userId": "02605944594835988637"
     },
     "user_tz": -420
    },
    "id": "Bwma4AeCVtMP",
    "outputId": "b2e70b6c-71b7-49a5-85f9-df68374f6cfc"
   },
   "outputs": [
    {
     "name": "stdout",
     "output_type": "stream",
     "text": [
      "42 ()\n"
     ]
    }
   ],
   "source": [
    "# 0-D == scalar value (Only value, none of matrix)\n",
    "arr = np.array(42)\n",
    "print(arr, arr.shape)"
   ]
  },
  {
   "cell_type": "code",
   "execution_count": 7,
   "metadata": {
    "colab": {
     "base_uri": "https://localhost:8080/"
    },
    "executionInfo": {
     "elapsed": 12,
     "status": "ok",
     "timestamp": 1750171607465,
     "user": {
      "displayName": "Nattawut Chayauam",
      "userId": "02605944594835988637"
     },
     "user_tz": -420
    },
    "id": "jrRUR9mkVtMP",
    "outputId": "a6584948-12b3-4f41-c611-a2b91e3805a8"
   },
   "outputs": [
    {
     "name": "stdout",
     "output_type": "stream",
     "text": [
      "[3 2] (2,)\n"
     ]
    }
   ],
   "source": [
    "# 1-D = Only H or W vector array (Only Height or Width)\n",
    "arr = np.array([3, 2])\n",
    "print(arr, arr.shape)"
   ]
  },
  {
   "cell_type": "code",
   "execution_count": 8,
   "metadata": {
    "colab": {
     "base_uri": "https://localhost:8080/"
    },
    "executionInfo": {
     "elapsed": 26,
     "status": "ok",
     "timestamp": 1750171607493,
     "user": {
      "displayName": "Nattawut Chayauam",
      "userId": "02605944594835988637"
     },
     "user_tz": -420
    },
    "id": "lDiY0q-0VtMQ",
    "outputId": "3c6a3af9-85c6-4547-9dad-8a269fc5e462"
   },
   "outputs": [
    {
     "name": "stdout",
     "output_type": "stream",
     "text": [
      "[[1 0 1]\n",
      " [3 4 1]] (2, 3)\n"
     ]
    }
   ],
   "source": [
    "# 2-D == H x W matrix array (Height x Width))\n",
    "arr = np.array([[1, 0, 1], [3, 4, 1]])\n",
    "print(arr, arr.shape)"
   ]
  },
  {
   "cell_type": "code",
   "execution_count": 9,
   "metadata": {
    "colab": {
     "base_uri": "https://localhost:8080/"
    },
    "executionInfo": {
     "elapsed": 50,
     "status": "ok",
     "timestamp": 1750171607526,
     "user": {
      "displayName": "Nattawut Chayauam",
      "userId": "02605944594835988637"
     },
     "user_tz": -420
    },
    "id": "gXa5hs7bVtMQ",
    "outputId": "ac5a9162-8c83-4c0a-cd14-60414658e46a"
   },
   "outputs": [
    {
     "name": "stdout",
     "output_type": "stream",
     "text": [
      "[[[1 7 9]\n",
      "  [5 9 3]\n",
      "  [7 9 9]]\n",
      "\n",
      " [[1 2 3]\n",
      "  [4 5 6]\n",
      "  [7 8 9]]] (2, 3, 3)\n"
     ]
    }
   ],
   "source": [
    "# 3-D == D x H x W matrix array (Deep x Height x Width)\n",
    "arr = np.array([[[1, 7, 9], [5, 9, 3], [7, 9, 9]], [[1, 2, 3], [4, 5, 6], [7, 8, 9]]])\n",
    "print(arr, arr.shape)"
   ]
  },
  {
   "cell_type": "markdown",
   "metadata": {
    "id": "AH2LMRlUVtMQ"
   },
   "source": [
    "![Sample_arrays.png](attachment:Sample_arrays.png)"
   ]
  },
  {
   "cell_type": "markdown",
   "metadata": {
    "id": "nEsmMx0pVtMQ"
   },
   "source": [
    "Array Elements and Indexing"
   ]
  },
  {
   "cell_type": "code",
   "execution_count": 10,
   "metadata": {
    "colab": {
     "base_uri": "https://localhost:8080/"
    },
    "executionInfo": {
     "elapsed": 20,
     "status": "ok",
     "timestamp": 1750171607547,
     "user": {
      "displayName": "Nattawut Chayauam",
      "userId": "02605944594835988637"
     },
     "user_tz": -420
    },
    "id": "MV3rB_m8VtMR",
    "outputId": "9bac9e58-bc75-465e-c10f-beb49828fc18"
   },
   "outputs": [
    {
     "name": "stdout",
     "output_type": "stream",
     "text": [
      "1\n",
      "2\n",
      "7\n",
      "----------\n",
      "1-d Shape : (4,)\n"
     ]
    }
   ],
   "source": [
    "# 1-D (4 width)\n",
    "arr = np.array([1, 2, 3, 4])\n",
    "print(arr[0])\n",
    "print(arr[1])\n",
    "print(arr[2] + arr[3])\n",
    "print(\"-\"*10)\n",
    "print(f\"1-d Shape : {arr.shape}\")"
   ]
  },
  {
   "cell_type": "code",
   "execution_count": 11,
   "metadata": {
    "colab": {
     "base_uri": "https://localhost:8080/"
    },
    "executionInfo": {
     "elapsed": 9,
     "status": "ok",
     "timestamp": 1750171607548,
     "user": {
      "displayName": "Nattawut Chayauam",
      "userId": "02605944594835988637"
     },
     "user_tz": -420
    },
    "id": "LXRfnW6GVtMR",
    "outputId": "13f3a787-d508-4326-b63b-9cc88f42e5b0"
   },
   "outputs": [
    {
     "name": "stdout",
     "output_type": "stream",
     "text": [
      "2nd element on 1st row:  2\n",
      "5th element on 2nd row:  10\n",
      "Optional: 5th element on 2nd row:  10\n",
      "Sum of 1st element on 1st row and 4th element on 2nd row:  10\n",
      "----------\n",
      "2-d Shape : (2, 5)\n"
     ]
    }
   ],
   "source": [
    "# 2-D (5 width x 2 height)\n",
    "arr = np.array([[1,2,3,4,5], [6,7,8,9,10]])\n",
    "print('2nd element on 1st row: ', arr[0, 1])\n",
    "print('5th element on 2nd row: ', arr[1, 4])\n",
    "print('Optional: 5th element on 2nd row: ', arr[1, -1])\n",
    "print('Sum of 1st element on 1st row and 4th element on 2nd row: ', arr[0, 0]+arr[1, 3])\n",
    "print(\"-\"*10)\n",
    "print(f\"2-d Shape : {arr.shape}\")"
   ]
  },
  {
   "cell_type": "code",
   "execution_count": 12,
   "metadata": {
    "colab": {
     "base_uri": "https://localhost:8080/"
    },
    "executionInfo": {
     "elapsed": 7,
     "status": "ok",
     "timestamp": 1750171607553,
     "user": {
      "displayName": "Nattawut Chayauam",
      "userId": "02605944594835988637"
     },
     "user_tz": -420
    },
    "id": "sjwkzZdCVtMR",
    "outputId": "2ecca2b8-e2d0-403a-b73d-2a25b2bb0bec"
   },
   "outputs": [
    {
     "name": "stdout",
     "output_type": "stream",
     "text": [
      "Last element from 1st matrix:  6\n",
      "First element from 1st matrix:  7\n",
      "Last row from 2nd matrix:  [10 11 12]\n",
      "First row from 1st matrix:  [1 2 3]\n",
      "1st matrix: \n",
      " [[1 2 3]\n",
      " [4 5 6]]\n",
      "2nd matrix: \n",
      " [[ 7  8  9]\n",
      " [10 11 12]]\n"
     ]
    }
   ],
   "source": [
    "# 3-D (2 depth x 3 width x 2 height)\n",
    "arr = np.array([[[1, 2, 3], [4, 5, 6]], [[7, 8, 9], [10, 11, 12]]])\n",
    "print('Last element from 1st matrix: ', arr[0, 1, 2])\n",
    "print('First element from 1st matrix: ', arr[1, 0, 0])\n",
    "print('Last row from 2nd matrix: ', arr[1, -1])\n",
    "print('First row from 1st matrix: ', arr[0, 0])\n",
    "print('1st matrix: \\n', arr[0])\n",
    "print('2nd matrix: \\n', arr[1])"
   ]
  },
  {
   "cell_type": "markdown",
   "metadata": {
    "id": "K6yS8cawVtMR"
   },
   "source": [
    "##### Array Slicing"
   ]
  },
  {
   "cell_type": "code",
   "execution_count": 13,
   "metadata": {
    "colab": {
     "base_uri": "https://localhost:8080/"
    },
    "executionInfo": {
     "elapsed": 6,
     "status": "ok",
     "timestamp": 1750171607560,
     "user": {
      "displayName": "Nattawut Chayauam",
      "userId": "02605944594835988637"
     },
     "user_tz": -420
    },
    "id": "ZOhytYxnVtMR",
    "outputId": "901e10a5-5ab8-483c-e419-cdecfeb550a5"
   },
   "outputs": [
    {
     "name": "stdout",
     "output_type": "stream",
     "text": [
      "Indexing order\n",
      "[2 3 4 5]\n",
      "[6 7]\n",
      "[4 5 6 7]\n",
      "[1 2 3 4]\n"
     ]
    }
   ],
   "source": [
    "# 1-D\n",
    "arr = np.array([1, 2, 3, 4, 5, 6, 7])\n",
    "\n",
    "print(\"Indexing order\")\n",
    "print(arr[1:5])\n",
    "print(arr[5:7])\n",
    "print(arr[3: ])\n",
    "print(arr[ :4])"
   ]
  },
  {
   "cell_type": "code",
   "execution_count": 14,
   "metadata": {
    "colab": {
     "base_uri": "https://localhost:8080/"
    },
    "executionInfo": {
     "elapsed": 7,
     "status": "ok",
     "timestamp": 1750171607568,
     "user": {
      "displayName": "Nattawut Chayauam",
      "userId": "02605944594835988637"
     },
     "user_tz": -420
    },
    "id": "PLDU9GJcVtMR",
    "outputId": "643c7be5-0d7b-43a5-b5a4-33330998a584"
   },
   "outputs": [
    {
     "name": "stdout",
     "output_type": "stream",
     "text": [
      "Indexing reversed order (minus operation)\n",
      "[3 4 5 6]\n",
      "[5 6]\n"
     ]
    }
   ],
   "source": [
    "print(\"Indexing reversed order (minus operation)\")\n",
    "print(arr[2:-1])\n",
    "print(arr[-3:-1])"
   ]
  },
  {
   "cell_type": "code",
   "execution_count": 15,
   "metadata": {
    "colab": {
     "base_uri": "https://localhost:8080/"
    },
    "executionInfo": {
     "elapsed": 9,
     "status": "ok",
     "timestamp": 1750171607578,
     "user": {
      "displayName": "Nattawut Chayauam",
      "userId": "02605944594835988637"
     },
     "user_tz": -420
    },
    "id": "SIkTlT-GVtMS",
    "outputId": "197e1142-3a95-4dcd-84f1-4a6f5298351c"
   },
   "outputs": [
    {
     "name": "stdout",
     "output_type": "stream",
     "text": [
      "Indexing skip order\n",
      "[1 2 3 4 5 6 7]\n",
      "[1 3 5 7]\n",
      "Indexing skip order/normal operation\n",
      "[4 5 6 7]\n",
      "[2 4]\n",
      "Indexing skip order/minus-reversed operation\n",
      "[1 3 5]\n",
      "[4 6]\n"
     ]
    }
   ],
   "source": [
    "print(\"Indexing skip order\")\n",
    "print(arr[::1])\n",
    "print(arr[::2])\n",
    "print(\"Indexing skip order/normal operation\")\n",
    "print(arr[3::1])\n",
    "print(arr[1:5:2])\n",
    "print(\"Indexing skip order/minus-reversed operation\")\n",
    "print(arr[:-1:2])\n",
    "print(arr[-4:-1:2])"
   ]
  },
  {
   "cell_type": "code",
   "execution_count": 16,
   "metadata": {
    "colab": {
     "base_uri": "https://localhost:8080/"
    },
    "executionInfo": {
     "elapsed": 8,
     "status": "ok",
     "timestamp": 1750171607584,
     "user": {
      "displayName": "Nattawut Chayauam",
      "userId": "02605944594835988637"
     },
     "user_tz": -420
    },
    "id": "Z3jDxSEUVtMS",
    "outputId": "e4550050-ddfd-49ad-bba9-933bc4da4f05"
   },
   "outputs": [
    {
     "name": "stdout",
     "output_type": "stream",
     "text": [
      "Indexing order\n",
      "[7 8 9]\n",
      "[3 8]\n",
      "[[2 3 4]\n",
      " [7 8 9]]\n"
     ]
    }
   ],
   "source": [
    "# 2-D\n",
    "arr = np.array([[1, 2, 3, 4, 5], [6, 7, 8, 9, 10]])\n",
    "\n",
    "print(\"Indexing order\")\n",
    "print(arr[1, 1:4])\n",
    "print(arr[0:2, 2])\n",
    "print(arr[0:2, 1:4])"
   ]
  },
  {
   "cell_type": "markdown",
   "metadata": {
    "id": "UrqSRBdjVtMS"
   },
   "source": [
    "##### Data Types\n",
    "\n",
    "i - integer\\\n",
    "b - boolean\\\n",
    "u - unsigned integer\\\n",
    "f - float\\\n",
    "c - complex float\\\n",
    "m - timedelta\\\n",
    "M - datetime\\\n",
    "O - object\\\n",
    "S - string\\\n",
    "U - unicode string\\\n",
    "V - fixed chunk of memory for other type ( void )"
   ]
  },
  {
   "cell_type": "code",
   "execution_count": 17,
   "metadata": {
    "colab": {
     "base_uri": "https://localhost:8080/"
    },
    "executionInfo": {
     "elapsed": 9,
     "status": "ok",
     "timestamp": 1750171607594,
     "user": {
      "displayName": "Nattawut Chayauam",
      "userId": "02605944594835988637"
     },
     "user_tz": -420
    },
    "id": "nlX8XGfsVtMS",
    "outputId": "0600bd3d-5fa5-4e56-d4a0-02a52f4c4768"
   },
   "outputs": [
    {
     "name": "stdout",
     "output_type": "stream",
     "text": [
      "int64\n"
     ]
    }
   ],
   "source": [
    "# integer\n",
    "arr = np.array([1, 2, 3, 4])\n",
    "print(arr.dtype)"
   ]
  },
  {
   "cell_type": "code",
   "execution_count": 18,
   "metadata": {
    "colab": {
     "base_uri": "https://localhost:8080/"
    },
    "executionInfo": {
     "elapsed": 6,
     "status": "ok",
     "timestamp": 1750171607601,
     "user": {
      "displayName": "Nattawut Chayauam",
      "userId": "02605944594835988637"
     },
     "user_tz": -420
    },
    "id": "ort9boB_VtMS",
    "outputId": "1474a9b9-c587-4ab6-a676-c72768b7787a"
   },
   "outputs": [
    {
     "name": "stdout",
     "output_type": "stream",
     "text": [
      "float64\n"
     ]
    }
   ],
   "source": [
    "# float\n",
    "arr = np.array([1., 2.5, 3.0, 4.2345697789])\n",
    "print(arr.dtype)"
   ]
  },
  {
   "cell_type": "code",
   "execution_count": 19,
   "metadata": {
    "colab": {
     "base_uri": "https://localhost:8080/"
    },
    "executionInfo": {
     "elapsed": 7,
     "status": "ok",
     "timestamp": 1750171607609,
     "user": {
      "displayName": "Nattawut Chayauam",
      "userId": "02605944594835988637"
     },
     "user_tz": -420
    },
    "id": "I9eISuReVtMS",
    "outputId": "098a7bfb-9962-41de-bfec-f699477346aa"
   },
   "outputs": [
    {
     "name": "stdout",
     "output_type": "stream",
     "text": [
      "<U6\n"
     ]
    }
   ],
   "source": [
    "# strings\n",
    "arr = np.array(['apple', 'banana', 'cherry'])\n",
    "print(arr.dtype)"
   ]
  },
  {
   "cell_type": "code",
   "execution_count": 20,
   "metadata": {
    "colab": {
     "base_uri": "https://localhost:8080/"
    },
    "executionInfo": {
     "elapsed": 8,
     "status": "ok",
     "timestamp": 1750171607618,
     "user": {
      "displayName": "Nattawut Chayauam",
      "userId": "02605944594835988637"
     },
     "user_tz": -420
    },
    "id": "wF7bXbJxVtMS",
    "outputId": "1702674c-0bff-4772-dc2d-57612231a01f"
   },
   "outputs": [
    {
     "name": "stdout",
     "output_type": "stream",
     "text": [
      "[b'1' b'2' b'3' b'4']\n",
      "|S1\n"
     ]
    }
   ],
   "source": [
    "# string\n",
    "arr = np.array([1, 2, 3, 4], dtype='S')\n",
    "print(arr)\n",
    "print(arr.dtype)"
   ]
  },
  {
   "cell_type": "code",
   "execution_count": 21,
   "metadata": {
    "colab": {
     "base_uri": "https://localhost:8080/"
    },
    "executionInfo": {
     "elapsed": 32,
     "status": "ok",
     "timestamp": 1750171607651,
     "user": {
      "displayName": "Nattawut Chayauam",
      "userId": "02605944594835988637"
     },
     "user_tz": -420
    },
    "id": "Ax7mu-GKVtMT",
    "outputId": "f7d3619a-cf75-4c72-d033-69d36b39ff60"
   },
   "outputs": [
    {
     "name": "stdout",
     "output_type": "stream",
     "text": [
      "[1 2 3 4]\n",
      "int32\n"
     ]
    }
   ],
   "source": [
    "# 4 bytes integer\n",
    "arr = np.array([1, 2, 3, 4], dtype='i4')\n",
    "print(arr)\n",
    "print(arr.dtype)"
   ]
  },
  {
   "cell_type": "code",
   "execution_count": 22,
   "metadata": {
    "colab": {
     "base_uri": "https://localhost:8080/"
    },
    "executionInfo": {
     "elapsed": 11,
     "status": "ok",
     "timestamp": 1750171607664,
     "user": {
      "displayName": "Nattawut Chayauam",
      "userId": "02605944594835988637"
     },
     "user_tz": -420
    },
    "id": "zcaGdYl_VtMT",
    "outputId": "3bb9ed7b-a4a2-48f1-c3c0-43e651386b9b"
   },
   "outputs": [
    {
     "name": "stdout",
     "output_type": "stream",
     "text": [
      "[1 2 3]\n",
      "int32\n"
     ]
    }
   ],
   "source": [
    "# conversion\n",
    "# 1st: float-to-int\n",
    "arr = np.array([1.1, 2.1, 3.9])\n",
    "newarr = arr.astype('i')\n",
    "print(newarr)\n",
    "print(newarr.dtype)"
   ]
  },
  {
   "cell_type": "code",
   "execution_count": 23,
   "metadata": {
    "colab": {
     "base_uri": "https://localhost:8080/"
    },
    "executionInfo": {
     "elapsed": 8,
     "status": "ok",
     "timestamp": 1750171607673,
     "user": {
      "displayName": "Nattawut Chayauam",
      "userId": "02605944594835988637"
     },
     "user_tz": -420
    },
    "id": "5zEkQIovVtMT",
    "outputId": "264e86c4-3994-4d51-e490-1d506f132c24"
   },
   "outputs": [
    {
     "name": "stdout",
     "output_type": "stream",
     "text": [
      "[1 2 3]\n",
      "int64\n"
     ]
    }
   ],
   "source": [
    "# 2nd: float-to-int\n",
    "arr = np.array([1.1, 2.1, 3.9])\n",
    "newarr = arr.astype(int)\n",
    "print(newarr)\n",
    "print(newarr.dtype)"
   ]
  },
  {
   "cell_type": "code",
   "execution_count": 24,
   "metadata": {
    "colab": {
     "base_uri": "https://localhost:8080/"
    },
    "executionInfo": {
     "elapsed": 6,
     "status": "ok",
     "timestamp": 1750171607682,
     "user": {
      "displayName": "Nattawut Chayauam",
      "userId": "02605944594835988637"
     },
     "user_tz": -420
    },
    "id": "f-can6VOVtMT",
    "outputId": "72808b8f-a0f8-427a-da4a-33c519a26db7"
   },
   "outputs": [
    {
     "name": "stdout",
     "output_type": "stream",
     "text": [
      "[ True False  True]\n",
      "bool\n"
     ]
    }
   ],
   "source": [
    "# int-to-bool\n",
    "arr = np.array([1, 0, -3])\n",
    "newarr = arr.astype(bool)\n",
    "print(newarr)\n",
    "print(newarr.dtype)"
   ]
  },
  {
   "cell_type": "markdown",
   "metadata": {
    "id": "WpKxnw95VtMT"
   },
   "source": [
    "##### Array Copying"
   ]
  },
  {
   "cell_type": "code",
   "execution_count": 25,
   "metadata": {
    "colab": {
     "base_uri": "https://localhost:8080/"
    },
    "executionInfo": {
     "elapsed": 5,
     "status": "ok",
     "timestamp": 1750171607688,
     "user": {
      "displayName": "Nattawut Chayauam",
      "userId": "02605944594835988637"
     },
     "user_tz": -420
    },
    "id": "QgicRq6wVtMT",
    "outputId": "b439d587-7ad5-48ac-e8a4-3d3b6a32e359"
   },
   "outputs": [
    {
     "name": "stdout",
     "output_type": "stream",
     "text": [
      "[42  2  3  4  5]\n",
      "[1 2 3 4 5]\n"
     ]
    }
   ],
   "source": [
    "# copy (pass by value)\n",
    "arr = np.array([1, 2, 3, 4, 5])\n",
    "x = arr.copy()\n",
    "arr[0] = 42\n",
    "print(arr)\n",
    "print(x)"
   ]
  },
  {
   "cell_type": "markdown",
   "metadata": {
    "id": "cdCUgXJvg0Jd"
   },
   "source": [
    ".view() ใช้บ่อย จำไว้ให้ดี"
   ]
  },
  {
   "cell_type": "code",
   "execution_count": 26,
   "metadata": {
    "colab": {
     "base_uri": "https://localhost:8080/"
    },
    "executionInfo": {
     "elapsed": 13,
     "status": "ok",
     "timestamp": 1750171607702,
     "user": {
      "displayName": "Nattawut Chayauam",
      "userId": "02605944594835988637"
     },
     "user_tz": -420
    },
    "id": "gulNRa0-VtMT",
    "outputId": "99f727fc-97f5-4a5a-95e6-6977d5a192ca"
   },
   "outputs": [
    {
     "name": "stdout",
     "output_type": "stream",
     "text": [
      "[42  2  3  4  5]\n",
      "[42  2  3  4  5]\n"
     ]
    }
   ],
   "source": [
    "# view (pass by reference)\n",
    "arr = np.array([1, 2, 3, 4, 5])\n",
    "x = arr.view()\n",
    "arr[0] = 42\n",
    "print(arr)\n",
    "print(x)"
   ]
  },
  {
   "cell_type": "markdown",
   "metadata": {
    "id": "QNsWyv7VVtMU"
   },
   "source": [
    "##### Shape and reshape"
   ]
  },
  {
   "cell_type": "code",
   "execution_count": 27,
   "metadata": {
    "colab": {
     "base_uri": "https://localhost:8080/"
    },
    "executionInfo": {
     "elapsed": 7,
     "status": "ok",
     "timestamp": 1750171607703,
     "user": {
      "displayName": "Nattawut Chayauam",
      "userId": "02605944594835988637"
     },
     "user_tz": -420
    },
    "id": "2WnD_q-MVtMU",
    "outputId": "204acdc7-66ee-466f-c02b-dc2623c1298c"
   },
   "outputs": [
    {
     "name": "stdout",
     "output_type": "stream",
     "text": [
      "[1 2 3 4]\n",
      "pre-shape of array with added dimension: (4,)\n",
      "\n",
      "\n",
      "\n",
      "\n",
      "[[[[[1 2 3 4]]]]]\n",
      "pre-shape of array with added dimension: (1, 1, 1, 1, 4)\n"
     ]
    }
   ],
   "source": [
    "# Shape\n",
    "arr = np.array([1, 2, 3, 4])\n",
    "print(arr)\n",
    "print('pre-shape of array with added dimension:', arr.shape)\n",
    "print('\\n'*3)\n",
    "arr = np.array([1, 2, 3, 4], ndmin=5)\n",
    "print(arr)\n",
    "print('pre-shape of array with added dimension:', arr.shape)"
   ]
  },
  {
   "cell_type": "code",
   "execution_count": 28,
   "metadata": {
    "colab": {
     "base_uri": "https://localhost:8080/"
    },
    "executionInfo": {
     "elapsed": 6,
     "status": "ok",
     "timestamp": 1750171607710,
     "user": {
      "displayName": "Nattawut Chayauam",
      "userId": "02605944594835988637"
     },
     "user_tz": -420
    },
    "id": "6NCIR902VtMU",
    "outputId": "56e20ffc-98bb-4e80-bb6a-3399f8839913"
   },
   "outputs": [
    {
     "name": "stdout",
     "output_type": "stream",
     "text": [
      "[ 1  2  3  4  5  6  7  8  9 10 11 12] (12,)\n",
      "------------------------------\n",
      "row-major\n",
      "[[ 1  2  3]\n",
      " [ 4  5  6]\n",
      " [ 7  8  9]\n",
      " [10 11 12]] (4, 3)\n",
      "------------------------------\n",
      "column-major\n",
      "[[ 1  5  9]\n",
      " [ 2  6 10]\n",
      " [ 3  7 11]\n",
      " [ 4  8 12]] (4, 3)\n"
     ]
    }
   ],
   "source": [
    "# Reshape 1-D to 2-D\n",
    "# order = 'C' => row-major (default)\n",
    "# order = 'F' => column-major\n",
    "\n",
    "arr = np.array([1, 2, 3, 4, 5, 6, 7, 8, 9, 10, 11, 12])\n",
    "print(arr, arr.shape)\n",
    "print('-'*30)\n",
    "print('row-major')\n",
    "newarrC = arr.reshape((4, 3),order = 'C')\n",
    "print(newarrC, newarrC.shape)\n",
    "print('-'*30)\n",
    "print('column-major')\n",
    "newarrA = arr.reshape((4, 3),order = 'F')\n",
    "print(newarrA, newarrA.shape)"
   ]
  },
  {
   "cell_type": "code",
   "execution_count": 29,
   "metadata": {
    "colab": {
     "base_uri": "https://localhost:8080/"
    },
    "executionInfo": {
     "elapsed": 11,
     "status": "ok",
     "timestamp": 1750171607723,
     "user": {
      "displayName": "Nattawut Chayauam",
      "userId": "02605944594835988637"
     },
     "user_tz": -420
    },
    "id": "ncMAMeQCVtMU",
    "outputId": "5f06789f-f9c4-465b-f540-672232a6f068"
   },
   "outputs": [
    {
     "name": "stdout",
     "output_type": "stream",
     "text": [
      "[[[ 1  2]\n",
      "  [ 3  4]\n",
      "  [ 5  6]]\n",
      "\n",
      " [[ 7  8]\n",
      "  [ 9 10]\n",
      "  [11 12]]] (2, 3, 2)\n"
     ]
    }
   ],
   "source": [
    "# Reshape 1-D to 3-D\n",
    "# .reshape(2, 3, 2) (2 chanel, 3 h, 2 w)\n",
    "arr = np.array([1, 2, 3, 4, 5, 6, 7, 8, 9, 10, 11, 12])\n",
    "newarr = arr.reshape(2, 3, 2)\n",
    "print(newarr, newarr.shape)"
   ]
  },
  {
   "cell_type": "code",
   "execution_count": 30,
   "metadata": {
    "colab": {
     "base_uri": "https://localhost:8080/"
    },
    "executionInfo": {
     "elapsed": 20,
     "status": "ok",
     "timestamp": 1750171607746,
     "user": {
      "displayName": "Nattawut Chayauam",
      "userId": "02605944594835988637"
     },
     "user_tz": -420
    },
    "id": "j_QgYnnxVtMU",
    "outputId": "39b4bd3d-9fa7-4b1a-eb16-bdf88bbde316"
   },
   "outputs": [
    {
     "name": "stdout",
     "output_type": "stream",
     "text": [
      "[[[1 2]\n",
      "  [3 4]]\n",
      "\n",
      " [[5 6]\n",
      "  [7 8]]] (2, 2, 2)\n"
     ]
    }
   ],
   "source": [
    "# Use -1 to let NumPy automatically calculate the size of this dimension\n",
    "arr = np.array([1, 2, 3, 4, 5, 6, 7, 8])\n",
    "newarr = arr.reshape(2, 2, -1)\n",
    "print(newarr, newarr.shape)"
   ]
  },
  {
   "cell_type": "markdown",
   "metadata": {
    "id": "Uz9SiyKMVtMY"
   },
   "source": [
    "##### Iterating Arrays"
   ]
  },
  {
   "cell_type": "markdown",
   "metadata": {
    "id": "2yVKHOhHVtMY"
   },
   "source": [
    "Iterating 2-D Arrays"
   ]
  },
  {
   "cell_type": "code",
   "execution_count": 31,
   "metadata": {
    "colab": {
     "base_uri": "https://localhost:8080/"
    },
    "executionInfo": {
     "elapsed": 13,
     "status": "ok",
     "timestamp": 1750171607747,
     "user": {
      "displayName": "Nattawut Chayauam",
      "userId": "02605944594835988637"
     },
     "user_tz": -420
    },
    "id": "_7k7zk-fVtMZ",
    "outputId": "dec633c7-e718-432e-83cd-e85617f5ec95"
   },
   "outputs": [
    {
     "name": "stdout",
     "output_type": "stream",
     "text": [
      "(2, 3)\n",
      "[1 2 3]\n",
      "----------\n",
      "[4 5 6]\n",
      "----------\n"
     ]
    }
   ],
   "source": [
    "arr = np.array([[1, 2, 3], [4, 5, 6]])\n",
    "print(arr.shape)\n",
    "# print sub-vector (1D) of 2-D array\n",
    "for x in arr:\n",
    "  print(x)\n",
    "  print('-'*10)"
   ]
  },
  {
   "cell_type": "code",
   "execution_count": 32,
   "metadata": {
    "colab": {
     "base_uri": "https://localhost:8080/"
    },
    "executionInfo": {
     "elapsed": 47,
     "status": "ok",
     "timestamp": 1750171607786,
     "user": {
      "displayName": "Nattawut Chayauam",
      "userId": "02605944594835988637"
     },
     "user_tz": -420
    },
    "id": "hDVXtzXEVtMZ",
    "outputId": "56ee135a-2992-46df-a6e6-28eb99c21f99"
   },
   "outputs": [
    {
     "name": "stdout",
     "output_type": "stream",
     "text": [
      "1\n",
      "----------\n",
      "2\n",
      "----------\n",
      "3\n",
      "----------\n",
      "4\n",
      "----------\n",
      "5\n",
      "----------\n",
      "6\n",
      "----------\n"
     ]
    }
   ],
   "source": [
    "# print sub-element (scalar) of sub-array of 2-D array\n",
    "for x in arr:\n",
    "  for y in x:\n",
    "    print(y)\n",
    "    print('-'*10)"
   ]
  },
  {
   "cell_type": "markdown",
   "metadata": {
    "id": "wVdExwgJVtMZ"
   },
   "source": [
    "Iterating 3-D Arrays"
   ]
  },
  {
   "cell_type": "code",
   "execution_count": 33,
   "metadata": {
    "colab": {
     "base_uri": "https://localhost:8080/"
    },
    "executionInfo": {
     "elapsed": 40,
     "status": "ok",
     "timestamp": 1750171607788,
     "user": {
      "displayName": "Nattawut Chayauam",
      "userId": "02605944594835988637"
     },
     "user_tz": -420
    },
    "id": "e4nLg8U8VtMZ",
    "outputId": "0dcea1ed-7a41-4d04-9dc6-891cbc1b3a7f"
   },
   "outputs": [
    {
     "name": "stdout",
     "output_type": "stream",
     "text": [
      "(2, 2, 3)\n",
      "[[1 2 3]\n",
      " [4 5 6]]\n",
      "----------\n",
      "[[ 7  8  9]\n",
      " [10 11 12]]\n",
      "----------\n"
     ]
    }
   ],
   "source": [
    "arr = np.array([[[1, 2, 3], [4, 5, 6]], [[7, 8, 9], [10, 11, 12]]])\n",
    "print(arr.shape)\n",
    "\n",
    "# print sub-matrix (2D) of 3-D array\n",
    "for x in arr:\n",
    "  print(x)\n",
    "  print('-'*10)"
   ]
  },
  {
   "cell_type": "code",
   "execution_count": 34,
   "metadata": {
    "colab": {
     "base_uri": "https://localhost:8080/"
    },
    "executionInfo": {
     "elapsed": 19,
     "status": "ok",
     "timestamp": 1750171607789,
     "user": {
      "displayName": "Nattawut Chayauam",
      "userId": "02605944594835988637"
     },
     "user_tz": -420
    },
    "id": "lJVI3h3hVtMZ",
    "outputId": "64f90cdb-cd93-4eaf-9647-2cd3c3242be3"
   },
   "outputs": [
    {
     "name": "stdout",
     "output_type": "stream",
     "text": [
      "[1 2 3]\n",
      "[4 5 6]\n",
      "[7 8 9]\n",
      "[10 11 12]\n"
     ]
    }
   ],
   "source": [
    "# print sub-vector (1D) of subsub-matrix (2D) of 3-D array\n",
    "for x in arr:\n",
    "  for y in x:\n",
    "    print(y)"
   ]
  },
  {
   "cell_type": "code",
   "execution_count": 35,
   "metadata": {
    "colab": {
     "base_uri": "https://localhost:8080/"
    },
    "executionInfo": {
     "elapsed": 21,
     "status": "ok",
     "timestamp": 1750171607798,
     "user": {
      "displayName": "Nattawut Chayauam",
      "userId": "02605944594835988637"
     },
     "user_tz": -420
    },
    "id": "N7elo0zSVtMZ",
    "outputId": "84902ce7-0c44-4175-a48e-0b1771986264"
   },
   "outputs": [
    {
     "name": "stdout",
     "output_type": "stream",
     "text": [
      "1\n",
      "2\n",
      "3\n",
      "4\n",
      "5\n",
      "6\n",
      "7\n",
      "8\n",
      "9\n",
      "10\n",
      "11\n",
      "12\n"
     ]
    }
   ],
   "source": [
    "# print sub-element (scalar) of sub-vector (1D) of subsub-matrix (2D) of 3-D array\n",
    "for x in arr:\n",
    "  for y in x:\n",
    "    for z in y:\n",
    "      print(z)"
   ]
  },
  {
   "cell_type": "code",
   "execution_count": 36,
   "metadata": {
    "colab": {
     "base_uri": "https://localhost:8080/"
    },
    "executionInfo": {
     "elapsed": 12,
     "status": "ok",
     "timestamp": 1750171607799,
     "user": {
      "displayName": "Nattawut Chayauam",
      "userId": "02605944594835988637"
     },
     "user_tz": -420
    },
    "id": "LfdofGK8VtMa",
    "outputId": "a1741938-6a2b-444c-c51c-66c7d8900bea"
   },
   "outputs": [
    {
     "name": "stdout",
     "output_type": "stream",
     "text": [
      "1\n",
      "2\n",
      "3\n",
      "4\n",
      "5\n",
      "6\n",
      "7\n",
      "8\n"
     ]
    }
   ],
   "source": [
    "#Optional: print sub-element via np.nditer\n",
    "arr = np.array([[[1, 2], [3, 4]], [[5, 6], [7, 8]]])\n",
    "for x in np.nditer(arr):\n",
    "  print(x)"
   ]
  },
  {
   "cell_type": "code",
   "execution_count": 37,
   "metadata": {
    "colab": {
     "base_uri": "https://localhost:8080/"
    },
    "executionInfo": {
     "elapsed": 8,
     "status": "ok",
     "timestamp": 1750171607808,
     "user": {
      "displayName": "Nattawut Chayauam",
      "userId": "02605944594835988637"
     },
     "user_tz": -420
    },
    "id": "dhuMOKNqVtMa",
    "outputId": "0331ffab-8509-4250-f9f3-077f5c6ef2cf"
   },
   "outputs": [
    {
     "name": "stdout",
     "output_type": "stream",
     "text": [
      "np.bytes_(b'1')\n",
      "np.bytes_(b'2')\n",
      "np.bytes_(b'3')\n"
     ]
    }
   ],
   "source": [
    "arr = np.array([1, 2, 3])\n",
    "for x in np.nditer(arr, flags=['buffered'], op_dtypes=['S']):\n",
    "  print(x)"
   ]
  },
  {
   "cell_type": "code",
   "execution_count": 38,
   "metadata": {
    "colab": {
     "base_uri": "https://localhost:8080/"
    },
    "executionInfo": {
     "elapsed": 5,
     "status": "ok",
     "timestamp": 1750171607815,
     "user": {
      "displayName": "Nattawut Chayauam",
      "userId": "02605944594835988637"
     },
     "user_tz": -420
    },
    "id": "mw7RLgT5VtMa",
    "outputId": "83341f37-92b4-45c0-b3f2-c000a7e3cf78"
   },
   "outputs": [
    {
     "name": "stdout",
     "output_type": "stream",
     "text": [
      "1\n",
      "3\n",
      "5\n",
      "7\n"
     ]
    }
   ],
   "source": [
    "arr = np.array([[1, 2, 3, 4], [5, 6, 7, 8]])\n",
    "for x in np.nditer(arr[:,::2]):\n",
    "  print(x)"
   ]
  },
  {
   "cell_type": "code",
   "execution_count": 39,
   "metadata": {
    "colab": {
     "base_uri": "https://localhost:8080/"
    },
    "executionInfo": {
     "elapsed": 5,
     "status": "ok",
     "timestamp": 1750171607822,
     "user": {
      "displayName": "Nattawut Chayauam",
      "userId": "02605944594835988637"
     },
     "user_tz": -420
    },
    "id": "ep9_PpzdVtMa",
    "outputId": "48d1c652-b9cc-4558-e38d-05d9dad58dbe"
   },
   "outputs": [
    {
     "name": "stdout",
     "output_type": "stream",
     "text": [
      "(0,) 1\n",
      "(1,) 2\n",
      "(2,) 3\n",
      "----------\n",
      "(0, 0) 1\n",
      "(0, 1) 2\n",
      "(0, 2) 3\n",
      "(0, 3) 4\n",
      "(1, 0) 5\n",
      "(1, 1) 6\n",
      "(1, 2) 7\n",
      "(1, 3) 8\n"
     ]
    }
   ],
   "source": [
    "arr = np.array([1, 2, 3])\n",
    "for idx, x in np.ndenumerate(arr):\n",
    "  print(idx, x)\n",
    "\n",
    "print('-'*10)\n",
    "arr = np.array([[1, 2, 3, 4], [5, 6, 7, 8]])\n",
    "for idx, x in np.ndenumerate(arr):\n",
    "  print(idx, x)"
   ]
  },
  {
   "cell_type": "markdown",
   "metadata": {
    "id": "UL1GTC6RVtMa"
   },
   "source": [
    "##### Array Concatenation & Stacking"
   ]
  },
  {
   "cell_type": "code",
   "execution_count": 40,
   "metadata": {
    "colab": {
     "base_uri": "https://localhost:8080/"
    },
    "executionInfo": {
     "elapsed": 9,
     "status": "ok",
     "timestamp": 1750171607834,
     "user": {
      "displayName": "Nattawut Chayauam",
      "userId": "02605944594835988637"
     },
     "user_tz": -420
    },
    "id": "nlj7CTdLVtMa",
    "outputId": "8432f138-a3f0-4053-8377-01f5657f24fc"
   },
   "outputs": [
    {
     "name": "stdout",
     "output_type": "stream",
     "text": [
      "[1 2 3 4 5 6] (6,)\n"
     ]
    }
   ],
   "source": [
    "# 1-D concat\n",
    "arr1 = np.array([1, 2, 3])\n",
    "arr2 = np.array([4, 5, 6])\n",
    "arr = np.concatenate((arr1, arr2))\n",
    "print(arr, arr.shape)"
   ]
  },
  {
   "cell_type": "code",
   "execution_count": 41,
   "metadata": {
    "colab": {
     "base_uri": "https://localhost:8080/"
    },
    "executionInfo": {
     "elapsed": 6,
     "status": "ok",
     "timestamp": 1750171607841,
     "user": {
      "displayName": "Nattawut Chayauam",
      "userId": "02605944594835988637"
     },
     "user_tz": -420
    },
    "id": "yeFGU1mSVtMb",
    "outputId": "8c32a1ef-dc6f-4887-935a-b523acf3db15"
   },
   "outputs": [
    {
     "name": "stdout",
     "output_type": "stream",
     "text": [
      "[[1 2 5 6]\n",
      " [3 4 7 8]] (2, 4)\n"
     ]
    }
   ],
   "source": [
    "# 2-D concat\n",
    "arr1 = np.array([[1, 2], [3, 4]])\n",
    "arr2 = np.array([[5, 6], [7, 8]])\n",
    "arr = np.concatenate((arr1, arr2), axis=1)\n",
    "print(arr, arr.shape)"
   ]
  },
  {
   "cell_type": "code",
   "execution_count": 42,
   "metadata": {
    "colab": {
     "base_uri": "https://localhost:8080/"
    },
    "executionInfo": {
     "elapsed": 6,
     "status": "ok",
     "timestamp": 1750171607848,
     "user": {
      "displayName": "Nattawut Chayauam",
      "userId": "02605944594835988637"
     },
     "user_tz": -420
    },
    "id": "s10BJmvBVtMb",
    "outputId": "adf5b02f-35b0-40ff-82a7-e13b4d38bcb1"
   },
   "outputs": [
    {
     "name": "stdout",
     "output_type": "stream",
     "text": [
      "[1 2 3 4 5 6] (6,)\n"
     ]
    }
   ],
   "source": [
    "# 1-D hstack (horizontal stack)\n",
    "arr1 = np.array([1, 2, 3])\n",
    "arr2 = np.array([4, 5, 6])\n",
    "arr = np.hstack((arr1, arr2))\n",
    "print(arr, arr.shape)"
   ]
  },
  {
   "cell_type": "code",
   "execution_count": 43,
   "metadata": {
    "colab": {
     "base_uri": "https://localhost:8080/"
    },
    "executionInfo": {
     "elapsed": 11,
     "status": "ok",
     "timestamp": 1750171607860,
     "user": {
      "displayName": "Nattawut Chayauam",
      "userId": "02605944594835988637"
     },
     "user_tz": -420
    },
    "id": "xi6uY75cVtMb",
    "outputId": "e6a14cdc-0de1-4386-af86-69418de853c5"
   },
   "outputs": [
    {
     "name": "stdout",
     "output_type": "stream",
     "text": [
      "[[1 2 3]\n",
      " [4 5 6]] (2, 3)\n"
     ]
    }
   ],
   "source": [
    "# 1-D vstack (vertical stack)\n",
    "arr1 = np.array([1, 2, 3])\n",
    "arr2 = np.array([4, 5, 6])\n",
    "arr = np.vstack((arr1, arr2))\n",
    "print(arr, arr.shape)"
   ]
  },
  {
   "cell_type": "code",
   "execution_count": 44,
   "metadata": {
    "colab": {
     "base_uri": "https://localhost:8080/"
    },
    "executionInfo": {
     "elapsed": 33,
     "status": "ok",
     "timestamp": 1750171607894,
     "user": {
      "displayName": "Nattawut Chayauam",
      "userId": "02605944594835988637"
     },
     "user_tz": -420
    },
    "id": "yyHnnK0xVtMb",
    "outputId": "f31e83c0-e899-4245-d535-fe22bb25619a"
   },
   "outputs": [
    {
     "name": "stdout",
     "output_type": "stream",
     "text": [
      "[[[1 4]\n",
      "  [2 5]\n",
      "  [3 6]]] (1, 3, 2)\n"
     ]
    }
   ],
   "source": [
    "# 1-D dstack (depth stack)\n",
    "arr1 = np.array([1, 2, 3])\n",
    "arr2 = np.array([4, 5, 6])\n",
    "arr = np.dstack((arr1, arr2))\n",
    "print(arr, arr.shape)"
   ]
  },
  {
   "cell_type": "markdown",
   "metadata": {
    "id": "SRV52qpdVtMc"
   },
   "source": [
    "##### Array Spliting"
   ]
  },
  {
   "cell_type": "code",
   "execution_count": 45,
   "metadata": {
    "colab": {
     "base_uri": "https://localhost:8080/"
    },
    "executionInfo": {
     "elapsed": 30,
     "status": "ok",
     "timestamp": 1750171607896,
     "user": {
      "displayName": "Nattawut Chayauam",
      "userId": "02605944594835988637"
     },
     "user_tz": -420
    },
    "id": "Ne-X-wM1VtMc",
    "outputId": "857ed2fd-4b27-4386-f3dd-bd61f6ae1d8e"
   },
   "outputs": [
    {
     "name": "stdout",
     "output_type": "stream",
     "text": [
      "[array([1, 2]), array([3, 4]), array([5, 6])] (2,)\n"
     ]
    }
   ],
   "source": [
    "# 1-D\n",
    "arr = np.array([1, 2, 3, 4, 5, 6])\n",
    "newarr = np.array_split(arr, 3)\n",
    "print(newarr, newarr[0].shape)"
   ]
  },
  {
   "cell_type": "code",
   "execution_count": 46,
   "metadata": {
    "colab": {
     "base_uri": "https://localhost:8080/"
    },
    "executionInfo": {
     "elapsed": 18,
     "status": "ok",
     "timestamp": 1750171607911,
     "user": {
      "displayName": "Nattawut Chayauam",
      "userId": "02605944594835988637"
     },
     "user_tz": -420
    },
    "id": "S3iPBfNLVtMc",
    "outputId": "532abfc6-f98f-4445-ab7e-c92e1bb8c0d9"
   },
   "outputs": [
    {
     "name": "stdout",
     "output_type": "stream",
     "text": [
      "[array([1, 2]), array([3, 4]), array([5]), array([6])]\n"
     ]
    }
   ],
   "source": [
    "arr = np.array([1, 2, 3, 4, 5, 6])\n",
    "newarr = np.array_split(arr, 4)\n",
    "print(newarr)"
   ]
  },
  {
   "cell_type": "code",
   "execution_count": 47,
   "metadata": {
    "colab": {
     "base_uri": "https://localhost:8080/"
    },
    "executionInfo": {
     "elapsed": 6,
     "status": "ok",
     "timestamp": 1750171607921,
     "user": {
      "displayName": "Nattawut Chayauam",
      "userId": "02605944594835988637"
     },
     "user_tz": -420
    },
    "id": "ZJLfRsnpVtMc",
    "outputId": "da139405-0d8e-4f59-8738-2162d6a270e4"
   },
   "outputs": [
    {
     "name": "stdout",
     "output_type": "stream",
     "text": [
      "[array([[1, 2],\n",
      "       [3, 4]]), array([[5, 6],\n",
      "       [7, 8]]), array([[ 9, 10],\n",
      "       [11, 12]])] (2, 2)\n"
     ]
    }
   ],
   "source": [
    "# 2-D\n",
    "arr = np.array([[1, 2], [3, 4], [5, 6], [7, 8], [9, 10], [11, 12]])\n",
    "newarr = np.array_split(arr, 3)\n",
    "print(newarr, newarr[0].shape)"
   ]
  },
  {
   "cell_type": "code",
   "execution_count": 48,
   "metadata": {
    "colab": {
     "base_uri": "https://localhost:8080/"
    },
    "executionInfo": {
     "elapsed": 12,
     "status": "ok",
     "timestamp": 1750171607935,
     "user": {
      "displayName": "Nattawut Chayauam",
      "userId": "02605944594835988637"
     },
     "user_tz": -420
    },
    "id": "_zTSBFD-VtMc",
    "outputId": "b89fa983-5bbe-4085-963e-434bf2f23362"
   },
   "outputs": [
    {
     "name": "stdout",
     "output_type": "stream",
     "text": [
      "[array([[1, 2, 3],\n",
      "       [4, 5, 6]]), array([[ 7,  8,  9],\n",
      "       [10, 11, 12]]), array([[13, 14, 15],\n",
      "       [16, 17, 18]])] (2, 3)\n"
     ]
    }
   ],
   "source": [
    "arr = np.array([[1, 2, 3], [4, 5, 6], [7, 8, 9], [10, 11, 12], [13, 14, 15], [16, 17, 18]])\n",
    "newarr = np.array_split(arr, 3)\n",
    "print(newarr, newarr[0].shape)"
   ]
  },
  {
   "cell_type": "markdown",
   "metadata": {
    "id": "hG_qnK3WVtMc"
   },
   "source": [
    "# HW1_1\n",
    "\n",
    "1. ``` np.array([[[1, 1, 1], [1, 1, 1]], [[1, 1, 1], [1, 1, 1]]])``` จงหาขนาด Dimension ของมิติที่ข้างต้น\n",
    "\n",
    "2. ```arr = np.array([[[1, 2], [2, 1]], [[3, 2], [2, 3]], [[4, 3], [3, 4]]])``` จงหาผลลัพท์ของ \\\n",
    "  2.1 arr[0, 0, 0] + arr[1, 1, 1] \\\n",
    "  2.2 arr[0] + arr[1]"
   ]
  },
  {
   "cell_type": "code",
   "execution_count": 55,
   "metadata": {
    "executionInfo": {
     "elapsed": 4,
     "status": "ok",
     "timestamp": 1750171607943,
     "user": {
      "displayName": "Nattawut Chayauam",
      "userId": "02605944594835988637"
     },
     "user_tz": -420
    },
    "id": "cVgLr1VxThzC"
   },
   "outputs": [
    {
     "name": "stdout",
     "output_type": "stream",
     "text": [
      "Shape: (2, 2, 3)\n",
      "Number of dimensions: 3\n"
     ]
    }
   ],
   "source": [
    "# ข้อที่ 1\n",
    "# np.array([[[1, 1, 1], [1, 1, 1]], [[1, 1, 1], [1, 1, 1]]]) จงหาขนาด Dimension ของมิติที่ข้างต้น\n",
    "arr = np.array([[[1, 1, 1], [1, 1, 1]], [[1, 1, 1], [1, 1, 1]]])\n",
    "print(f\"Shape: {arr.shape}\")\n",
    "print(f\"Number of dimensions: {arr.ndim}\")\n"
   ]
  },
  {
   "cell_type": "code",
   "execution_count": 59,
   "metadata": {
    "executionInfo": {
     "elapsed": 8,
     "status": "ok",
     "timestamp": 1750171607953,
     "user": {
      "displayName": "Nattawut Chayauam",
      "userId": "02605944594835988637"
     },
     "user_tz": -420
    },
    "id": "5Lgn1bNbTxJ6"
   },
   "outputs": [
    {
     "name": "stdout",
     "output_type": "stream",
     "text": [
      "2.1 arr[0, 0, 0] + arr[1, 1, 1] = 4\n",
      "2.2 arr[0] + arr[1] =\n",
      "Result = \n",
      "[[4 4]\n",
      " [4 4]]\n"
     ]
    }
   ],
   "source": [
    "# ข้อที่ 2 (มี 2 ข้อ)\n",
    "# arr = np.array([[[1, 2], [2, 1]], [[3, 2], [2, 3]], [[4, 3], [3, 4]]]) จงหา\n",
    "# 2.1 arr[0, 0, 0] + arr[1, 1, 1]\n",
    "# 2.2 arr[0] + arr[1]\n",
    "\n",
    "arr = np.array([[[1, 2], [2, 1]], [[3, 2], [2, 3]], [[4, 3], [3, 4]]])\n",
    "\n",
    "# 2.1 arr[0, 0, 0] + arr[1, 1, 1]\n",
    "result_2_1 = arr[0, 0, 0] + arr[1, 1, 1]\n",
    "print(f\"2.1 arr[0, 0, 0] + arr[1, 1, 1] = {result_2_1}\")\n",
    "\n",
    "# 2.2 arr[0] + arr[1]\n",
    "result_2_2 = arr[0] + arr[1]\n",
    "print(\"2.2 arr[0] + arr[1] =\")\n",
    "print(f\"Result = \\n{result_2_2}\")"
   ]
  }
 ],
 "metadata": {
  "colab": {
   "provenance": []
  },
  "kernelspec": {
   "display_name": "Python 3",
   "language": "python",
   "name": "python3"
  },
  "language_info": {
   "codemirror_mode": {
    "name": "ipython",
    "version": 3
   },
   "file_extension": ".py",
   "mimetype": "text/x-python",
   "name": "python",
   "nbconvert_exporter": "python",
   "pygments_lexer": "ipython3",
   "version": "3.13.5"
  }
 },
 "nbformat": 4,
 "nbformat_minor": 0
}

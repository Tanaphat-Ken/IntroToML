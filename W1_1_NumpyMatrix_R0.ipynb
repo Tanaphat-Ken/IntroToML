{
  "cells": [
    {
      "cell_type": "markdown",
      "metadata": {
        "id": "view-in-github",
        "colab_type": "text"
      },
      "source": [
        "<a href=\"https://colab.research.google.com/github/Tanaphat-Ken/IntroToML/blob/main/W1_1_NumpyMatrix_R0.ipynb\" target=\"_parent\"><img src=\"https://colab.research.google.com/assets/colab-badge.svg\" alt=\"Open In Colab\"/></a>"
      ]
    },
    {
      "cell_type": "markdown",
      "metadata": {
        "id": "zAwTPA_5VtMJ"
      },
      "source": [
        "# Numpy Tutorial\n",
        "Ref: https://www.w3schools.com/python/numpy/default.asp"
      ]
    },
    {
      "cell_type": "markdown",
      "metadata": {
        "id": "atjTXbjhVtMM"
      },
      "source": [
        "##### Sample"
      ]
    },
    {
      "cell_type": "markdown",
      "metadata": {
        "id": "zMq9me-sYQq8"
      },
      "source": [
        "numpy array นั้นมี requirements ที่มากกว่าของ array ปกติ เนื่องจากหากกำหนดให้ข้อมูลภายในนั้นเป็นชนิดใดก็ตามแล้ว ภายใน array นั้น ๆ จะต้องมีข้อมูลชนิดนั้นเท่านั้น เช่น ต้องเป็นตัวอักษรทั้งหมด หรือต้องเป็นตัวเลขทั้งหมด แต่ความยุ่งยากนี้แลกมากับความเร็วในการทำงานที่มากขึ้น ดังตัวอย่างด้านล่าง"
      ]
    },
    {
      "cell_type": "code",
      "execution_count": 1,
      "metadata": {
        "colab": {
          "base_uri": "https://localhost:8080/"
        },
        "id": "LG5RqNwVZ4dZ",
        "outputId": "27223f9e-85ca-4ec0-af52-598578985a78"
      },
      "outputs": [
        {
          "output_type": "stream",
          "name": "stdout",
          "text": [
            "Python list time: 0.02554774284362793 seconds\n",
            "Python result: [14, 8, 10, 8, 11, 11, 8, 8, 11, 13, 4, 9, 4, 11, 10, 14, 5, 12, 13, 8]\n",
            "------------------------------\n",
            "NumPy array time: 0.0008058547973632812 seconds\n",
            "NumPy result: [14  8 10 ... 12 15  7]\n",
            "is equal : True\n"
          ]
        }
      ],
      "source": [
        "import numpy as np\n",
        "import time\n",
        "\n",
        "size = 100_000\n",
        "\n",
        "list1 = np.random.randint(0, 10, size).tolist()\n",
        "list2 = np.random.randint(0, 10, size).tolist()\n",
        "\n",
        "array1 = np.array(list1)\n",
        "array2 = np.array(list2)\n",
        "\n",
        "start_time = time.time()\n",
        "result_list = [list1[i] + list2[i] for i in range(size)]\n",
        "list_time = time.time() - start_time\n",
        "\n",
        "start_time = time.time()\n",
        "result_array = array1 + array2\n",
        "numpy_time = time.time() - start_time\n",
        "\n",
        "results_equal = result_list == result_array.tolist()\n",
        "\n",
        "print(\"Python list time:\", list_time, \"seconds\")\n",
        "print(\"Python result:\", result_list[:20])\n",
        "print(\"-\"*30)\n",
        "print(\"NumPy array time:\", numpy_time, \"seconds\")\n",
        "print(\"NumPy result:\", result_array)\n",
        "print(\"is equal :\", results_equal)"
      ]
    },
    {
      "cell_type": "code",
      "execution_count": 2,
      "metadata": {
        "id": "3ATYjnGYVtMM"
      },
      "outputs": [],
      "source": [
        "arr = [1, 2, 3, 4, 5]"
      ]
    },
    {
      "cell_type": "code",
      "execution_count": 3,
      "metadata": {
        "colab": {
          "base_uri": "https://localhost:8080/"
        },
        "id": "xs41YKQfVtMO",
        "outputId": "25bfe232-f677-4b17-f769-80be171995af"
      },
      "outputs": [
        {
          "output_type": "execute_result",
          "data": {
            "text/plain": [
              "array([1, 2, 3, 4, 5])"
            ]
          },
          "metadata": {},
          "execution_count": 3
        }
      ],
      "source": [
        "arr = np.array(arr)\n",
        "arr"
      ]
    },
    {
      "cell_type": "code",
      "execution_count": 4,
      "metadata": {
        "colab": {
          "base_uri": "https://localhost:8080/"
        },
        "id": "56Xm2ozTVtMO",
        "outputId": "97400c3e-d1a9-4272-97e1-aca94def5577"
      },
      "outputs": [
        {
          "output_type": "stream",
          "name": "stdout",
          "text": [
            "2.0.2\n"
          ]
        }
      ],
      "source": [
        "print(np.__version__)"
      ]
    },
    {
      "cell_type": "markdown",
      "metadata": {
        "id": "AU5-RSCSVtMP"
      },
      "source": [
        "##### Creating arrays"
      ]
    },
    {
      "cell_type": "code",
      "execution_count": 5,
      "metadata": {
        "colab": {
          "base_uri": "https://localhost:8080/"
        },
        "id": "Bwma4AeCVtMP",
        "outputId": "f6ed4041-ee05-4a14-d225-d31014ce5696"
      },
      "outputs": [
        {
          "output_type": "stream",
          "name": "stdout",
          "text": [
            "42 ()\n"
          ]
        }
      ],
      "source": [
        "# 0-D == scalar value (Only value, none of matrix)\n",
        "arr = np.array(42)\n",
        "print(arr, arr.shape)"
      ]
    },
    {
      "cell_type": "code",
      "execution_count": 6,
      "metadata": {
        "colab": {
          "base_uri": "https://localhost:8080/"
        },
        "id": "jrRUR9mkVtMP",
        "outputId": "8f9446e9-88ad-409e-b144-fef7abeadf04"
      },
      "outputs": [
        {
          "output_type": "stream",
          "name": "stdout",
          "text": [
            "[3 2] (2,)\n"
          ]
        }
      ],
      "source": [
        "# 1-D = Only H or W vector array (Only Height or Width)\n",
        "arr = np.array([3, 2])\n",
        "print(arr, arr.shape)"
      ]
    },
    {
      "cell_type": "code",
      "execution_count": 7,
      "metadata": {
        "colab": {
          "base_uri": "https://localhost:8080/"
        },
        "id": "lDiY0q-0VtMQ",
        "outputId": "1302f450-e3e5-41f6-8927-e42565002664"
      },
      "outputs": [
        {
          "output_type": "stream",
          "name": "stdout",
          "text": [
            "[[1 0 1]\n",
            " [3 4 1]] (2, 3)\n"
          ]
        }
      ],
      "source": [
        "# 2-D == H x W matrix array (Height x Width))\n",
        "arr = np.array([[1, 0, 1], [3, 4, 1]])\n",
        "print(arr, arr.shape)"
      ]
    },
    {
      "cell_type": "code",
      "execution_count": 8,
      "metadata": {
        "colab": {
          "base_uri": "https://localhost:8080/"
        },
        "id": "gXa5hs7bVtMQ",
        "outputId": "8412e21b-d4a6-43af-815b-47106360bada"
      },
      "outputs": [
        {
          "output_type": "stream",
          "name": "stdout",
          "text": [
            "[[[1 7 9]\n",
            "  [5 9 3]\n",
            "  [7 9 9]]\n",
            "\n",
            " [[1 2 3]\n",
            "  [4 5 6]\n",
            "  [7 8 9]]] (2, 3, 3)\n"
          ]
        }
      ],
      "source": [
        "# 3-D == D x H x W matrix array (Deep x Height x Width)\n",
        "arr = np.array([[[1, 7, 9], [5, 9, 3], [7, 9, 9]], [[1, 2, 3], [4, 5, 6], [7, 8, 9]]])\n",
        "print(arr, arr.shape)"
      ]
    },
    {
      "cell_type": "markdown",
      "metadata": {
        "id": "AH2LMRlUVtMQ"
      },
      "source": [
        "![Sample_arrays.png](attachment:Sample_arrays.png)"
      ]
    },
    {
      "cell_type": "markdown",
      "metadata": {
        "id": "nEsmMx0pVtMQ"
      },
      "source": [
        "Array Elements and Indexing"
      ]
    },
    {
      "cell_type": "code",
      "execution_count": 9,
      "metadata": {
        "colab": {
          "base_uri": "https://localhost:8080/"
        },
        "id": "MV3rB_m8VtMR",
        "outputId": "6d8e0273-7dc4-4c83-e566-38478e0b9806"
      },
      "outputs": [
        {
          "output_type": "stream",
          "name": "stdout",
          "text": [
            "1\n",
            "2\n",
            "7\n",
            "----------\n",
            "1-d Shape : (4,)\n"
          ]
        }
      ],
      "source": [
        "# 1-D (4 width)\n",
        "arr = np.array([1, 2, 3, 4])\n",
        "print(arr[0])\n",
        "print(arr[1])\n",
        "print(arr[2] + arr[3])\n",
        "print(\"-\"*10)\n",
        "print(f\"1-d Shape : {arr.shape}\")"
      ]
    },
    {
      "cell_type": "code",
      "execution_count": 10,
      "metadata": {
        "colab": {
          "base_uri": "https://localhost:8080/"
        },
        "id": "LXRfnW6GVtMR",
        "outputId": "a54324d8-5744-4564-d891-0f06e656b30e"
      },
      "outputs": [
        {
          "output_type": "stream",
          "name": "stdout",
          "text": [
            "2nd element on 1st row:  2\n",
            "5th element on 2nd row:  10\n",
            "Optional: 5th element on 2nd row:  10\n",
            "Sum of 1st element on 1st row and 4th element on 2nd row:  10\n",
            "----------\n",
            "2-d Shape : (2, 5)\n"
          ]
        }
      ],
      "source": [
        "# 2-D (5 width x 2 height)\n",
        "arr = np.array([[1,2,3,4,5], [6,7,8,9,10]])\n",
        "print('2nd element on 1st row: ', arr[0, 1])\n",
        "print('5th element on 2nd row: ', arr[1, 4])\n",
        "print('Optional: 5th element on 2nd row: ', arr[1, -1])\n",
        "print('Sum of 1st element on 1st row and 4th element on 2nd row: ', arr[0, 0]+arr[1, 3])\n",
        "print(\"-\"*10)\n",
        "print(f\"2-d Shape : {arr.shape}\")"
      ]
    },
    {
      "cell_type": "code",
      "execution_count": 11,
      "metadata": {
        "colab": {
          "base_uri": "https://localhost:8080/"
        },
        "id": "sjwkzZdCVtMR",
        "outputId": "397f9aa1-ee45-42f5-d57c-2e2a4fa93b19"
      },
      "outputs": [
        {
          "output_type": "stream",
          "name": "stdout",
          "text": [
            "Last element from 1st matrix:  6\n",
            "First element from 1st matrix:  7\n",
            "Last row from 2nd matrix:  [10 11 12]\n",
            "First row from 1st matrix:  [1 2 3]\n",
            "1st matrix: \n",
            " [[1 2 3]\n",
            " [4 5 6]]\n",
            "2nd matrix: \n",
            " [[ 7  8  9]\n",
            " [10 11 12]]\n"
          ]
        }
      ],
      "source": [
        "# 3-D (2 depth x 3 width x 2 height)\n",
        "arr = np.array([[[1, 2, 3], [4, 5, 6]], [[7, 8, 9], [10, 11, 12]]])\n",
        "print('Last element from 1st matrix: ', arr[0, 1, 2])\n",
        "print('First element from 1st matrix: ', arr[1, 0, 0])\n",
        "print('Last row from 2nd matrix: ', arr[1, -1])\n",
        "print('First row from 1st matrix: ', arr[0, 0])\n",
        "print('1st matrix: \\n', arr[0])\n",
        "print('2nd matrix: \\n', arr[1])"
      ]
    },
    {
      "cell_type": "markdown",
      "metadata": {
        "id": "K6yS8cawVtMR"
      },
      "source": [
        "##### Array Slicing"
      ]
    },
    {
      "cell_type": "code",
      "execution_count": 12,
      "metadata": {
        "colab": {
          "base_uri": "https://localhost:8080/"
        },
        "id": "ZOhytYxnVtMR",
        "outputId": "3113175a-2d54-43af-b500-7edf17b6f116"
      },
      "outputs": [
        {
          "output_type": "stream",
          "name": "stdout",
          "text": [
            "Indexing order\n",
            "[2 3 4 5]\n",
            "[6 7]\n",
            "[4 5 6 7]\n",
            "[1 2 3 4]\n"
          ]
        }
      ],
      "source": [
        "# 1-D\n",
        "arr = np.array([1, 2, 3, 4, 5, 6, 7])\n",
        "\n",
        "print(\"Indexing order\")\n",
        "print(arr[1:5])\n",
        "print(arr[5:7])\n",
        "print(arr[3: ])\n",
        "print(arr[ :4])"
      ]
    },
    {
      "cell_type": "code",
      "execution_count": 13,
      "metadata": {
        "colab": {
          "base_uri": "https://localhost:8080/"
        },
        "id": "PLDU9GJcVtMR",
        "outputId": "78a7888c-bbfd-4c39-90d0-e7d46a4aa81b"
      },
      "outputs": [
        {
          "output_type": "stream",
          "name": "stdout",
          "text": [
            "Indexing reversed order (minus operation)\n",
            "[3 4 5 6]\n",
            "[5 6]\n"
          ]
        }
      ],
      "source": [
        "print(\"Indexing reversed order (minus operation)\")\n",
        "print(arr[2:-1])\n",
        "print(arr[-3:-1])"
      ]
    },
    {
      "cell_type": "code",
      "execution_count": 14,
      "metadata": {
        "colab": {
          "base_uri": "https://localhost:8080/"
        },
        "id": "SIkTlT-GVtMS",
        "outputId": "644c42f4-4b91-464f-8d2a-9dd849c2fd7b"
      },
      "outputs": [
        {
          "output_type": "stream",
          "name": "stdout",
          "text": [
            "Indexing skip order\n",
            "[1 2 3 4 5 6 7]\n",
            "[1 3 5 7]\n",
            "Indexing skip order/normal operation\n",
            "[4 5 6 7]\n",
            "[2 4]\n",
            "Indexing skip order/minus-reversed operation\n",
            "[1 3 5]\n",
            "[4 6]\n"
          ]
        }
      ],
      "source": [
        "print(\"Indexing skip order\")\n",
        "print(arr[::1])\n",
        "print(arr[::2])\n",
        "print(\"Indexing skip order/normal operation\")\n",
        "print(arr[3::1])\n",
        "print(arr[1:5:2])\n",
        "print(\"Indexing skip order/minus-reversed operation\")\n",
        "print(arr[:-1:2])\n",
        "print(arr[-4:-1:2])"
      ]
    },
    {
      "cell_type": "code",
      "execution_count": 15,
      "metadata": {
        "colab": {
          "base_uri": "https://localhost:8080/"
        },
        "id": "Z3jDxSEUVtMS",
        "outputId": "ebee0267-901e-486e-dd1a-7171034ce560"
      },
      "outputs": [
        {
          "output_type": "stream",
          "name": "stdout",
          "text": [
            "Indexing order\n",
            "[7 8 9]\n",
            "[3 8]\n",
            "[[2 3 4]\n",
            " [7 8 9]]\n"
          ]
        }
      ],
      "source": [
        "# 2-D\n",
        "arr = np.array([[1, 2, 3, 4, 5], [6, 7, 8, 9, 10]])\n",
        "\n",
        "print(\"Indexing order\")\n",
        "print(arr[1, 1:4])\n",
        "print(arr[0:2, 2])\n",
        "print(arr[0:2, 1:4])"
      ]
    },
    {
      "cell_type": "markdown",
      "metadata": {
        "id": "UrqSRBdjVtMS"
      },
      "source": [
        "##### Data Types\n",
        "\n",
        "i - integer\\\n",
        "b - boolean\\\n",
        "u - unsigned integer\\\n",
        "f - float\\\n",
        "c - complex float\\\n",
        "m - timedelta\\\n",
        "M - datetime\\\n",
        "O - object\\\n",
        "S - string\\\n",
        "U - unicode string\\\n",
        "V - fixed chunk of memory for other type ( void )"
      ]
    },
    {
      "cell_type": "code",
      "execution_count": 16,
      "metadata": {
        "colab": {
          "base_uri": "https://localhost:8080/"
        },
        "id": "nlX8XGfsVtMS",
        "outputId": "d7698b22-5adb-42df-fd1a-35cf92f3cf42"
      },
      "outputs": [
        {
          "output_type": "stream",
          "name": "stdout",
          "text": [
            "int64\n"
          ]
        }
      ],
      "source": [
        "# integer\n",
        "arr = np.array([1, 2, 3, 4])\n",
        "print(arr.dtype)"
      ]
    },
    {
      "cell_type": "code",
      "execution_count": 17,
      "metadata": {
        "colab": {
          "base_uri": "https://localhost:8080/"
        },
        "id": "ort9boB_VtMS",
        "outputId": "157b38d8-b301-4caa-da75-7ab1a7db0a99"
      },
      "outputs": [
        {
          "output_type": "stream",
          "name": "stdout",
          "text": [
            "float64\n"
          ]
        }
      ],
      "source": [
        "# float\n",
        "arr = np.array([1., 2.5, 3.0, 4.2345697789])\n",
        "print(arr.dtype)"
      ]
    },
    {
      "cell_type": "code",
      "execution_count": 18,
      "metadata": {
        "colab": {
          "base_uri": "https://localhost:8080/"
        },
        "id": "I9eISuReVtMS",
        "outputId": "39e80f02-863e-4de7-ba9d-69e9a1ef0ad1"
      },
      "outputs": [
        {
          "output_type": "stream",
          "name": "stdout",
          "text": [
            "<U6\n"
          ]
        }
      ],
      "source": [
        "# strings\n",
        "arr = np.array(['apple', 'banana', 'cherry'])\n",
        "print(arr.dtype)"
      ]
    },
    {
      "cell_type": "code",
      "execution_count": 19,
      "metadata": {
        "colab": {
          "base_uri": "https://localhost:8080/"
        },
        "id": "wF7bXbJxVtMS",
        "outputId": "de797d67-dbe2-422e-c9d6-6b8aa638d46e"
      },
      "outputs": [
        {
          "output_type": "stream",
          "name": "stdout",
          "text": [
            "[b'1' b'2' b'3' b'4']\n",
            "|S1\n"
          ]
        }
      ],
      "source": [
        "# string\n",
        "arr = np.array([1, 2, 3, 4], dtype='S')\n",
        "print(arr)\n",
        "print(arr.dtype)"
      ]
    },
    {
      "cell_type": "code",
      "execution_count": 20,
      "metadata": {
        "colab": {
          "base_uri": "https://localhost:8080/"
        },
        "id": "Ax7mu-GKVtMT",
        "outputId": "930f13a2-adcc-4ecb-9cf9-749b3c3f4309"
      },
      "outputs": [
        {
          "output_type": "stream",
          "name": "stdout",
          "text": [
            "[1 2 3 4]\n",
            "int32\n"
          ]
        }
      ],
      "source": [
        "# 4 bytes integer\n",
        "arr = np.array([1, 2, 3, 4], dtype='i4')\n",
        "print(arr)\n",
        "print(arr.dtype)"
      ]
    },
    {
      "cell_type": "code",
      "execution_count": 21,
      "metadata": {
        "colab": {
          "base_uri": "https://localhost:8080/"
        },
        "id": "zcaGdYl_VtMT",
        "outputId": "d5a06a44-6e2c-4fd2-cc8e-4f6f9b71ed10"
      },
      "outputs": [
        {
          "output_type": "stream",
          "name": "stdout",
          "text": [
            "[1 2 3]\n",
            "int32\n"
          ]
        }
      ],
      "source": [
        "# conversion\n",
        "# 1st: float-to-int\n",
        "arr = np.array([1.1, 2.1, 3.9])\n",
        "newarr = arr.astype('i')\n",
        "print(newarr)\n",
        "print(newarr.dtype)"
      ]
    },
    {
      "cell_type": "code",
      "execution_count": 22,
      "metadata": {
        "colab": {
          "base_uri": "https://localhost:8080/"
        },
        "id": "5zEkQIovVtMT",
        "outputId": "9b2f31bf-f803-44d4-87f6-a73648e74c27"
      },
      "outputs": [
        {
          "output_type": "stream",
          "name": "stdout",
          "text": [
            "[1 2 3]\n",
            "int64\n"
          ]
        }
      ],
      "source": [
        "# 2nd: float-to-int\n",
        "arr = np.array([1.1, 2.1, 3.9])\n",
        "newarr = arr.astype(int)\n",
        "print(newarr)\n",
        "print(newarr.dtype)"
      ]
    },
    {
      "cell_type": "code",
      "execution_count": 23,
      "metadata": {
        "colab": {
          "base_uri": "https://localhost:8080/"
        },
        "id": "f-can6VOVtMT",
        "outputId": "79969482-f472-4a1f-fb2d-11e9d503f500"
      },
      "outputs": [
        {
          "output_type": "stream",
          "name": "stdout",
          "text": [
            "[ True False  True]\n",
            "bool\n"
          ]
        }
      ],
      "source": [
        "# int-to-bool\n",
        "arr = np.array([1, 0, -3])\n",
        "newarr = arr.astype(bool)\n",
        "print(newarr)\n",
        "print(newarr.dtype)"
      ]
    },
    {
      "cell_type": "markdown",
      "metadata": {
        "id": "WpKxnw95VtMT"
      },
      "source": [
        "##### Array Copying"
      ]
    },
    {
      "cell_type": "code",
      "execution_count": 24,
      "metadata": {
        "colab": {
          "base_uri": "https://localhost:8080/"
        },
        "id": "QgicRq6wVtMT",
        "outputId": "f9301c88-14e7-47c5-e99e-385ab27ac0f2"
      },
      "outputs": [
        {
          "output_type": "stream",
          "name": "stdout",
          "text": [
            "[42  2  3  4  5]\n",
            "[1 2 3 4 5]\n"
          ]
        }
      ],
      "source": [
        "# copy (pass by value)\n",
        "arr = np.array([1, 2, 3, 4, 5])\n",
        "x = arr.copy()\n",
        "arr[0] = 42\n",
        "print(arr)\n",
        "print(x)"
      ]
    },
    {
      "cell_type": "markdown",
      "metadata": {
        "id": "cdCUgXJvg0Jd"
      },
      "source": [
        ".view() ใช้บ่อย จำไว้ให้ดี"
      ]
    },
    {
      "cell_type": "code",
      "execution_count": 25,
      "metadata": {
        "colab": {
          "base_uri": "https://localhost:8080/"
        },
        "id": "gulNRa0-VtMT",
        "outputId": "f4ab01e9-d2d0-46c9-871b-3c6b95d9d4ab"
      },
      "outputs": [
        {
          "output_type": "stream",
          "name": "stdout",
          "text": [
            "[42  2  3  4  5]\n",
            "[42  2  3  4  5]\n"
          ]
        }
      ],
      "source": [
        "# view (pass by reference)\n",
        "arr = np.array([1, 2, 3, 4, 5])\n",
        "x = arr.view()\n",
        "arr[0] = 42\n",
        "print(arr)\n",
        "print(x)"
      ]
    },
    {
      "cell_type": "markdown",
      "metadata": {
        "id": "QNsWyv7VVtMU"
      },
      "source": [
        "##### Shape and reshape"
      ]
    },
    {
      "cell_type": "code",
      "execution_count": 26,
      "metadata": {
        "colab": {
          "base_uri": "https://localhost:8080/"
        },
        "id": "2WnD_q-MVtMU",
        "outputId": "eaafa45f-da54-45c0-de1e-efe8276d4d51"
      },
      "outputs": [
        {
          "output_type": "stream",
          "name": "stdout",
          "text": [
            "[1 2 3 4]\n",
            "pre-shape of array with added dimension: (4,)\n",
            "\n",
            "\n",
            "\n",
            "\n",
            "[[[[[1 2 3 4]]]]]\n",
            "pre-shape of array with added dimension: (1, 1, 1, 1, 4)\n"
          ]
        }
      ],
      "source": [
        "# Shape\n",
        "arr = np.array([1, 2, 3, 4])\n",
        "print(arr)\n",
        "print('pre-shape of array with added dimension:', arr.shape)\n",
        "print('\\n'*3)\n",
        "arr = np.array([1, 2, 3, 4], ndmin=5)\n",
        "print(arr)\n",
        "print('pre-shape of array with added dimension:', arr.shape)"
      ]
    },
    {
      "cell_type": "code",
      "execution_count": 27,
      "metadata": {
        "colab": {
          "base_uri": "https://localhost:8080/"
        },
        "id": "6NCIR902VtMU",
        "outputId": "17efcf01-9ae7-48ae-e6ce-ac0dd94623a4"
      },
      "outputs": [
        {
          "output_type": "stream",
          "name": "stdout",
          "text": [
            "[ 1  2  3  4  5  6  7  8  9 10 11 12] (12,)\n",
            "------------------------------\n",
            "row-major\n",
            "[[ 1  2  3]\n",
            " [ 4  5  6]\n",
            " [ 7  8  9]\n",
            " [10 11 12]] (4, 3)\n",
            "------------------------------\n",
            "column-major\n",
            "[[ 1  5  9]\n",
            " [ 2  6 10]\n",
            " [ 3  7 11]\n",
            " [ 4  8 12]] (4, 3)\n"
          ]
        }
      ],
      "source": [
        "# Reshape 1-D to 2-D\n",
        "# order = 'C' => row-major (default)\n",
        "# order = 'F' => column-major\n",
        "\n",
        "arr = np.array([1, 2, 3, 4, 5, 6, 7, 8, 9, 10, 11, 12])\n",
        "print(arr, arr.shape)\n",
        "print('-'*30)\n",
        "print('row-major')\n",
        "newarrC = arr.reshape((4, 3),order = 'C')\n",
        "print(newarrC, newarrC.shape)\n",
        "print('-'*30)\n",
        "print('column-major')\n",
        "newarrA = arr.reshape((4, 3),order = 'F')\n",
        "print(newarrA, newarrA.shape)"
      ]
    },
    {
      "cell_type": "code",
      "execution_count": 28,
      "metadata": {
        "colab": {
          "base_uri": "https://localhost:8080/"
        },
        "id": "ncMAMeQCVtMU",
        "outputId": "35de4c06-1baf-49cd-fb1f-749ccc2a2a66"
      },
      "outputs": [
        {
          "output_type": "stream",
          "name": "stdout",
          "text": [
            "[[[ 1  2]\n",
            "  [ 3  4]\n",
            "  [ 5  6]]\n",
            "\n",
            " [[ 7  8]\n",
            "  [ 9 10]\n",
            "  [11 12]]] (2, 3, 2)\n"
          ]
        }
      ],
      "source": [
        "# Reshape 1-D to 3-D\n",
        "# .reshape(2, 3, 2) (2 chanel, 3 h, 2 w)\n",
        "arr = np.array([1, 2, 3, 4, 5, 6, 7, 8, 9, 10, 11, 12])\n",
        "newarr = arr.reshape(2, 3, 2)\n",
        "print(newarr, newarr.shape)"
      ]
    },
    {
      "cell_type": "code",
      "execution_count": 29,
      "metadata": {
        "colab": {
          "base_uri": "https://localhost:8080/"
        },
        "id": "j_QgYnnxVtMU",
        "outputId": "62ffc51a-6401-49b6-cdb2-c99c40de20ff"
      },
      "outputs": [
        {
          "output_type": "stream",
          "name": "stdout",
          "text": [
            "[[[1 2]\n",
            "  [3 4]]\n",
            "\n",
            " [[5 6]\n",
            "  [7 8]]] (2, 2, 2)\n"
          ]
        }
      ],
      "source": [
        "# Use -1 to let NumPy automatically calculate the size of this dimension\n",
        "arr = np.array([1, 2, 3, 4, 5, 6, 7, 8])\n",
        "newarr = arr.reshape(2, 2, -1)\n",
        "print(newarr, newarr.shape)"
      ]
    },
    {
      "cell_type": "markdown",
      "metadata": {
        "id": "Uz9SiyKMVtMY"
      },
      "source": [
        "##### Iterating Arrays"
      ]
    },
    {
      "cell_type": "markdown",
      "metadata": {
        "id": "2yVKHOhHVtMY"
      },
      "source": [
        "Iterating 2-D Arrays"
      ]
    },
    {
      "cell_type": "code",
      "execution_count": 30,
      "metadata": {
        "colab": {
          "base_uri": "https://localhost:8080/"
        },
        "id": "_7k7zk-fVtMZ",
        "outputId": "5bf4b5cf-537a-4180-e9a6-61130f769d80"
      },
      "outputs": [
        {
          "output_type": "stream",
          "name": "stdout",
          "text": [
            "(2, 3)\n",
            "[1 2 3]\n",
            "----------\n",
            "[4 5 6]\n",
            "----------\n"
          ]
        }
      ],
      "source": [
        "arr = np.array([[1, 2, 3], [4, 5, 6]])\n",
        "print(arr.shape)\n",
        "# print sub-vector (1D) of 2-D array\n",
        "for x in arr:\n",
        "  print(x)\n",
        "  print('-'*10)"
      ]
    },
    {
      "cell_type": "code",
      "execution_count": 31,
      "metadata": {
        "colab": {
          "base_uri": "https://localhost:8080/"
        },
        "id": "hDVXtzXEVtMZ",
        "outputId": "20766241-b45c-41d7-9f55-a19ce52c2aab"
      },
      "outputs": [
        {
          "output_type": "stream",
          "name": "stdout",
          "text": [
            "1\n",
            "----------\n",
            "2\n",
            "----------\n",
            "3\n",
            "----------\n",
            "4\n",
            "----------\n",
            "5\n",
            "----------\n",
            "6\n",
            "----------\n"
          ]
        }
      ],
      "source": [
        "# print sub-element (scalar) of sub-array of 2-D array\n",
        "for x in arr:\n",
        "  for y in x:\n",
        "    print(y)\n",
        "    print('-'*10)"
      ]
    },
    {
      "cell_type": "markdown",
      "metadata": {
        "id": "wVdExwgJVtMZ"
      },
      "source": [
        "Iterating 3-D Arrays"
      ]
    },
    {
      "cell_type": "code",
      "execution_count": 32,
      "metadata": {
        "colab": {
          "base_uri": "https://localhost:8080/"
        },
        "id": "e4nLg8U8VtMZ",
        "outputId": "5ce3628e-43fa-49f7-d7ed-75727d6aeb88"
      },
      "outputs": [
        {
          "output_type": "stream",
          "name": "stdout",
          "text": [
            "(2, 2, 3)\n",
            "[[1 2 3]\n",
            " [4 5 6]]\n",
            "----------\n",
            "[[ 7  8  9]\n",
            " [10 11 12]]\n",
            "----------\n"
          ]
        }
      ],
      "source": [
        "arr = np.array([[[1, 2, 3], [4, 5, 6]], [[7, 8, 9], [10, 11, 12]]])\n",
        "print(arr.shape)\n",
        "\n",
        "# print sub-matrix (2D) of 3-D array\n",
        "for x in arr:\n",
        "  print(x)\n",
        "  print('-'*10)"
      ]
    },
    {
      "cell_type": "code",
      "execution_count": 33,
      "metadata": {
        "colab": {
          "base_uri": "https://localhost:8080/"
        },
        "id": "lJVI3h3hVtMZ",
        "outputId": "07739d7b-e10d-4365-f731-c8d188d9b7a2"
      },
      "outputs": [
        {
          "output_type": "stream",
          "name": "stdout",
          "text": [
            "[1 2 3]\n",
            "[4 5 6]\n",
            "[7 8 9]\n",
            "[10 11 12]\n"
          ]
        }
      ],
      "source": [
        "# print sub-vector (1D) of subsub-matrix (2D) of 3-D array\n",
        "for x in arr:\n",
        "  for y in x:\n",
        "    print(y)"
      ]
    },
    {
      "cell_type": "code",
      "execution_count": 34,
      "metadata": {
        "colab": {
          "base_uri": "https://localhost:8080/"
        },
        "id": "N7elo0zSVtMZ",
        "outputId": "bc7b5aff-f45c-42f6-c961-4b6b67acfbca"
      },
      "outputs": [
        {
          "output_type": "stream",
          "name": "stdout",
          "text": [
            "1\n",
            "2\n",
            "3\n",
            "4\n",
            "5\n",
            "6\n",
            "7\n",
            "8\n",
            "9\n",
            "10\n",
            "11\n",
            "12\n"
          ]
        }
      ],
      "source": [
        "# print sub-element (scalar) of sub-vector (1D) of subsub-matrix (2D) of 3-D array\n",
        "for x in arr:\n",
        "  for y in x:\n",
        "    for z in y:\n",
        "      print(z)"
      ]
    },
    {
      "cell_type": "code",
      "execution_count": 35,
      "metadata": {
        "colab": {
          "base_uri": "https://localhost:8080/"
        },
        "id": "LfdofGK8VtMa",
        "outputId": "8e2b4822-5bd2-4720-ac6e-547ebcabc702"
      },
      "outputs": [
        {
          "output_type": "stream",
          "name": "stdout",
          "text": [
            "1\n",
            "2\n",
            "3\n",
            "4\n",
            "5\n",
            "6\n",
            "7\n",
            "8\n"
          ]
        }
      ],
      "source": [
        "#Optional: print sub-element via np.nditer\n",
        "arr = np.array([[[1, 2], [3, 4]], [[5, 6], [7, 8]]])\n",
        "for x in np.nditer(arr):\n",
        "  print(x)"
      ]
    },
    {
      "cell_type": "code",
      "execution_count": 36,
      "metadata": {
        "colab": {
          "base_uri": "https://localhost:8080/"
        },
        "id": "dhuMOKNqVtMa",
        "outputId": "906b28f5-1409-4d31-e660-c93322dae80c"
      },
      "outputs": [
        {
          "output_type": "stream",
          "name": "stdout",
          "text": [
            "np.bytes_(b'1')\n",
            "np.bytes_(b'2')\n",
            "np.bytes_(b'3')\n"
          ]
        }
      ],
      "source": [
        "arr = np.array([1, 2, 3])\n",
        "for x in np.nditer(arr, flags=['buffered'], op_dtypes=['S']):\n",
        "  print(x)"
      ]
    },
    {
      "cell_type": "code",
      "execution_count": 37,
      "metadata": {
        "colab": {
          "base_uri": "https://localhost:8080/"
        },
        "id": "mw7RLgT5VtMa",
        "outputId": "2cee836c-64d5-4ee2-8523-08dc9e67a1da"
      },
      "outputs": [
        {
          "output_type": "stream",
          "name": "stdout",
          "text": [
            "1\n",
            "3\n",
            "5\n",
            "7\n"
          ]
        }
      ],
      "source": [
        "arr = np.array([[1, 2, 3, 4], [5, 6, 7, 8]])\n",
        "for x in np.nditer(arr[:,::2]):\n",
        "  print(x)"
      ]
    },
    {
      "cell_type": "code",
      "execution_count": 38,
      "metadata": {
        "colab": {
          "base_uri": "https://localhost:8080/"
        },
        "id": "ep9_PpzdVtMa",
        "outputId": "340f4691-3a8d-45ba-ebd5-ec805e8dc279"
      },
      "outputs": [
        {
          "output_type": "stream",
          "name": "stdout",
          "text": [
            "(0,) 1\n",
            "(1,) 2\n",
            "(2,) 3\n",
            "----------\n",
            "(0, 0) 1\n",
            "(0, 1) 2\n",
            "(0, 2) 3\n",
            "(0, 3) 4\n",
            "(1, 0) 5\n",
            "(1, 1) 6\n",
            "(1, 2) 7\n",
            "(1, 3) 8\n"
          ]
        }
      ],
      "source": [
        "arr = np.array([1, 2, 3])\n",
        "for idx, x in np.ndenumerate(arr):\n",
        "  print(idx, x)\n",
        "\n",
        "print('-'*10)\n",
        "arr = np.array([[1, 2, 3, 4], [5, 6, 7, 8]])\n",
        "for idx, x in np.ndenumerate(arr):\n",
        "  print(idx, x)"
      ]
    },
    {
      "cell_type": "markdown",
      "metadata": {
        "id": "UL1GTC6RVtMa"
      },
      "source": [
        "##### Array Concatenation & Stacking"
      ]
    },
    {
      "cell_type": "code",
      "execution_count": 39,
      "metadata": {
        "colab": {
          "base_uri": "https://localhost:8080/"
        },
        "id": "nlj7CTdLVtMa",
        "outputId": "a29f677b-9ce9-418c-cfb6-d7cfb36d8b89"
      },
      "outputs": [
        {
          "output_type": "stream",
          "name": "stdout",
          "text": [
            "[1 2 3 4 5 6] (6,)\n"
          ]
        }
      ],
      "source": [
        "# 1-D concat\n",
        "arr1 = np.array([1, 2, 3])\n",
        "arr2 = np.array([4, 5, 6])\n",
        "arr = np.concatenate((arr1, arr2))\n",
        "print(arr, arr.shape)"
      ]
    },
    {
      "cell_type": "code",
      "execution_count": 40,
      "metadata": {
        "colab": {
          "base_uri": "https://localhost:8080/"
        },
        "id": "yeFGU1mSVtMb",
        "outputId": "b333cd7f-7dfa-4161-990f-61adc1d88e9c"
      },
      "outputs": [
        {
          "output_type": "stream",
          "name": "stdout",
          "text": [
            "[[1 2 5 6]\n",
            " [3 4 7 8]] (2, 4)\n"
          ]
        }
      ],
      "source": [
        "# 2-D concat\n",
        "arr1 = np.array([[1, 2], [3, 4]])\n",
        "arr2 = np.array([[5, 6], [7, 8]])\n",
        "arr = np.concatenate((arr1, arr2), axis=1)\n",
        "print(arr, arr.shape)"
      ]
    },
    {
      "cell_type": "code",
      "execution_count": 41,
      "metadata": {
        "colab": {
          "base_uri": "https://localhost:8080/"
        },
        "id": "s10BJmvBVtMb",
        "outputId": "f96c0b05-fa3e-4ac5-eaad-58d5fd666cbb"
      },
      "outputs": [
        {
          "output_type": "stream",
          "name": "stdout",
          "text": [
            "[1 2 3 4 5 6] (6,)\n"
          ]
        }
      ],
      "source": [
        "# 1-D hstack (horizontal stack)\n",
        "arr1 = np.array([1, 2, 3])\n",
        "arr2 = np.array([4, 5, 6])\n",
        "arr = np.hstack((arr1, arr2))\n",
        "print(arr, arr.shape)"
      ]
    },
    {
      "cell_type": "code",
      "execution_count": 42,
      "metadata": {
        "colab": {
          "base_uri": "https://localhost:8080/"
        },
        "id": "xi6uY75cVtMb",
        "outputId": "b5220e66-049e-4013-aee9-531e995a069d"
      },
      "outputs": [
        {
          "output_type": "stream",
          "name": "stdout",
          "text": [
            "[[1 2 3]\n",
            " [4 5 6]] (2, 3)\n"
          ]
        }
      ],
      "source": [
        "# 1-D vstack (vertical stack)\n",
        "arr1 = np.array([1, 2, 3])\n",
        "arr2 = np.array([4, 5, 6])\n",
        "arr = np.vstack((arr1, arr2))\n",
        "print(arr, arr.shape)"
      ]
    },
    {
      "cell_type": "code",
      "execution_count": 43,
      "metadata": {
        "colab": {
          "base_uri": "https://localhost:8080/"
        },
        "id": "yyHnnK0xVtMb",
        "outputId": "40a7d226-e3f0-4349-c8a7-f32b5ccd8c43"
      },
      "outputs": [
        {
          "output_type": "stream",
          "name": "stdout",
          "text": [
            "[[[1 4]\n",
            "  [2 5]\n",
            "  [3 6]]] (1, 3, 2)\n"
          ]
        }
      ],
      "source": [
        "# 1-D dstack (depth stack)\n",
        "arr1 = np.array([1, 2, 3])\n",
        "arr2 = np.array([4, 5, 6])\n",
        "arr = np.dstack((arr1, arr2))\n",
        "print(arr, arr.shape)"
      ]
    },
    {
      "cell_type": "markdown",
      "metadata": {
        "id": "SRV52qpdVtMc"
      },
      "source": [
        "##### Array Spliting"
      ]
    },
    {
      "cell_type": "code",
      "execution_count": 44,
      "metadata": {
        "colab": {
          "base_uri": "https://localhost:8080/"
        },
        "id": "Ne-X-wM1VtMc",
        "outputId": "9ea75835-83cd-4e0c-ee84-6d888a188112"
      },
      "outputs": [
        {
          "output_type": "stream",
          "name": "stdout",
          "text": [
            "[array([1, 2]), array([3, 4]), array([5, 6])] (2,)\n"
          ]
        }
      ],
      "source": [
        "# 1-D\n",
        "arr = np.array([1, 2, 3, 4, 5, 6])\n",
        "newarr = np.array_split(arr, 3)\n",
        "print(newarr, newarr[0].shape)"
      ]
    },
    {
      "cell_type": "code",
      "execution_count": 45,
      "metadata": {
        "colab": {
          "base_uri": "https://localhost:8080/"
        },
        "id": "S3iPBfNLVtMc",
        "outputId": "194c0e7f-0c17-4f82-a7b5-ee0269e6f92e"
      },
      "outputs": [
        {
          "output_type": "stream",
          "name": "stdout",
          "text": [
            "[array([1, 2]), array([3, 4]), array([5]), array([6])]\n"
          ]
        }
      ],
      "source": [
        "arr = np.array([1, 2, 3, 4, 5, 6])\n",
        "newarr = np.array_split(arr, 4)\n",
        "print(newarr)"
      ]
    },
    {
      "cell_type": "code",
      "execution_count": 46,
      "metadata": {
        "colab": {
          "base_uri": "https://localhost:8080/"
        },
        "id": "ZJLfRsnpVtMc",
        "outputId": "57eb9d39-010a-40af-f5e1-ceb53dc81d7c"
      },
      "outputs": [
        {
          "output_type": "stream",
          "name": "stdout",
          "text": [
            "[array([[1, 2],\n",
            "       [3, 4]]), array([[5, 6],\n",
            "       [7, 8]]), array([[ 9, 10],\n",
            "       [11, 12]])] (2, 2)\n"
          ]
        }
      ],
      "source": [
        "# 2-D\n",
        "arr = np.array([[1, 2], [3, 4], [5, 6], [7, 8], [9, 10], [11, 12]])\n",
        "newarr = np.array_split(arr, 3)\n",
        "print(newarr, newarr[0].shape)"
      ]
    },
    {
      "cell_type": "code",
      "execution_count": 47,
      "metadata": {
        "colab": {
          "base_uri": "https://localhost:8080/"
        },
        "id": "_zTSBFD-VtMc",
        "outputId": "90554297-86ec-47ae-fc86-aa3825570231"
      },
      "outputs": [
        {
          "output_type": "stream",
          "name": "stdout",
          "text": [
            "[array([[1, 2, 3],\n",
            "       [4, 5, 6]]), array([[ 7,  8,  9],\n",
            "       [10, 11, 12]]), array([[13, 14, 15],\n",
            "       [16, 17, 18]])] (2, 3)\n"
          ]
        }
      ],
      "source": [
        "arr = np.array([[1, 2, 3], [4, 5, 6], [7, 8, 9], [10, 11, 12], [13, 14, 15], [16, 17, 18]])\n",
        "newarr = np.array_split(arr, 3)\n",
        "print(newarr, newarr[0].shape)"
      ]
    },
    {
      "cell_type": "markdown",
      "metadata": {
        "id": "hG_qnK3WVtMc"
      },
      "source": [
        "# HW1_1\n",
        "\n",
        "1. ``` np.array([[[1, 1, 1], [1, 1, 1]], [[1, 1, 1], [1, 1, 1]]])``` จงหาขนาด Dimension ของมิติที่ข้างต้น\n",
        "\n",
        "2. ```arr = np.array([[[1, 2], [2, 1]], [[3, 2], [2, 3]], [[4, 3], [3, 4]]])``` จงหาผลลัพท์ของ \\\n",
        "  2.1 arr[0, 0, 0] + arr[1, 1, 1] \\\n",
        "  2.2 arr[0] + arr[1]"
      ]
    },
    {
      "cell_type": "code",
      "execution_count": 48,
      "metadata": {
        "id": "cVgLr1VxThzC",
        "outputId": "2739714a-eb59-4da3-aa5d-112a83748360",
        "colab": {
          "base_uri": "https://localhost:8080/"
        }
      },
      "outputs": [
        {
          "output_type": "stream",
          "name": "stdout",
          "text": [
            "Shape: (2, 2, 3)\n",
            "Number of dimensions: 3\n"
          ]
        }
      ],
      "source": [
        "# ข้อที่ 1\n",
        "# np.array([[[1, 1, 1], [1, 1, 1]], [[1, 1, 1], [1, 1, 1]]]) จงหาขนาด Dimension ของมิติที่ข้างต้น\n",
        "arr = np.array([[[1, 1, 1], [1, 1, 1]], [[1, 1, 1], [1, 1, 1]]])\n",
        "print(f\"Shape: {arr.shape}\")\n",
        "print(f\"Number of dimensions: {arr.ndim}\")\n"
      ]
    },
    {
      "cell_type": "code",
      "execution_count": 49,
      "metadata": {
        "id": "5Lgn1bNbTxJ6",
        "outputId": "491c54fc-7ae1-443d-c560-46eb5eb2723e",
        "colab": {
          "base_uri": "https://localhost:8080/"
        }
      },
      "outputs": [
        {
          "output_type": "stream",
          "name": "stdout",
          "text": [
            "2.1 arr[0, 0, 0] + arr[1, 1, 1] = 4\n",
            "2.2 arr[0] + arr[1] =\n",
            "Result = \n",
            "[[4 4]\n",
            " [4 4]]\n"
          ]
        }
      ],
      "source": [
        "# ข้อที่ 2 (มี 2 ข้อ)\n",
        "# arr = np.array([[[1, 2], [2, 1]], [[3, 2], [2, 3]], [[4, 3], [3, 4]]]) จงหา\n",
        "# 2.1 arr[0, 0, 0] + arr[1, 1, 1]\n",
        "# 2.2 arr[0] + arr[1]\n",
        "\n",
        "arr = np.array([[[1, 2], [2, 1]], [[3, 2], [2, 3]], [[4, 3], [3, 4]]])\n",
        "\n",
        "# 2.1 arr[0, 0, 0] + arr[1, 1, 1]\n",
        "result_2_1 = arr[0, 0, 0] + arr[1, 1, 1]\n",
        "print(f\"2.1 arr[0, 0, 0] + arr[1, 1, 1] = {result_2_1}\")\n",
        "\n",
        "# 2.2 arr[0] + arr[1]\n",
        "result_2_2 = arr[0] + arr[1]\n",
        "print(\"2.2 arr[0] + arr[1] =\")\n",
        "print(f\"Result = \\n{result_2_2}\")"
      ]
    }
  ],
  "metadata": {
    "colab": {
      "provenance": [],
      "include_colab_link": true
    },
    "kernelspec": {
      "display_name": "Python 3",
      "language": "python",
      "name": "python3"
    },
    "language_info": {
      "codemirror_mode": {
        "name": "ipython",
        "version": 3
      },
      "file_extension": ".py",
      "mimetype": "text/x-python",
      "name": "python",
      "nbconvert_exporter": "python",
      "pygments_lexer": "ipython3",
      "version": "3.13.5"
    }
  },
  "nbformat": 4,
  "nbformat_minor": 0
}
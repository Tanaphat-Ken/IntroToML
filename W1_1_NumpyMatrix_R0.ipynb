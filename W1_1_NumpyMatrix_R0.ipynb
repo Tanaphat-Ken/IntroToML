{
  "cells": [
    {
      "cell_type": "markdown",
      "metadata": {
        "id": "zAwTPA_5VtMJ"
      },
      "source": [
        "# Numpy Tutorial\n",
        "Ref: https://www.w3schools.com/python/numpy/default.asp"
      ]
    },
    {
      "cell_type": "markdown",
      "metadata": {
        "id": "atjTXbjhVtMM"
      },
      "source": [
        "##### Sample"
      ]
    },
    {
      "cell_type": "markdown",
      "metadata": {
        "id": "zMq9me-sYQq8"
      },
      "source": [
        "numpy array นั้นมี requirements ที่มากกว่าของ array ปกติ เนื่องจากหากกำหนดให้ข้อมูลภายในนั้นเป็นชนิดใดก็ตามแล้ว ภายใน array นั้น ๆ จะต้องมีข้อมูลชนิดนั้นเท่านั้น เช่น ต้องเป็นตัวอักษรทั้งหมด หรือต้องเป็นตัวเลขทั้งหมด แต่ความยุ่งยากนี้แลกมากับความเร็วในการทำงานที่มากขึ้น ดังตัวอย่างด้านล่าง"
      ]
    },
    {
      "cell_type": "code",
      "execution_count": null,
      "metadata": {
        "id": "LG5RqNwVZ4dZ"
      },
      "outputs": [],
      "source": [
        "import numpy as np\n",
        "import time\n",
        "\n",
        "size = 100_000\n",
        "\n",
        "list1 = np.random.randint(0, 10, size).tolist()\n",
        "list2 = np.random.randint(0, 10, size).tolist()\n",
        "\n",
        "array1 = np.array(list1)\n",
        "array2 = np.array(list2)\n",
        "\n",
        "start_time = time.time()\n",
        "result_list = [list1[i] + list2[i] for i in range(size)]\n",
        "list_time = time.time() - start_time\n",
        "\n",
        "start_time = time.time()\n",
        "result_array = array1 + array2\n",
        "numpy_time = time.time() - start_time\n",
        "\n",
        "results_equal = result_list == result_array.tolist()\n",
        "\n",
        "print(\"Python list time:\", list_time, \"seconds\")\n",
        "print(\"Python result:\", result_list[:20])\n",
        "print(\"-\"*30)\n",
        "print(\"NumPy array time:\", numpy_time, \"seconds\")\n",
        "print(\"NumPy result:\", result_array)\n",
        "print(\"is equal :\", results_equal)"
      ]
    },
    {
      "cell_type": "code",
      "execution_count": null,
      "metadata": {
        "id": "3ATYjnGYVtMM"
      },
      "outputs": [],
      "source": [
        "arr = [1, 2, 3, 4, 5]"
      ]
    },
    {
      "cell_type": "code",
      "execution_count": null,
      "metadata": {
        "id": "xs41YKQfVtMO"
      },
      "outputs": [],
      "source": [
        "arr = np.array(arr)\n",
        "arr"
      ]
    },
    {
      "cell_type": "code",
      "execution_count": null,
      "metadata": {
        "id": "56Xm2ozTVtMO"
      },
      "outputs": [],
      "source": [
        "print(np.__version__)"
      ]
    },
    {
      "cell_type": "markdown",
      "metadata": {
        "id": "AU5-RSCSVtMP"
      },
      "source": [
        "##### Creating arrays"
      ]
    },
    {
      "cell_type": "code",
      "execution_count": null,
      "metadata": {
        "id": "Bwma4AeCVtMP"
      },
      "outputs": [],
      "source": [
        "# 0-D == scalar value (Only value, none of matrix)\n",
        "arr = np.array(42)\n",
        "print(arr, arr.shape)"
      ]
    },
    {
      "cell_type": "code",
      "execution_count": null,
      "metadata": {
        "id": "jrRUR9mkVtMP"
      },
      "outputs": [],
      "source": [
        "# 1-D = Only H or W vector array (Only Height or Width)\n",
        "arr = np.array([3, 2])\n",
        "print(arr, arr.shape)"
      ]
    },
    {
      "cell_type": "code",
      "execution_count": null,
      "metadata": {
        "id": "lDiY0q-0VtMQ"
      },
      "outputs": [],
      "source": [
        "# 2-D == H x W matrix array (Height x Width))\n",
        "arr = np.array([[1, 0, 1], [3, 4, 1]])\n",
        "print(arr, arr.shape)"
      ]
    },
    {
      "cell_type": "code",
      "execution_count": null,
      "metadata": {
        "id": "gXa5hs7bVtMQ"
      },
      "outputs": [],
      "source": [
        "# 3-D == D x H x W matrix array (Deep x Height x Width)\n",
        "arr = np.array([[[1, 7, 9], [5, 9, 3], [7, 9, 9]], [[1, 2, 3], [4, 5, 6], [7, 8, 9]]])\n",
        "print(arr, arr.shape)"
      ]
    },
    {
      "cell_type": "markdown",
      "metadata": {
        "id": "AH2LMRlUVtMQ"
      },
      "source": [
        "![Sample_arrays.png](attachment:Sample_arrays.png)"
      ]
    },
    {
      "cell_type": "markdown",
      "metadata": {
        "id": "nEsmMx0pVtMQ"
      },
      "source": [
        "Array Elements and Indexing"
      ]
    },
    {
      "cell_type": "code",
      "execution_count": null,
      "metadata": {
        "id": "MV3rB_m8VtMR"
      },
      "outputs": [],
      "source": [
        "# 1-D (4 width)\n",
        "arr = np.array([1, 2, 3, 4])\n",
        "print(arr[0])\n",
        "print(arr[1])\n",
        "print(arr[2] + arr[3])\n",
        "print(\"-\"*10)\n",
        "print(f\"1-d Shape : {arr.shape}\")"
      ]
    },
    {
      "cell_type": "code",
      "execution_count": null,
      "metadata": {
        "id": "LXRfnW6GVtMR"
      },
      "outputs": [],
      "source": [
        "# 2-D (5 width x 2 height)\n",
        "arr = np.array([[1,2,3,4,5], [6,7,8,9,10]])\n",
        "print('2nd element on 1st row: ', arr[0, 1])\n",
        "print('5th element on 2nd row: ', arr[1, 4])\n",
        "print('Optional: 5th element on 2nd row: ', arr[1, -1])\n",
        "print('Sum of 1st element on 1st row and 4th element on 2nd row: ', arr[0, 0]+arr[1, 3])\n",
        "print(\"-\"*10)\n",
        "print(f\"2-d Shape : {arr.shape}\")"
      ]
    },
    {
      "cell_type": "code",
      "execution_count": null,
      "metadata": {
        "id": "sjwkzZdCVtMR"
      },
      "outputs": [],
      "source": [
        "# 3-D (2 depth x 3 width x 2 height)\n",
        "arr = np.array([[[1, 2, 3], [4, 5, 6]], [[7, 8, 9], [10, 11, 12]]])\n",
        "print('Last element from 1st matrix: ', arr[0, 1, 2])\n",
        "print('First element from 1st matrix: ', arr[1, 0, 0])\n",
        "print('Last row from 2nd matrix: ', arr[1, -1])\n",
        "print('First row from 1st matrix: ', arr[0, 0])\n",
        "print('1st matrix: \\n', arr[0])\n",
        "print('2nd matrix: \\n', arr[1])"
      ]
    },
    {
      "cell_type": "markdown",
      "metadata": {
        "id": "K6yS8cawVtMR"
      },
      "source": [
        "##### Array Slicing"
      ]
    },
    {
      "cell_type": "code",
      "execution_count": null,
      "metadata": {
        "id": "ZOhytYxnVtMR"
      },
      "outputs": [],
      "source": [
        "# 1-D\n",
        "arr = np.array([1, 2, 3, 4, 5, 6, 7])\n",
        "\n",
        "print(\"Indexing order\")\n",
        "print(arr[1:5])\n",
        "print(arr[5:7])\n",
        "print(arr[3: ])\n",
        "print(arr[ :4])"
      ]
    },
    {
      "cell_type": "code",
      "execution_count": null,
      "metadata": {
        "id": "PLDU9GJcVtMR"
      },
      "outputs": [],
      "source": [
        "print(\"Indexing reversed order (minus operation)\")\n",
        "print(arr[2:-1])\n",
        "print(arr[-3:-1])"
      ]
    },
    {
      "cell_type": "code",
      "execution_count": null,
      "metadata": {
        "id": "SIkTlT-GVtMS"
      },
      "outputs": [],
      "source": [
        "print(\"Indexing skip order\")\n",
        "print(arr[::1])\n",
        "print(arr[::2])\n",
        "print(\"Indexing skip order/normal operation\")\n",
        "print(arr[3::1])\n",
        "print(arr[1:5:2])\n",
        "print(\"Indexing skip order/minus-reversed operation\")\n",
        "print(arr[:-1:2])\n",
        "print(arr[-4:-1:2])"
      ]
    },
    {
      "cell_type": "code",
      "execution_count": null,
      "metadata": {
        "id": "Z3jDxSEUVtMS"
      },
      "outputs": [],
      "source": [
        "# 2-D\n",
        "arr = np.array([[1, 2, 3, 4, 5], [6, 7, 8, 9, 10]])\n",
        "\n",
        "print(\"Indexing order\")\n",
        "print(arr[1, 1:4])\n",
        "print(arr[0:2, 2])\n",
        "print(arr[0:2, 1:4])"
      ]
    },
    {
      "cell_type": "markdown",
      "metadata": {
        "id": "UrqSRBdjVtMS"
      },
      "source": [
        "##### Data Types\n",
        "\n",
        "i - integer\\\n",
        "b - boolean\\\n",
        "u - unsigned integer\\\n",
        "f - float\\\n",
        "c - complex float\\\n",
        "m - timedelta\\\n",
        "M - datetime\\\n",
        "O - object\\\n",
        "S - string\\\n",
        "U - unicode string\\\n",
        "V - fixed chunk of memory for other type ( void )"
      ]
    },
    {
      "cell_type": "code",
      "execution_count": null,
      "metadata": {
        "id": "nlX8XGfsVtMS"
      },
      "outputs": [],
      "source": [
        "# integer\n",
        "arr = np.array([1, 2, 3, 4])\n",
        "print(arr.dtype)"
      ]
    },
    {
      "cell_type": "code",
      "execution_count": null,
      "metadata": {
        "id": "ort9boB_VtMS"
      },
      "outputs": [],
      "source": [
        "# float\n",
        "arr = np.array([1., 2.5, 3.0, 4.2345697789])\n",
        "print(arr.dtype)"
      ]
    },
    {
      "cell_type": "code",
      "execution_count": null,
      "metadata": {
        "id": "I9eISuReVtMS"
      },
      "outputs": [],
      "source": [
        "# strings\n",
        "arr = np.array(['apple', 'banana', 'cherry'])\n",
        "print(arr.dtype)"
      ]
    },
    {
      "cell_type": "code",
      "execution_count": null,
      "metadata": {
        "id": "wF7bXbJxVtMS"
      },
      "outputs": [],
      "source": [
        "# string\n",
        "arr = np.array([1, 2, 3, 4], dtype='S')\n",
        "print(arr)\n",
        "print(arr.dtype)"
      ]
    },
    {
      "cell_type": "code",
      "execution_count": null,
      "metadata": {
        "id": "Ax7mu-GKVtMT"
      },
      "outputs": [],
      "source": [
        "# 4 bytes integer\n",
        "arr = np.array([1, 2, 3, 4], dtype='i4')\n",
        "print(arr)\n",
        "print(arr.dtype)"
      ]
    },
    {
      "cell_type": "code",
      "execution_count": null,
      "metadata": {
        "id": "zcaGdYl_VtMT"
      },
      "outputs": [],
      "source": [
        "# conversion\n",
        "# 1st: float-to-int\n",
        "arr = np.array([1.1, 2.1, 3.9])\n",
        "newarr = arr.astype('i')\n",
        "print(newarr)\n",
        "print(newarr.dtype)"
      ]
    },
    {
      "cell_type": "code",
      "execution_count": null,
      "metadata": {
        "id": "5zEkQIovVtMT"
      },
      "outputs": [],
      "source": [
        "# 2nd: float-to-int\n",
        "arr = np.array([1.1, 2.1, 3.9])\n",
        "newarr = arr.astype(int)\n",
        "print(newarr)\n",
        "print(newarr.dtype)"
      ]
    },
    {
      "cell_type": "code",
      "execution_count": null,
      "metadata": {
        "id": "f-can6VOVtMT"
      },
      "outputs": [],
      "source": [
        "# int-to-bool\n",
        "arr = np.array([1, 0, -3])\n",
        "newarr = arr.astype(bool)\n",
        "print(newarr)\n",
        "print(newarr.dtype)"
      ]
    },
    {
      "cell_type": "markdown",
      "metadata": {
        "id": "WpKxnw95VtMT"
      },
      "source": [
        "##### Array Copying"
      ]
    },
    {
      "cell_type": "code",
      "execution_count": null,
      "metadata": {
        "id": "QgicRq6wVtMT"
      },
      "outputs": [],
      "source": [
        "# copy (pass by value)\n",
        "arr = np.array([1, 2, 3, 4, 5])\n",
        "x = arr.copy()\n",
        "arr[0] = 42\n",
        "print(arr)\n",
        "print(x)"
      ]
    },
    {
      "cell_type": "markdown",
      "metadata": {
        "id": "cdCUgXJvg0Jd"
      },
      "source": [
        ".view() ใช้บ่อย จำไว้ให้ดี"
      ]
    },
    {
      "cell_type": "code",
      "execution_count": null,
      "metadata": {
        "id": "gulNRa0-VtMT"
      },
      "outputs": [],
      "source": [
        "# view (pass by reference)\n",
        "arr = np.array([1, 2, 3, 4, 5])\n",
        "x = arr.view()\n",
        "arr[0] = 42\n",
        "print(arr)\n",
        "print(x)"
      ]
    },
    {
      "cell_type": "markdown",
      "metadata": {
        "id": "QNsWyv7VVtMU"
      },
      "source": [
        "##### Shape and reshape"
      ]
    },
    {
      "cell_type": "code",
      "execution_count": null,
      "metadata": {
        "id": "2WnD_q-MVtMU"
      },
      "outputs": [],
      "source": [
        "# Shape\n",
        "arr = np.array([1, 2, 3, 4])\n",
        "print(arr)\n",
        "print('pre-shape of array with added dimension:', arr.shape)\n",
        "print('\\n'*3)\n",
        "arr = np.array([1, 2, 3, 4], ndmin=5)\n",
        "print(arr)\n",
        "print('pre-shape of array with added dimension:', arr.shape)"
      ]
    },
    {
      "cell_type": "code",
      "execution_count": null,
      "metadata": {
        "id": "6NCIR902VtMU"
      },
      "outputs": [],
      "source": [
        "# Reshape 1-D to 2-D\n",
        "# order = 'C' => row-major (default)\n",
        "# order = 'F' => column-major\n",
        "\n",
        "arr = np.array([1, 2, 3, 4, 5, 6, 7, 8, 9, 10, 11, 12])\n",
        "print(arr, arr.shape)\n",
        "print('-'*30)\n",
        "print('row-major')\n",
        "newarrC = arr.reshape((4, 3),order = 'C')\n",
        "print(newarrC, newarrC.shape)\n",
        "print('-'*30)\n",
        "print('column-major')\n",
        "newarrA = arr.reshape((4, 3),order = 'F')\n",
        "print(newarrA, newarrA.shape)"
      ]
    },
    {
      "cell_type": "code",
      "execution_count": null,
      "metadata": {
        "id": "ncMAMeQCVtMU"
      },
      "outputs": [],
      "source": [
        "# Reshape 1-D to 3-D\n",
        "# .reshape(2, 3, 2) (2 chanel, 3 h, 2 w)\n",
        "arr = np.array([1, 2, 3, 4, 5, 6, 7, 8, 9, 10, 11, 12])\n",
        "newarr = arr.reshape(2, 3, 2)\n",
        "print(newarr, newarr.shape)"
      ]
    },
    {
      "cell_type": "code",
      "execution_count": null,
      "metadata": {
        "id": "j_QgYnnxVtMU"
      },
      "outputs": [],
      "source": [
        "# Use -1 to let NumPy automatically calculate the size of this dimension\n",
        "arr = np.array([1, 2, 3, 4, 5, 6, 7, 8])\n",
        "newarr = arr.reshape(2, 2, -1)\n",
        "print(newarr, newarr.shape)"
      ]
    },
    {
      "cell_type": "markdown",
      "metadata": {
        "id": "Uz9SiyKMVtMY"
      },
      "source": [
        "##### Iterating Arrays"
      ]
    },
    {
      "cell_type": "markdown",
      "metadata": {
        "id": "2yVKHOhHVtMY"
      },
      "source": [
        "Iterating 2-D Arrays"
      ]
    },
    {
      "cell_type": "code",
      "execution_count": null,
      "metadata": {
        "id": "_7k7zk-fVtMZ"
      },
      "outputs": [],
      "source": [
        "arr = np.array([[1, 2, 3], [4, 5, 6]])\n",
        "print(arr.shape)\n",
        "# print sub-vector (1D) of 2-D array\n",
        "for x in arr:\n",
        "  print(x)\n",
        "  print('-'*10)"
      ]
    },
    {
      "cell_type": "code",
      "execution_count": null,
      "metadata": {
        "id": "hDVXtzXEVtMZ"
      },
      "outputs": [],
      "source": [
        "# print sub-element (scalar) of sub-array of 2-D array\n",
        "for x in arr:\n",
        "  for y in x:\n",
        "    print(y)\n",
        "    print('-'*10)"
      ]
    },
    {
      "cell_type": "markdown",
      "metadata": {
        "id": "wVdExwgJVtMZ"
      },
      "source": [
        "Iterating 3-D Arrays"
      ]
    },
    {
      "cell_type": "code",
      "execution_count": null,
      "metadata": {
        "id": "e4nLg8U8VtMZ"
      },
      "outputs": [],
      "source": [
        "arr = np.array([[[1, 2, 3], [4, 5, 6]], [[7, 8, 9], [10, 11, 12]]])\n",
        "print(arr.shape)\n",
        "\n",
        "# print sub-matrix (2D) of 3-D array\n",
        "for x in arr:\n",
        "  print(x)\n",
        "  print('-'*10)"
      ]
    },
    {
      "cell_type": "code",
      "execution_count": null,
      "metadata": {
        "id": "lJVI3h3hVtMZ"
      },
      "outputs": [],
      "source": [
        "# print sub-vector (1D) of subsub-matrix (2D) of 3-D array\n",
        "for x in arr:\n",
        "  for y in x:\n",
        "    print(y)"
      ]
    },
    {
      "cell_type": "code",
      "execution_count": null,
      "metadata": {
        "id": "N7elo0zSVtMZ"
      },
      "outputs": [],
      "source": [
        "# print sub-element (scalar) of sub-vector (1D) of subsub-matrix (2D) of 3-D array\n",
        "for x in arr:\n",
        "  for y in x:\n",
        "    for z in y:\n",
        "      print(z)"
      ]
    },
    {
      "cell_type": "code",
      "execution_count": null,
      "metadata": {
        "id": "LfdofGK8VtMa"
      },
      "outputs": [],
      "source": [
        "#Optional: print sub-element via np.nditer\n",
        "arr = np.array([[[1, 2], [3, 4]], [[5, 6], [7, 8]]])\n",
        "for x in np.nditer(arr):\n",
        "  print(x)"
      ]
    },
    {
      "cell_type": "code",
      "execution_count": null,
      "metadata": {
        "id": "dhuMOKNqVtMa"
      },
      "outputs": [],
      "source": [
        "arr = np.array([1, 2, 3])\n",
        "for x in np.nditer(arr, flags=['buffered'], op_dtypes=['S']):\n",
        "  print(x)"
      ]
    },
    {
      "cell_type": "code",
      "execution_count": null,
      "metadata": {
        "id": "mw7RLgT5VtMa"
      },
      "outputs": [],
      "source": [
        "arr = np.array([[1, 2, 3, 4], [5, 6, 7, 8]])\n",
        "for x in np.nditer(arr[:,::2]):\n",
        "  print(x)"
      ]
    },
    {
      "cell_type": "code",
      "execution_count": null,
      "metadata": {
        "id": "ep9_PpzdVtMa"
      },
      "outputs": [],
      "source": [
        "arr = np.array([1, 2, 3])\n",
        "for idx, x in np.ndenumerate(arr):\n",
        "  print(idx, x)\n",
        "\n",
        "print('-'*10)\n",
        "arr = np.array([[1, 2, 3, 4], [5, 6, 7, 8]])\n",
        "for idx, x in np.ndenumerate(arr):\n",
        "  print(idx, x)"
      ]
    },
    {
      "cell_type": "markdown",
      "metadata": {
        "id": "UL1GTC6RVtMa"
      },
      "source": [
        "##### Array Concatenation & Stacking"
      ]
    },
    {
      "cell_type": "code",
      "execution_count": null,
      "metadata": {
        "id": "nlj7CTdLVtMa"
      },
      "outputs": [],
      "source": [
        "# 1-D concat\n",
        "arr1 = np.array([1, 2, 3])\n",
        "arr2 = np.array([4, 5, 6])\n",
        "arr = np.concatenate((arr1, arr2))\n",
        "print(arr, arr.shape)"
      ]
    },
    {
      "cell_type": "code",
      "execution_count": null,
      "metadata": {
        "id": "yeFGU1mSVtMb"
      },
      "outputs": [],
      "source": [
        "# 2-D concat\n",
        "arr1 = np.array([[1, 2], [3, 4]])\n",
        "arr2 = np.array([[5, 6], [7, 8]])\n",
        "arr = np.concatenate((arr1, arr2), axis=1)\n",
        "print(arr, arr.shape)"
      ]
    },
    {
      "cell_type": "code",
      "execution_count": null,
      "metadata": {
        "id": "s10BJmvBVtMb"
      },
      "outputs": [],
      "source": [
        "# 1-D hstack (horizontal stack)\n",
        "arr1 = np.array([1, 2, 3])\n",
        "arr2 = np.array([4, 5, 6])\n",
        "arr = np.hstack((arr1, arr2))\n",
        "print(arr, arr.shape)"
      ]
    },
    {
      "cell_type": "code",
      "execution_count": null,
      "metadata": {
        "id": "xi6uY75cVtMb"
      },
      "outputs": [],
      "source": [
        "# 1-D vstack (vertical stack)\n",
        "arr1 = np.array([1, 2, 3])\n",
        "arr2 = np.array([4, 5, 6])\n",
        "arr = np.vstack((arr1, arr2))\n",
        "print(arr, arr.shape)"
      ]
    },
    {
      "cell_type": "code",
      "execution_count": null,
      "metadata": {
        "id": "yyHnnK0xVtMb"
      },
      "outputs": [],
      "source": [
        "# 1-D dstack (depth stack)\n",
        "arr1 = np.array([1, 2, 3])\n",
        "arr2 = np.array([4, 5, 6])\n",
        "arr = np.dstack((arr1, arr2))\n",
        "print(arr, arr.shape)"
      ]
    },
    {
      "cell_type": "markdown",
      "metadata": {
        "id": "SRV52qpdVtMc"
      },
      "source": [
        "##### Array Spliting"
      ]
    },
    {
      "cell_type": "code",
      "execution_count": null,
      "metadata": {
        "id": "Ne-X-wM1VtMc"
      },
      "outputs": [],
      "source": [
        "# 1-D\n",
        "arr = np.array([1, 2, 3, 4, 5, 6])\n",
        "newarr = np.array_split(arr, 3)\n",
        "print(newarr, newarr[0].shape)"
      ]
    },
    {
      "cell_type": "code",
      "execution_count": null,
      "metadata": {
        "id": "S3iPBfNLVtMc"
      },
      "outputs": [],
      "source": [
        "arr = np.array([1, 2, 3, 4, 5, 6])\n",
        "newarr = np.array_split(arr, 4)\n",
        "print(newarr)"
      ]
    },
    {
      "cell_type": "code",
      "execution_count": null,
      "metadata": {
        "id": "ZJLfRsnpVtMc"
      },
      "outputs": [],
      "source": [
        "# 2-D\n",
        "arr = np.array([[1, 2], [3, 4], [5, 6], [7, 8], [9, 10], [11, 12]])\n",
        "newarr = np.array_split(arr, 3)\n",
        "print(newarr, newarr[0].shape)"
      ]
    },
    {
      "cell_type": "code",
      "execution_count": null,
      "metadata": {
        "id": "_zTSBFD-VtMc"
      },
      "outputs": [],
      "source": [
        "arr = np.array([[1, 2, 3], [4, 5, 6], [7, 8, 9], [10, 11, 12], [13, 14, 15], [16, 17, 18]])\n",
        "newarr = np.array_split(arr, 3)\n",
        "print(newarr, newarr[0].shape)"
      ]
    },
    {
      "cell_type": "markdown",
      "metadata": {
        "id": "hG_qnK3WVtMc"
      },
      "source": [
        "# HW1_1\n",
        "\n",
        "1. ``` np.array([[[1, 1, 1], [1, 1, 1]], [[1, 1, 1], [1, 1, 1]]])``` จงหาขนาด Dimension ของมิติที่ข้างต้น\n",
        "\n",
        "2. ```arr = np.array([[[1, 2], [2, 1]], [[3, 2], [2, 3]], [[4, 3], [3, 4]]])``` จงหาผลลัพท์ของ \\\n",
        "  2.1 arr[0, 0, 0] + arr[1, 1, 1] \\\n",
        "  2.2 arr[0] + arr[1]"
      ]
    },
    {
      "cell_type": "code",
      "execution_count": null,
      "metadata": {
        "id": "cVgLr1VxThzC"
      },
      "outputs": [],
      "source": [
        "# ข้อที่ 1\n",
        "# np.array([[[1, 1, 1], [1, 1, 1]], [[1, 1, 1], [1, 1, 1]]]) จงหาขนาด Dimension ของมิติที่ข้างต้น\n",
        "arr = np.array([[[1, 1, 1], [1, 1, 1]], [[1, 1, 1], [1, 1, 1]]])\n",
        "print(f\"Shape: {arr.shape}\")\n",
        "print(f\"Number of dimensions: {arr.ndim}\")\n"
      ]
    },
    {
      "cell_type": "code",
      "execution_count": null,
      "metadata": {
        "id": "5Lgn1bNbTxJ6"
      },
      "outputs": [],
      "source": [
        "# ข้อที่ 2 (มี 2 ข้อ)\n",
        "# arr = np.array([[[1, 2], [2, 1]], [[3, 2], [2, 3]], [[4, 3], [3, 4]]]) จงหา\n",
        "# 2.1 arr[0, 0, 0] + arr[1, 1, 1]\n",
        "# 2.2 arr[0] + arr[1]\n",
        "\n",
        "arr = np.array([[[1, 2], [2, 1]], [[3, 2], [2, 3]], [[4, 3], [3, 4]]])\n",
        "\n",
        "# 2.1 arr[0, 0, 0] + arr[1, 1, 1]\n",
        "result_2_1 = arr[0, 0, 0] + arr[1, 1, 1]\n",
        "print(f\"2.1 arr[0, 0, 0] + arr[1, 1, 1] = {result_2_1}\")\n",
        "\n",
        "# 2.2 arr[0] + arr[1]\n",
        "result_2_2 = arr[0] + arr[1]\n",
        "print(\"2.2 arr[0] + arr[1] =\")\n",
        "print(f\"Result = \\n{result_2_2}\")"
      ]
    }
  ],
  "metadata": {
    "colab": {
      "provenance": []
    },
    "kernelspec": {
      "display_name": "Python 3",
      "language": "python",
      "name": "python3"
    },
    "language_info": {
      "codemirror_mode": {
        "name": "ipython",
        "version": 3
      },
      "file_extension": ".py",
      "mimetype": "text/x-python",
      "name": "python",
      "nbconvert_exporter": "python",
      "pygments_lexer": "ipython3",
      "version": "3.13.5"
    }
  },
  "nbformat": 4,
  "nbformat_minor": 0
}
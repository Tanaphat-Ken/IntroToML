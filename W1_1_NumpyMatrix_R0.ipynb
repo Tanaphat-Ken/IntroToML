{
  "cells": [
    {
      "cell_type": "markdown",
      "metadata": {
        "id": "view-in-github",
        "colab_type": "text"
      },
      "source": [
        "<a href=\"https://colab.research.google.com/github/Tanaphat-Ken/IntroToML/blob/main/W1_1_NumpyMatrix_R0.ipynb\" target=\"_parent\"><img src=\"https://colab.research.google.com/assets/colab-badge.svg\" alt=\"Open In Colab\"/></a>"
      ]
    },
    {
      "cell_type": "markdown",
      "metadata": {
        "id": "zAwTPA_5VtMJ"
      },
      "source": [
        "# Numpy Tutorial\n",
        "Ref: https://www.w3schools.com/python/numpy/default.asp"
      ]
    },
    {
      "cell_type": "markdown",
      "metadata": {
        "id": "atjTXbjhVtMM"
      },
      "source": [
        "##### Sample"
      ]
    },
    {
      "cell_type": "markdown",
      "metadata": {
        "id": "zMq9me-sYQq8"
      },
      "source": [
        "numpy array นั้นมี requirements ที่มากกว่าของ array ปกติ เนื่องจากหากกำหนดให้ข้อมูลภายในนั้นเป็นชนิดใดก็ตามแล้ว ภายใน array นั้น ๆ จะต้องมีข้อมูลชนิดนั้นเท่านั้น เช่น ต้องเป็นตัวอักษรทั้งหมด หรือต้องเป็นตัวเลขทั้งหมด แต่ความยุ่งยากนี้แลกมากับความเร็วในการทำงานที่มากขึ้น ดังตัวอย่างด้านล่าง"
      ]
    },
    {
      "cell_type": "code",
      "execution_count": 50,
      "metadata": {
        "colab": {
          "base_uri": "https://localhost:8080/"
        },
        "id": "LG5RqNwVZ4dZ",
        "outputId": "93d0325e-7dea-4a51-c4e3-8d308f38dba3"
      },
      "outputs": [
        {
          "output_type": "stream",
          "name": "stdout",
          "text": [
            "Python list time: 0.014877080917358398 seconds\n",
            "Python result: [16, 12, 15, 14, 7, 6, 4, 9, 6, 15, 12, 7, 4, 11, 10, 4, 12, 6, 12, 10]\n",
            "------------------------------\n",
            "NumPy array time: 0.0028705596923828125 seconds\n",
            "NumPy result: [16 12 15 ...  6  0  3]\n",
            "is equal : True\n"
          ]
        }
      ],
      "source": [
        "import numpy as np\n",
        "import time\n",
        "\n",
        "size = 100_000\n",
        "\n",
        "list1 = np.random.randint(0, 10, size).tolist()\n",
        "list2 = np.random.randint(0, 10, size).tolist()\n",
        "\n",
        "array1 = np.array(list1)\n",
        "array2 = np.array(list2)\n",
        "\n",
        "start_time = time.time()\n",
        "result_list = [list1[i] + list2[i] for i in range(size)]\n",
        "list_time = time.time() - start_time\n",
        "\n",
        "start_time = time.time()\n",
        "result_array = array1 + array2\n",
        "numpy_time = time.time() - start_time\n",
        "\n",
        "results_equal = result_list == result_array.tolist()\n",
        "\n",
        "print(\"Python list time:\", list_time, \"seconds\")\n",
        "print(\"Python result:\", result_list[:20])\n",
        "print(\"-\"*30)\n",
        "print(\"NumPy array time:\", numpy_time, \"seconds\")\n",
        "print(\"NumPy result:\", result_array)\n",
        "print(\"is equal :\", results_equal)"
      ]
    },
    {
      "cell_type": "code",
      "execution_count": 51,
      "metadata": {
        "id": "3ATYjnGYVtMM"
      },
      "outputs": [],
      "source": [
        "arr = [1, 2, 3, 4, 5]"
      ]
    },
    {
      "cell_type": "code",
      "execution_count": 52,
      "metadata": {
        "colab": {
          "base_uri": "https://localhost:8080/"
        },
        "id": "xs41YKQfVtMO",
        "outputId": "2b2c51a0-858c-4afc-a429-cb20bc207c1d"
      },
      "outputs": [
        {
          "output_type": "execute_result",
          "data": {
            "text/plain": [
              "array([1, 2, 3, 4, 5])"
            ]
          },
          "metadata": {},
          "execution_count": 52
        }
      ],
      "source": [
        "arr = np.array(arr)\n",
        "arr"
      ]
    },
    {
      "cell_type": "code",
      "execution_count": 53,
      "metadata": {
        "colab": {
          "base_uri": "https://localhost:8080/"
        },
        "id": "56Xm2ozTVtMO",
        "outputId": "e63b83b6-59ce-49a7-a7c5-5af483781e6c"
      },
      "outputs": [
        {
          "output_type": "stream",
          "name": "stdout",
          "text": [
            "2.0.2\n"
          ]
        }
      ],
      "source": [
        "print(np.__version__)"
      ]
    },
    {
      "cell_type": "markdown",
      "metadata": {
        "id": "AU5-RSCSVtMP"
      },
      "source": [
        "##### Creating arrays"
      ]
    },
    {
      "cell_type": "code",
      "execution_count": 54,
      "metadata": {
        "colab": {
          "base_uri": "https://localhost:8080/"
        },
        "id": "Bwma4AeCVtMP",
        "outputId": "08b935ad-4873-4e4c-8a8f-83e6a30d2605"
      },
      "outputs": [
        {
          "output_type": "stream",
          "name": "stdout",
          "text": [
            "42 ()\n"
          ]
        }
      ],
      "source": [
        "# 0-D == scalar value (Only value, none of matrix)\n",
        "arr = np.array(42)\n",
        "print(arr, arr.shape)"
      ]
    },
    {
      "cell_type": "code",
      "execution_count": 55,
      "metadata": {
        "colab": {
          "base_uri": "https://localhost:8080/"
        },
        "id": "jrRUR9mkVtMP",
        "outputId": "fa100d4c-23be-4a56-f0e5-3f51549c56bc"
      },
      "outputs": [
        {
          "output_type": "stream",
          "name": "stdout",
          "text": [
            "[3 2] (2,)\n"
          ]
        }
      ],
      "source": [
        "# 1-D = Only H or W vector array (Only Height or Width)\n",
        "arr = np.array([3, 2])\n",
        "print(arr, arr.shape)"
      ]
    },
    {
      "cell_type": "code",
      "execution_count": 56,
      "metadata": {
        "colab": {
          "base_uri": "https://localhost:8080/"
        },
        "id": "lDiY0q-0VtMQ",
        "outputId": "0e02d2d0-ee33-42a2-e4ba-70676a63c552"
      },
      "outputs": [
        {
          "output_type": "stream",
          "name": "stdout",
          "text": [
            "[[1 0 1]\n",
            " [3 4 1]] (2, 3)\n"
          ]
        }
      ],
      "source": [
        "# 2-D == H x W matrix array (Height x Width))\n",
        "arr = np.array([[1, 0, 1], [3, 4, 1]])\n",
        "print(arr, arr.shape)"
      ]
    },
    {
      "cell_type": "code",
      "execution_count": 57,
      "metadata": {
        "colab": {
          "base_uri": "https://localhost:8080/"
        },
        "id": "gXa5hs7bVtMQ",
        "outputId": "fb1d595c-fc4d-4d20-ddab-c7d166b21a40"
      },
      "outputs": [
        {
          "output_type": "stream",
          "name": "stdout",
          "text": [
            "[[[1 7 9]\n",
            "  [5 9 3]\n",
            "  [7 9 9]]\n",
            "\n",
            " [[1 2 3]\n",
            "  [4 5 6]\n",
            "  [7 8 9]]] (2, 3, 3)\n"
          ]
        }
      ],
      "source": [
        "# 3-D == D x H x W matrix array (Deep x Height x Width)\n",
        "arr = np.array([[[1, 7, 9], [5, 9, 3], [7, 9, 9]], [[1, 2, 3], [4, 5, 6], [7, 8, 9]]])\n",
        "print(arr, arr.shape)"
      ]
    },
    {
      "cell_type": "markdown",
      "metadata": {
        "id": "AH2LMRlUVtMQ"
      },
      "source": [
        "![Sample_arrays.png](attachment:Sample_arrays.png)"
      ]
    },
    {
      "cell_type": "markdown",
      "metadata": {
        "id": "nEsmMx0pVtMQ"
      },
      "source": [
        "Array Elements and Indexing"
      ]
    },
    {
      "cell_type": "code",
      "execution_count": 58,
      "metadata": {
        "colab": {
          "base_uri": "https://localhost:8080/"
        },
        "id": "MV3rB_m8VtMR",
        "outputId": "90e07de3-4e51-4d2a-afc4-20ae49647f2b"
      },
      "outputs": [
        {
          "output_type": "stream",
          "name": "stdout",
          "text": [
            "1\n",
            "2\n",
            "7\n",
            "----------\n",
            "1-d Shape : (4,)\n"
          ]
        }
      ],
      "source": [
        "# 1-D (4 width)\n",
        "arr = np.array([1, 2, 3, 4])\n",
        "print(arr[0])\n",
        "print(arr[1])\n",
        "print(arr[2] + arr[3])\n",
        "print(\"-\"*10)\n",
        "print(f\"1-d Shape : {arr.shape}\")"
      ]
    },
    {
      "cell_type": "code",
      "execution_count": 59,
      "metadata": {
        "colab": {
          "base_uri": "https://localhost:8080/"
        },
        "id": "LXRfnW6GVtMR",
        "outputId": "a5522204-4345-4201-86c9-71e362e3c544"
      },
      "outputs": [
        {
          "output_type": "stream",
          "name": "stdout",
          "text": [
            "2nd element on 1st row:  2\n",
            "5th element on 2nd row:  10\n",
            "Optional: 5th element on 2nd row:  10\n",
            "Sum of 1st element on 1st row and 4th element on 2nd row:  10\n",
            "----------\n",
            "2-d Shape : (2, 5)\n"
          ]
        }
      ],
      "source": [
        "# 2-D (5 width x 2 height)\n",
        "arr = np.array([[1,2,3,4,5], [6,7,8,9,10]])\n",
        "print('2nd element on 1st row: ', arr[0, 1])\n",
        "print('5th element on 2nd row: ', arr[1, 4])\n",
        "print('Optional: 5th element on 2nd row: ', arr[1, -1])\n",
        "print('Sum of 1st element on 1st row and 4th element on 2nd row: ', arr[0, 0]+arr[1, 3])\n",
        "print(\"-\"*10)\n",
        "print(f\"2-d Shape : {arr.shape}\")"
      ]
    },
    {
      "cell_type": "code",
      "execution_count": 60,
      "metadata": {
        "colab": {
          "base_uri": "https://localhost:8080/"
        },
        "id": "sjwkzZdCVtMR",
        "outputId": "619c7ad0-86a8-4b8f-88b3-0bc2a74e473d"
      },
      "outputs": [
        {
          "output_type": "stream",
          "name": "stdout",
          "text": [
            "Last element from 1st matrix:  6\n",
            "First element from 1st matrix:  7\n",
            "Last row from 2nd matrix:  [10 11 12]\n",
            "First row from 1st matrix:  [1 2 3]\n",
            "1st matrix: \n",
            " [[1 2 3]\n",
            " [4 5 6]]\n",
            "2nd matrix: \n",
            " [[ 7  8  9]\n",
            " [10 11 12]]\n"
          ]
        }
      ],
      "source": [
        "# 3-D (2 depth x 3 width x 2 height)\n",
        "arr = np.array([[[1, 2, 3], [4, 5, 6]], [[7, 8, 9], [10, 11, 12]]])\n",
        "print('Last element from 1st matrix: ', arr[0, 1, 2])\n",
        "print('First element from 1st matrix: ', arr[1, 0, 0])\n",
        "print('Last row from 2nd matrix: ', arr[1, -1])\n",
        "print('First row from 1st matrix: ', arr[0, 0])\n",
        "print('1st matrix: \\n', arr[0])\n",
        "print('2nd matrix: \\n', arr[1])"
      ]
    },
    {
      "cell_type": "markdown",
      "metadata": {
        "id": "K6yS8cawVtMR"
      },
      "source": [
        "##### Array Slicing"
      ]
    },
    {
      "cell_type": "code",
      "execution_count": 61,
      "metadata": {
        "colab": {
          "base_uri": "https://localhost:8080/"
        },
        "id": "ZOhytYxnVtMR",
        "outputId": "0ae4da7d-6b3f-4b9a-b3d9-2580444e1dff"
      },
      "outputs": [
        {
          "output_type": "stream",
          "name": "stdout",
          "text": [
            "Indexing order\n",
            "[2 3 4 5]\n",
            "[6 7]\n",
            "[4 5 6 7]\n",
            "[1 2 3 4]\n"
          ]
        }
      ],
      "source": [
        "# 1-D\n",
        "arr = np.array([1, 2, 3, 4, 5, 6, 7])\n",
        "\n",
        "print(\"Indexing order\")\n",
        "print(arr[1:5])\n",
        "print(arr[5:7])\n",
        "print(arr[3: ])\n",
        "print(arr[ :4])"
      ]
    },
    {
      "cell_type": "code",
      "execution_count": 62,
      "metadata": {
        "colab": {
          "base_uri": "https://localhost:8080/"
        },
        "id": "PLDU9GJcVtMR",
        "outputId": "c58ba17a-32b2-498a-bc50-eb0579c59066"
      },
      "outputs": [
        {
          "output_type": "stream",
          "name": "stdout",
          "text": [
            "Indexing reversed order (minus operation)\n",
            "[3 4 5 6]\n",
            "[5 6]\n"
          ]
        }
      ],
      "source": [
        "print(\"Indexing reversed order (minus operation)\")\n",
        "print(arr[2:-1])\n",
        "print(arr[-3:-1])"
      ]
    },
    {
      "cell_type": "code",
      "execution_count": 63,
      "metadata": {
        "colab": {
          "base_uri": "https://localhost:8080/"
        },
        "id": "SIkTlT-GVtMS",
        "outputId": "f60d2403-41fa-4062-edba-0012dc7c3a52"
      },
      "outputs": [
        {
          "output_type": "stream",
          "name": "stdout",
          "text": [
            "Indexing skip order\n",
            "[1 2 3 4 5 6 7]\n",
            "[1 3 5 7]\n",
            "Indexing skip order/normal operation\n",
            "[4 5 6 7]\n",
            "[2 4]\n",
            "Indexing skip order/minus-reversed operation\n",
            "[1 3 5]\n",
            "[4 6]\n"
          ]
        }
      ],
      "source": [
        "print(\"Indexing skip order\")\n",
        "print(arr[::1])\n",
        "print(arr[::2])\n",
        "print(\"Indexing skip order/normal operation\")\n",
        "print(arr[3::1])\n",
        "print(arr[1:5:2])\n",
        "print(\"Indexing skip order/minus-reversed operation\")\n",
        "print(arr[:-1:2])\n",
        "print(arr[-4:-1:2])"
      ]
    },
    {
      "cell_type": "code",
      "execution_count": 64,
      "metadata": {
        "colab": {
          "base_uri": "https://localhost:8080/"
        },
        "id": "Z3jDxSEUVtMS",
        "outputId": "445f9bfc-1383-404f-c2a4-740539c29c61"
      },
      "outputs": [
        {
          "output_type": "stream",
          "name": "stdout",
          "text": [
            "Indexing order\n",
            "[7 8 9]\n",
            "[3 8]\n",
            "[[2 3 4]\n",
            " [7 8 9]]\n"
          ]
        }
      ],
      "source": [
        "# 2-D\n",
        "arr = np.array([[1, 2, 3, 4, 5], [6, 7, 8, 9, 10]])\n",
        "\n",
        "print(\"Indexing order\")\n",
        "print(arr[1, 1:4])\n",
        "print(arr[0:2, 2])\n",
        "print(arr[0:2, 1:4])"
      ]
    },
    {
      "cell_type": "markdown",
      "metadata": {
        "id": "UrqSRBdjVtMS"
      },
      "source": [
        "##### Data Types\n",
        "\n",
        "i - integer\\\n",
        "b - boolean\\\n",
        "u - unsigned integer\\\n",
        "f - float\\\n",
        "c - complex float\\\n",
        "m - timedelta\\\n",
        "M - datetime\\\n",
        "O - object\\\n",
        "S - string\\\n",
        "U - unicode string\\\n",
        "V - fixed chunk of memory for other type ( void )"
      ]
    },
    {
      "cell_type": "code",
      "execution_count": 65,
      "metadata": {
        "colab": {
          "base_uri": "https://localhost:8080/"
        },
        "id": "nlX8XGfsVtMS",
        "outputId": "c3b4e509-7abc-4577-de44-fb16d3907b7c"
      },
      "outputs": [
        {
          "output_type": "stream",
          "name": "stdout",
          "text": [
            "int64\n"
          ]
        }
      ],
      "source": [
        "# integer\n",
        "arr = np.array([1, 2, 3, 4])\n",
        "print(arr.dtype)"
      ]
    },
    {
      "cell_type": "code",
      "execution_count": 66,
      "metadata": {
        "colab": {
          "base_uri": "https://localhost:8080/"
        },
        "id": "ort9boB_VtMS",
        "outputId": "c438e79d-9cb1-4d93-eb7c-e81594bf74dc"
      },
      "outputs": [
        {
          "output_type": "stream",
          "name": "stdout",
          "text": [
            "float64\n"
          ]
        }
      ],
      "source": [
        "# float\n",
        "arr = np.array([1., 2.5, 3.0, 4.2345697789])\n",
        "print(arr.dtype)"
      ]
    },
    {
      "cell_type": "code",
      "execution_count": 67,
      "metadata": {
        "colab": {
          "base_uri": "https://localhost:8080/"
        },
        "id": "I9eISuReVtMS",
        "outputId": "920a480f-9258-47da-8161-bd4a38b966bc"
      },
      "outputs": [
        {
          "output_type": "stream",
          "name": "stdout",
          "text": [
            "<U6\n"
          ]
        }
      ],
      "source": [
        "# strings\n",
        "arr = np.array(['apple', 'banana', 'cherry'])\n",
        "print(arr.dtype)"
      ]
    },
    {
      "cell_type": "code",
      "execution_count": 68,
      "metadata": {
        "colab": {
          "base_uri": "https://localhost:8080/"
        },
        "id": "wF7bXbJxVtMS",
        "outputId": "dcf10efa-6db7-45ba-e9b9-2c19c7282097"
      },
      "outputs": [
        {
          "output_type": "stream",
          "name": "stdout",
          "text": [
            "[b'1' b'2' b'3' b'4']\n",
            "|S1\n"
          ]
        }
      ],
      "source": [
        "# string\n",
        "arr = np.array([1, 2, 3, 4], dtype='S')\n",
        "print(arr)\n",
        "print(arr.dtype)"
      ]
    },
    {
      "cell_type": "code",
      "execution_count": 69,
      "metadata": {
        "colab": {
          "base_uri": "https://localhost:8080/"
        },
        "id": "Ax7mu-GKVtMT",
        "outputId": "ed06fa5b-26f5-43d6-8b5a-281cd262bed1"
      },
      "outputs": [
        {
          "output_type": "stream",
          "name": "stdout",
          "text": [
            "[1 2 3 4]\n",
            "int32\n"
          ]
        }
      ],
      "source": [
        "# 4 bytes integer\n",
        "arr = np.array([1, 2, 3, 4], dtype='i4')\n",
        "print(arr)\n",
        "print(arr.dtype)"
      ]
    },
    {
      "cell_type": "code",
      "execution_count": 70,
      "metadata": {
        "colab": {
          "base_uri": "https://localhost:8080/"
        },
        "id": "zcaGdYl_VtMT",
        "outputId": "cfa5b85c-7c77-4af9-b76d-9a87e17ec316"
      },
      "outputs": [
        {
          "output_type": "stream",
          "name": "stdout",
          "text": [
            "[1 2 3]\n",
            "int32\n"
          ]
        }
      ],
      "source": [
        "# conversion\n",
        "# 1st: float-to-int\n",
        "arr = np.array([1.1, 2.1, 3.9])\n",
        "newarr = arr.astype('i')\n",
        "print(newarr)\n",
        "print(newarr.dtype)"
      ]
    },
    {
      "cell_type": "code",
      "execution_count": 71,
      "metadata": {
        "colab": {
          "base_uri": "https://localhost:8080/"
        },
        "id": "5zEkQIovVtMT",
        "outputId": "13bf60ca-30eb-4865-fb90-b2a5312310b1"
      },
      "outputs": [
        {
          "output_type": "stream",
          "name": "stdout",
          "text": [
            "[1 2 3]\n",
            "int64\n"
          ]
        }
      ],
      "source": [
        "# 2nd: float-to-int\n",
        "arr = np.array([1.1, 2.1, 3.9])\n",
        "newarr = arr.astype(int)\n",
        "print(newarr)\n",
        "print(newarr.dtype)"
      ]
    },
    {
      "cell_type": "code",
      "execution_count": 72,
      "metadata": {
        "colab": {
          "base_uri": "https://localhost:8080/"
        },
        "id": "f-can6VOVtMT",
        "outputId": "2f044fb7-d8f1-405d-f4a3-de661fde26bd"
      },
      "outputs": [
        {
          "output_type": "stream",
          "name": "stdout",
          "text": [
            "[ True False  True]\n",
            "bool\n"
          ]
        }
      ],
      "source": [
        "# int-to-bool\n",
        "arr = np.array([1, 0, -3])\n",
        "newarr = arr.astype(bool)\n",
        "print(newarr)\n",
        "print(newarr.dtype)"
      ]
    },
    {
      "cell_type": "markdown",
      "metadata": {
        "id": "WpKxnw95VtMT"
      },
      "source": [
        "##### Array Copying"
      ]
    },
    {
      "cell_type": "code",
      "execution_count": 73,
      "metadata": {
        "colab": {
          "base_uri": "https://localhost:8080/"
        },
        "id": "QgicRq6wVtMT",
        "outputId": "5a528c6d-6bc7-4be7-deb3-a241b8cac9bc"
      },
      "outputs": [
        {
          "output_type": "stream",
          "name": "stdout",
          "text": [
            "[42  2  3  4  5]\n",
            "[1 2 3 4 5]\n"
          ]
        }
      ],
      "source": [
        "# copy (pass by value)\n",
        "arr = np.array([1, 2, 3, 4, 5])\n",
        "x = arr.copy()\n",
        "arr[0] = 42\n",
        "print(arr)\n",
        "print(x)"
      ]
    },
    {
      "cell_type": "markdown",
      "metadata": {
        "id": "cdCUgXJvg0Jd"
      },
      "source": [
        ".view() ใช้บ่อย จำไว้ให้ดี"
      ]
    },
    {
      "cell_type": "code",
      "execution_count": 74,
      "metadata": {
        "colab": {
          "base_uri": "https://localhost:8080/"
        },
        "id": "gulNRa0-VtMT",
        "outputId": "95d2157b-1496-46cb-ba87-dfd637436257"
      },
      "outputs": [
        {
          "output_type": "stream",
          "name": "stdout",
          "text": [
            "[42  2  3  4  5]\n",
            "[42  2  3  4  5]\n"
          ]
        }
      ],
      "source": [
        "# view (pass by reference)\n",
        "arr = np.array([1, 2, 3, 4, 5])\n",
        "x = arr.view()\n",
        "arr[0] = 42\n",
        "print(arr)\n",
        "print(x)"
      ]
    },
    {
      "cell_type": "markdown",
      "metadata": {
        "id": "QNsWyv7VVtMU"
      },
      "source": [
        "##### Shape and reshape"
      ]
    },
    {
      "cell_type": "code",
      "execution_count": 75,
      "metadata": {
        "colab": {
          "base_uri": "https://localhost:8080/"
        },
        "id": "2WnD_q-MVtMU",
        "outputId": "e8148058-a8b2-410d-c74e-91a5d9bd4bbe"
      },
      "outputs": [
        {
          "output_type": "stream",
          "name": "stdout",
          "text": [
            "[1 2 3 4]\n",
            "pre-shape of array with added dimension: (4,)\n",
            "\n",
            "\n",
            "\n",
            "\n",
            "[[[[[1 2 3 4]]]]]\n",
            "pre-shape of array with added dimension: (1, 1, 1, 1, 4)\n"
          ]
        }
      ],
      "source": [
        "# Shape\n",
        "arr = np.array([1, 2, 3, 4])\n",
        "print(arr)\n",
        "print('pre-shape of array with added dimension:', arr.shape)\n",
        "print('\\n'*3)\n",
        "arr = np.array([1, 2, 3, 4], ndmin=5)\n",
        "print(arr)\n",
        "print('pre-shape of array with added dimension:', arr.shape)"
      ]
    },
    {
      "cell_type": "code",
      "execution_count": 76,
      "metadata": {
        "colab": {
          "base_uri": "https://localhost:8080/"
        },
        "id": "6NCIR902VtMU",
        "outputId": "17322457-e1bb-4d94-dae5-7c33471e1362"
      },
      "outputs": [
        {
          "output_type": "stream",
          "name": "stdout",
          "text": [
            "[ 1  2  3  4  5  6  7  8  9 10 11 12] (12,)\n",
            "------------------------------\n",
            "row-major\n",
            "[[ 1  2  3]\n",
            " [ 4  5  6]\n",
            " [ 7  8  9]\n",
            " [10 11 12]] (4, 3)\n",
            "------------------------------\n",
            "column-major\n",
            "[[ 1  5  9]\n",
            " [ 2  6 10]\n",
            " [ 3  7 11]\n",
            " [ 4  8 12]] (4, 3)\n"
          ]
        }
      ],
      "source": [
        "# Reshape 1-D to 2-D\n",
        "# order = 'C' => row-major (default)\n",
        "# order = 'F' => column-major\n",
        "\n",
        "arr = np.array([1, 2, 3, 4, 5, 6, 7, 8, 9, 10, 11, 12])\n",
        "print(arr, arr.shape)\n",
        "print('-'*30)\n",
        "print('row-major')\n",
        "newarrC = arr.reshape((4, 3),order = 'C')\n",
        "print(newarrC, newarrC.shape)\n",
        "print('-'*30)\n",
        "print('column-major')\n",
        "newarrA = arr.reshape((4, 3),order = 'F')\n",
        "print(newarrA, newarrA.shape)"
      ]
    },
    {
      "cell_type": "code",
      "execution_count": 77,
      "metadata": {
        "colab": {
          "base_uri": "https://localhost:8080/"
        },
        "id": "ncMAMeQCVtMU",
        "outputId": "efdb0f8e-6d92-453f-aa72-da7c38380aea"
      },
      "outputs": [
        {
          "output_type": "stream",
          "name": "stdout",
          "text": [
            "[[[ 1  2]\n",
            "  [ 3  4]\n",
            "  [ 5  6]]\n",
            "\n",
            " [[ 7  8]\n",
            "  [ 9 10]\n",
            "  [11 12]]] (2, 3, 2)\n"
          ]
        }
      ],
      "source": [
        "# Reshape 1-D to 3-D\n",
        "# .reshape(2, 3, 2) (2 chanel, 3 h, 2 w)\n",
        "arr = np.array([1, 2, 3, 4, 5, 6, 7, 8, 9, 10, 11, 12])\n",
        "newarr = arr.reshape(2, 3, 2)\n",
        "print(newarr, newarr.shape)"
      ]
    },
    {
      "cell_type": "code",
      "execution_count": 78,
      "metadata": {
        "colab": {
          "base_uri": "https://localhost:8080/"
        },
        "id": "j_QgYnnxVtMU",
        "outputId": "dd94ee64-873b-4f20-b8ea-2722ce506614"
      },
      "outputs": [
        {
          "output_type": "stream",
          "name": "stdout",
          "text": [
            "[[[1 2]\n",
            "  [3 4]]\n",
            "\n",
            " [[5 6]\n",
            "  [7 8]]] (2, 2, 2)\n"
          ]
        }
      ],
      "source": [
        "# Use -1 to let NumPy automatically calculate the size of this dimension\n",
        "arr = np.array([1, 2, 3, 4, 5, 6, 7, 8])\n",
        "newarr = arr.reshape(2, 2, -1)\n",
        "print(newarr, newarr.shape)"
      ]
    },
    {
      "cell_type": "markdown",
      "metadata": {
        "id": "Uz9SiyKMVtMY"
      },
      "source": [
        "##### Iterating Arrays"
      ]
    },
    {
      "cell_type": "markdown",
      "metadata": {
        "id": "2yVKHOhHVtMY"
      },
      "source": [
        "Iterating 2-D Arrays"
      ]
    },
    {
      "cell_type": "code",
      "execution_count": 79,
      "metadata": {
        "colab": {
          "base_uri": "https://localhost:8080/"
        },
        "id": "_7k7zk-fVtMZ",
        "outputId": "665bdf5d-723f-493f-aa83-bb3ec1a796ac"
      },
      "outputs": [
        {
          "output_type": "stream",
          "name": "stdout",
          "text": [
            "(2, 3)\n",
            "[1 2 3]\n",
            "----------\n",
            "[4 5 6]\n",
            "----------\n"
          ]
        }
      ],
      "source": [
        "arr = np.array([[1, 2, 3], [4, 5, 6]])\n",
        "print(arr.shape)\n",
        "# print sub-vector (1D) of 2-D array\n",
        "for x in arr:\n",
        "  print(x)\n",
        "  print('-'*10)"
      ]
    },
    {
      "cell_type": "code",
      "execution_count": 80,
      "metadata": {
        "colab": {
          "base_uri": "https://localhost:8080/"
        },
        "id": "hDVXtzXEVtMZ",
        "outputId": "fc8573c0-e2d2-47ae-b0ae-38d78b63098c"
      },
      "outputs": [
        {
          "output_type": "stream",
          "name": "stdout",
          "text": [
            "1\n",
            "----------\n",
            "2\n",
            "----------\n",
            "3\n",
            "----------\n",
            "4\n",
            "----------\n",
            "5\n",
            "----------\n",
            "6\n",
            "----------\n"
          ]
        }
      ],
      "source": [
        "# print sub-element (scalar) of sub-array of 2-D array\n",
        "for x in arr:\n",
        "  for y in x:\n",
        "    print(y)\n",
        "    print('-'*10)"
      ]
    },
    {
      "cell_type": "markdown",
      "metadata": {
        "id": "wVdExwgJVtMZ"
      },
      "source": [
        "Iterating 3-D Arrays"
      ]
    },
    {
      "cell_type": "code",
      "execution_count": 81,
      "metadata": {
        "colab": {
          "base_uri": "https://localhost:8080/"
        },
        "id": "e4nLg8U8VtMZ",
        "outputId": "4ab97f51-e194-4d4c-cad7-bb8592a8931b"
      },
      "outputs": [
        {
          "output_type": "stream",
          "name": "stdout",
          "text": [
            "(2, 2, 3)\n",
            "[[1 2 3]\n",
            " [4 5 6]]\n",
            "----------\n",
            "[[ 7  8  9]\n",
            " [10 11 12]]\n",
            "----------\n"
          ]
        }
      ],
      "source": [
        "arr = np.array([[[1, 2, 3], [4, 5, 6]], [[7, 8, 9], [10, 11, 12]]])\n",
        "print(arr.shape)\n",
        "\n",
        "# print sub-matrix (2D) of 3-D array\n",
        "for x in arr:\n",
        "  print(x)\n",
        "  print('-'*10)"
      ]
    },
    {
      "cell_type": "code",
      "execution_count": 82,
      "metadata": {
        "colab": {
          "base_uri": "https://localhost:8080/"
        },
        "id": "lJVI3h3hVtMZ",
        "outputId": "aee2a1a9-6a94-45f2-802d-d40b065c074c"
      },
      "outputs": [
        {
          "output_type": "stream",
          "name": "stdout",
          "text": [
            "[1 2 3]\n",
            "[4 5 6]\n",
            "[7 8 9]\n",
            "[10 11 12]\n"
          ]
        }
      ],
      "source": [
        "# print sub-vector (1D) of subsub-matrix (2D) of 3-D array\n",
        "for x in arr:\n",
        "  for y in x:\n",
        "    print(y)"
      ]
    },
    {
      "cell_type": "code",
      "execution_count": 83,
      "metadata": {
        "colab": {
          "base_uri": "https://localhost:8080/"
        },
        "id": "N7elo0zSVtMZ",
        "outputId": "4c7ccd8c-659f-49be-a11c-1ec8c9c9ed7a"
      },
      "outputs": [
        {
          "output_type": "stream",
          "name": "stdout",
          "text": [
            "1\n",
            "2\n",
            "3\n",
            "4\n",
            "5\n",
            "6\n",
            "7\n",
            "8\n",
            "9\n",
            "10\n",
            "11\n",
            "12\n"
          ]
        }
      ],
      "source": [
        "# print sub-element (scalar) of sub-vector (1D) of subsub-matrix (2D) of 3-D array\n",
        "for x in arr:\n",
        "  for y in x:\n",
        "    for z in y:\n",
        "      print(z)"
      ]
    },
    {
      "cell_type": "code",
      "execution_count": 84,
      "metadata": {
        "colab": {
          "base_uri": "https://localhost:8080/"
        },
        "id": "LfdofGK8VtMa",
        "outputId": "8bc6f65e-2a6a-45c6-da40-937d3640c95e"
      },
      "outputs": [
        {
          "output_type": "stream",
          "name": "stdout",
          "text": [
            "1\n",
            "2\n",
            "3\n",
            "4\n",
            "5\n",
            "6\n",
            "7\n",
            "8\n"
          ]
        }
      ],
      "source": [
        "#Optional: print sub-element via np.nditer\n",
        "arr = np.array([[[1, 2], [3, 4]], [[5, 6], [7, 8]]])\n",
        "for x in np.nditer(arr):\n",
        "  print(x)"
      ]
    },
    {
      "cell_type": "code",
      "execution_count": 85,
      "metadata": {
        "colab": {
          "base_uri": "https://localhost:8080/"
        },
        "id": "dhuMOKNqVtMa",
        "outputId": "206a7a7f-7f89-471b-da08-c262e5121ccf"
      },
      "outputs": [
        {
          "output_type": "stream",
          "name": "stdout",
          "text": [
            "np.bytes_(b'1')\n",
            "np.bytes_(b'2')\n",
            "np.bytes_(b'3')\n"
          ]
        }
      ],
      "source": [
        "arr = np.array([1, 2, 3])\n",
        "for x in np.nditer(arr, flags=['buffered'], op_dtypes=['S']):\n",
        "  print(x)"
      ]
    },
    {
      "cell_type": "code",
      "execution_count": 86,
      "metadata": {
        "colab": {
          "base_uri": "https://localhost:8080/"
        },
        "id": "mw7RLgT5VtMa",
        "outputId": "94d41856-eb3c-4e27-d2cf-0fa85b4289c3"
      },
      "outputs": [
        {
          "output_type": "stream",
          "name": "stdout",
          "text": [
            "1\n",
            "3\n",
            "5\n",
            "7\n"
          ]
        }
      ],
      "source": [
        "arr = np.array([[1, 2, 3, 4], [5, 6, 7, 8]])\n",
        "for x in np.nditer(arr[:,::2]):\n",
        "  print(x)"
      ]
    },
    {
      "cell_type": "code",
      "execution_count": 87,
      "metadata": {
        "colab": {
          "base_uri": "https://localhost:8080/"
        },
        "id": "ep9_PpzdVtMa",
        "outputId": "59c10edc-520b-4e81-eb58-d3baf725fdb0"
      },
      "outputs": [
        {
          "output_type": "stream",
          "name": "stdout",
          "text": [
            "(0,) 1\n",
            "(1,) 2\n",
            "(2,) 3\n",
            "----------\n",
            "(0, 0) 1\n",
            "(0, 1) 2\n",
            "(0, 2) 3\n",
            "(0, 3) 4\n",
            "(1, 0) 5\n",
            "(1, 1) 6\n",
            "(1, 2) 7\n",
            "(1, 3) 8\n"
          ]
        }
      ],
      "source": [
        "arr = np.array([1, 2, 3])\n",
        "for idx, x in np.ndenumerate(arr):\n",
        "  print(idx, x)\n",
        "\n",
        "print('-'*10)\n",
        "arr = np.array([[1, 2, 3, 4], [5, 6, 7, 8]])\n",
        "for idx, x in np.ndenumerate(arr):\n",
        "  print(idx, x)"
      ]
    },
    {
      "cell_type": "markdown",
      "metadata": {
        "id": "UL1GTC6RVtMa"
      },
      "source": [
        "##### Array Concatenation & Stacking"
      ]
    },
    {
      "cell_type": "code",
      "execution_count": 88,
      "metadata": {
        "colab": {
          "base_uri": "https://localhost:8080/"
        },
        "id": "nlj7CTdLVtMa",
        "outputId": "f2b223b4-eb32-41c3-803e-6104469b9267"
      },
      "outputs": [
        {
          "output_type": "stream",
          "name": "stdout",
          "text": [
            "[1 2 3 4 5 6] (6,)\n"
          ]
        }
      ],
      "source": [
        "# 1-D concat\n",
        "arr1 = np.array([1, 2, 3])\n",
        "arr2 = np.array([4, 5, 6])\n",
        "arr = np.concatenate((arr1, arr2))\n",
        "print(arr, arr.shape)"
      ]
    },
    {
      "cell_type": "code",
      "execution_count": 89,
      "metadata": {
        "colab": {
          "base_uri": "https://localhost:8080/"
        },
        "id": "yeFGU1mSVtMb",
        "outputId": "a43dbe22-64c0-4e1e-aad1-0a6cb99187f0"
      },
      "outputs": [
        {
          "output_type": "stream",
          "name": "stdout",
          "text": [
            "[[1 2 5 6]\n",
            " [3 4 7 8]] (2, 4)\n"
          ]
        }
      ],
      "source": [
        "# 2-D concat\n",
        "arr1 = np.array([[1, 2], [3, 4]])\n",
        "arr2 = np.array([[5, 6], [7, 8]])\n",
        "arr = np.concatenate((arr1, arr2), axis=1)\n",
        "print(arr, arr.shape)"
      ]
    },
    {
      "cell_type": "code",
      "execution_count": 90,
      "metadata": {
        "colab": {
          "base_uri": "https://localhost:8080/"
        },
        "id": "s10BJmvBVtMb",
        "outputId": "7a5ad709-12a0-4ca3-b5fe-543674bd00ea"
      },
      "outputs": [
        {
          "output_type": "stream",
          "name": "stdout",
          "text": [
            "[1 2 3 4 5 6] (6,)\n"
          ]
        }
      ],
      "source": [
        "# 1-D hstack (horizontal stack)\n",
        "arr1 = np.array([1, 2, 3])\n",
        "arr2 = np.array([4, 5, 6])\n",
        "arr = np.hstack((arr1, arr2))\n",
        "print(arr, arr.shape)"
      ]
    },
    {
      "cell_type": "code",
      "execution_count": 91,
      "metadata": {
        "colab": {
          "base_uri": "https://localhost:8080/"
        },
        "id": "xi6uY75cVtMb",
        "outputId": "f8735cfd-14b8-4480-b8c2-4fa13ed030ac"
      },
      "outputs": [
        {
          "output_type": "stream",
          "name": "stdout",
          "text": [
            "[[1 2 3]\n",
            " [4 5 6]] (2, 3)\n"
          ]
        }
      ],
      "source": [
        "# 1-D vstack (vertical stack)\n",
        "arr1 = np.array([1, 2, 3])\n",
        "arr2 = np.array([4, 5, 6])\n",
        "arr = np.vstack((arr1, arr2))\n",
        "print(arr, arr.shape)"
      ]
    },
    {
      "cell_type": "code",
      "execution_count": 92,
      "metadata": {
        "colab": {
          "base_uri": "https://localhost:8080/"
        },
        "id": "yyHnnK0xVtMb",
        "outputId": "81d8fb87-4787-49ad-8a5f-4553300b0b4a"
      },
      "outputs": [
        {
          "output_type": "stream",
          "name": "stdout",
          "text": [
            "[[[1 4]\n",
            "  [2 5]\n",
            "  [3 6]]] (1, 3, 2)\n"
          ]
        }
      ],
      "source": [
        "# 1-D dstack (depth stack)\n",
        "arr1 = np.array([1, 2, 3])\n",
        "arr2 = np.array([4, 5, 6])\n",
        "arr = np.dstack((arr1, arr2))\n",
        "print(arr, arr.shape)"
      ]
    },
    {
      "cell_type": "markdown",
      "metadata": {
        "id": "SRV52qpdVtMc"
      },
      "source": [
        "##### Array Spliting"
      ]
    },
    {
      "cell_type": "code",
      "execution_count": 93,
      "metadata": {
        "colab": {
          "base_uri": "https://localhost:8080/"
        },
        "id": "Ne-X-wM1VtMc",
        "outputId": "97440ed2-be12-4c64-fccc-b13728572082"
      },
      "outputs": [
        {
          "output_type": "stream",
          "name": "stdout",
          "text": [
            "[array([1, 2]), array([3, 4]), array([5, 6])] (2,)\n"
          ]
        }
      ],
      "source": [
        "# 1-D\n",
        "arr = np.array([1, 2, 3, 4, 5, 6])\n",
        "newarr = np.array_split(arr, 3)\n",
        "print(newarr, newarr[0].shape)"
      ]
    },
    {
      "cell_type": "code",
      "execution_count": 94,
      "metadata": {
        "colab": {
          "base_uri": "https://localhost:8080/"
        },
        "id": "S3iPBfNLVtMc",
        "outputId": "73bea7b1-2249-4e29-beee-d3ddb1a8f879"
      },
      "outputs": [
        {
          "output_type": "stream",
          "name": "stdout",
          "text": [
            "[array([1, 2]), array([3, 4]), array([5]), array([6])]\n"
          ]
        }
      ],
      "source": [
        "arr = np.array([1, 2, 3, 4, 5, 6])\n",
        "newarr = np.array_split(arr, 4)\n",
        "print(newarr)"
      ]
    },
    {
      "cell_type": "code",
      "execution_count": 95,
      "metadata": {
        "colab": {
          "base_uri": "https://localhost:8080/"
        },
        "id": "ZJLfRsnpVtMc",
        "outputId": "d7b2cb08-6d6a-4041-b3f8-c66321388f86"
      },
      "outputs": [
        {
          "output_type": "stream",
          "name": "stdout",
          "text": [
            "[array([[1, 2],\n",
            "       [3, 4]]), array([[5, 6],\n",
            "       [7, 8]]), array([[ 9, 10],\n",
            "       [11, 12]])] (2, 2)\n"
          ]
        }
      ],
      "source": [
        "# 2-D\n",
        "arr = np.array([[1, 2], [3, 4], [5, 6], [7, 8], [9, 10], [11, 12]])\n",
        "newarr = np.array_split(arr, 3)\n",
        "print(newarr, newarr[0].shape)"
      ]
    },
    {
      "cell_type": "code",
      "execution_count": 96,
      "metadata": {
        "colab": {
          "base_uri": "https://localhost:8080/"
        },
        "id": "_zTSBFD-VtMc",
        "outputId": "27ad73c3-ad88-490c-9d9b-b6eb8c50bff3"
      },
      "outputs": [
        {
          "output_type": "stream",
          "name": "stdout",
          "text": [
            "[array([[1, 2, 3],\n",
            "       [4, 5, 6]]), array([[ 7,  8,  9],\n",
            "       [10, 11, 12]]), array([[13, 14, 15],\n",
            "       [16, 17, 18]])] (2, 3)\n"
          ]
        }
      ],
      "source": [
        "arr = np.array([[1, 2, 3], [4, 5, 6], [7, 8, 9], [10, 11, 12], [13, 14, 15], [16, 17, 18]])\n",
        "newarr = np.array_split(arr, 3)\n",
        "print(newarr, newarr[0].shape)"
      ]
    },
    {
      "cell_type": "markdown",
      "metadata": {
        "id": "hG_qnK3WVtMc"
      },
      "source": [
        "# HW1_1\n",
        "\n",
        "1. ``` np.array([[[1, 1, 1], [1, 1, 1]], [[1, 1, 1], [1, 1, 1]]])``` จงหาขนาด Dimension ของมิติที่ข้างต้น\n",
        "\n",
        "2. ```arr = np.array([[[1, 2], [2, 1]], [[3, 2], [2, 3]], [[4, 3], [3, 4]]])``` จงหาผลลัพท์ของ \\\n",
        "  2.1 arr[0, 0, 0] + arr[1, 1, 1] \\\n",
        "  2.2 arr[0] + arr[1]"
      ]
    },
    {
      "cell_type": "code",
      "execution_count": 97,
      "metadata": {
        "id": "cVgLr1VxThzC",
        "colab": {
          "base_uri": "https://localhost:8080/"
        },
        "outputId": "76fb8540-5be0-46cc-f597-d7c73fe2094b"
      },
      "outputs": [
        {
          "output_type": "stream",
          "name": "stdout",
          "text": [
            "Shape: (2, 2, 3)\n",
            "Number of dimensions: 3\n"
          ]
        }
      ],
      "source": [
        "# ข้อที่ 1\n",
        "# np.array([[[1, 1, 1], [1, 1, 1]], [[1, 1, 1], [1, 1, 1]]]) จงหาขนาด Dimension ของมิติที่ข้างต้น\n",
        "arr = np.array([[[1, 1, 1], [1, 1, 1]], [[1, 1, 1], [1, 1, 1]]])\n",
        "print(f\"Shape: {arr.shape}\")\n",
        "print(f\"Number of dimensions: {arr.ndim}\")\n"
      ]
    },
    {
      "cell_type": "code",
      "execution_count": 98,
      "metadata": {
        "id": "5Lgn1bNbTxJ6",
        "colab": {
          "base_uri": "https://localhost:8080/"
        },
        "outputId": "99dfe245-1ccb-428d-bfc4-918084dab7e3"
      },
      "outputs": [
        {
          "output_type": "stream",
          "name": "stdout",
          "text": [
            "2.1 arr[0, 0, 0] + arr[1, 1, 1] = 4\n",
            "2.2 arr[0] + arr[1] =\n",
            "Result = \n",
            "[[4 4]\n",
            " [4 4]]\n"
          ]
        }
      ],
      "source": [
        "# ข้อที่ 2 (มี 2 ข้อ)\n",
        "# arr = np.array([[[1, 2], [2, 1]], [[3, 2], [2, 3]], [[4, 3], [3, 4]]]) จงหา\n",
        "# 2.1 arr[0, 0, 0] + arr[1, 1, 1]\n",
        "# 2.2 arr[0] + arr[1]\n",
        "\n",
        "arr = np.array([[[1, 2], [2, 1]], [[3, 2], [2, 3]], [[4, 3], [3, 4]]])\n",
        "\n",
        "# 2.1 arr[0, 0, 0] + arr[1, 1, 1]\n",
        "result_2_1 = arr[0, 0, 0] + arr[1, 1, 1]\n",
        "print(f\"2.1 arr[0, 0, 0] + arr[1, 1, 1] = {result_2_1}\")\n",
        "\n",
        "# 2.2 arr[0] + arr[1]\n",
        "result_2_2 = arr[0] + arr[1]\n",
        "print(\"2.2 arr[0] + arr[1] =\")\n",
        "print(f\"Result = \\n{result_2_2}\")"
      ]
    }
  ],
  "metadata": {
    "colab": {
      "provenance": [],
      "include_colab_link": true
    },
    "kernelspec": {
      "display_name": "Python 3",
      "language": "python",
      "name": "python3"
    },
    "language_info": {
      "codemirror_mode": {
        "name": "ipython",
        "version": 3
      },
      "file_extension": ".py",
      "mimetype": "text/x-python",
      "name": "python",
      "nbconvert_exporter": "python",
      "pygments_lexer": "ipython3",
      "version": "3.13.5"
    }
  },
  "nbformat": 4,
  "nbformat_minor": 0
}
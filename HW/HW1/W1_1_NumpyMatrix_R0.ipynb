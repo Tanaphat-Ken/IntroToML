{
  "cells": [
    {
      "cell_type": "markdown",
      "metadata": {
        "id": "zAwTPA_5VtMJ"
      },
      "source": [
        "# Numpy Tutorial\n",
        "Ref: https://www.w3schools.com/python/numpy/default.asp"
      ]
    },
    {
      "cell_type": "markdown",
      "metadata": {
        "id": "atjTXbjhVtMM"
      },
      "source": [
        "##### Sample"
      ]
    },
    {
      "cell_type": "markdown",
      "metadata": {
        "id": "zMq9me-sYQq8"
      },
      "source": [
        "numpy array นั้นมี requirements ที่มากกว่าของ array ปกติ เนื่องจากหากกำหนดให้ข้อมูลภายในนั้นเป็นชนิดใดก็ตามแล้ว ภายใน array นั้น ๆ จะต้องมีข้อมูลชนิดนั้นเท่านั้น เช่น ต้องเป็นตัวอักษรทั้งหมด หรือต้องเป็นตัวเลขทั้งหมด แต่ความยุ่งยากนี้แลกมากับความเร็วในการทำงานที่มากขึ้น ดังตัวอย่างด้านล่าง"
      ]
    },
    {
      "cell_type": "code",
      "execution_count": 50,
      "metadata": {
        "id": "LG5RqNwVZ4dZ"
      },
      "outputs": [
        {
          "name": "stdout",
          "output_type": "stream",
          "text": [
            "Python list time: 0.00603175163269043 seconds\n",
            "Python result: [10, 7, 11, 11, 8, 13, 5, 3, 14, 14, 7, 9, 14, 10, 5, 10, 6, 15, 6, 1]\n",
            "------------------------------\n",
            "NumPy array time: 0.0001780986785888672 seconds\n",
            "NumPy result: [10  7 11 ...  8  4 13]\n",
            "is equal : True\n"
          ]
        }
      ],
      "source": [
        "import numpy as np\n",
        "import time\n",
        "\n",
        "size = 100_000\n",
        "\n",
        "list1 = np.random.randint(0, 10, size).tolist()\n",
        "list2 = np.random.randint(0, 10, size).tolist()\n",
        "\n",
        "array1 = np.array(list1)\n",
        "array2 = np.array(list2)\n",
        "\n",
        "start_time = time.time()\n",
        "result_list = [list1[i] + list2[i] for i in range(size)]\n",
        "list_time = time.time() - start_time\n",
        "\n",
        "start_time = time.time()\n",
        "result_array = array1 + array2\n",
        "numpy_time = time.time() - start_time\n",
        "\n",
        "results_equal = result_list == result_array.tolist()\n",
        "\n",
        "print(\"Python list time:\", list_time, \"seconds\")\n",
        "print(\"Python result:\", result_list[:20])\n",
        "print(\"-\"*30)\n",
        "print(\"NumPy array time:\", numpy_time, \"seconds\")\n",
        "print(\"NumPy result:\", result_array)\n",
        "print(\"is equal :\", results_equal)"
      ]
    },
    {
      "cell_type": "code",
      "execution_count": 51,
      "metadata": {
        "id": "3ATYjnGYVtMM"
      },
      "outputs": [],
      "source": [
        "arr = [1, 2, 3, 4, 5]"
      ]
    },
    {
      "cell_type": "code",
      "execution_count": 52,
      "metadata": {
        "id": "xs41YKQfVtMO"
      },
      "outputs": [
        {
          "data": {
            "text/plain": [
              "array([1, 2, 3, 4, 5])"
            ]
          },
          "execution_count": 52,
          "metadata": {},
          "output_type": "execute_result"
        }
      ],
      "source": [
        "arr = np.array(arr)\n",
        "arr"
      ]
    },
    {
      "cell_type": "code",
      "execution_count": 53,
      "metadata": {
        "id": "56Xm2ozTVtMO"
      },
      "outputs": [
        {
          "name": "stdout",
          "output_type": "stream",
          "text": [
            "2.3.1\n"
          ]
        }
      ],
      "source": [
        "print(np.__version__)"
      ]
    },
    {
      "cell_type": "markdown",
      "metadata": {
        "id": "AU5-RSCSVtMP"
      },
      "source": [
        "##### Creating arrays"
      ]
    },
    {
      "cell_type": "code",
      "execution_count": 54,
      "metadata": {
        "id": "Bwma4AeCVtMP"
      },
      "outputs": [
        {
          "name": "stdout",
          "output_type": "stream",
          "text": [
            "42 ()\n"
          ]
        }
      ],
      "source": [
        "# 0-D == scalar value (Only value, none of matrix)\n",
        "arr = np.array(42)\n",
        "print(arr, arr.shape)"
      ]
    },
    {
      "cell_type": "code",
      "execution_count": 55,
      "metadata": {
        "id": "jrRUR9mkVtMP"
      },
      "outputs": [
        {
          "name": "stdout",
          "output_type": "stream",
          "text": [
            "[3 2] (2,)\n"
          ]
        }
      ],
      "source": [
        "# 1-D = Only H or W vector array (Only Height or Width)\n",
        "arr = np.array([3, 2])\n",
        "print(arr, arr.shape)"
      ]
    },
    {
      "cell_type": "code",
      "execution_count": 56,
      "metadata": {
        "id": "lDiY0q-0VtMQ"
      },
      "outputs": [
        {
          "name": "stdout",
          "output_type": "stream",
          "text": [
            "[[1 0 1]\n",
            " [3 4 1]] (2, 3)\n"
          ]
        }
      ],
      "source": [
        "# 2-D == H x W matrix array (Height x Width))\n",
        "arr = np.array([[1, 0, 1], [3, 4, 1]])\n",
        "print(arr, arr.shape)"
      ]
    },
    {
      "cell_type": "code",
      "execution_count": 57,
      "metadata": {
        "id": "gXa5hs7bVtMQ"
      },
      "outputs": [
        {
          "name": "stdout",
          "output_type": "stream",
          "text": [
            "[[[1 7 9]\n",
            "  [5 9 3]\n",
            "  [7 9 9]]\n",
            "\n",
            " [[1 2 3]\n",
            "  [4 5 6]\n",
            "  [7 8 9]]] (2, 3, 3)\n"
          ]
        }
      ],
      "source": [
        "# 3-D == D x H x W matrix array (Deep x Height x Width)\n",
        "arr = np.array([[[1, 7, 9], [5, 9, 3], [7, 9, 9]], [[1, 2, 3], [4, 5, 6], [7, 8, 9]]])\n",
        "print(arr, arr.shape)"
      ]
    },
    {
      "cell_type": "markdown",
      "metadata": {
        "id": "AH2LMRlUVtMQ"
      },
      "source": [
        "![Sample_arrays.png](attachment:Sample_arrays.png)"
      ]
    },
    {
      "cell_type": "markdown",
      "metadata": {
        "id": "nEsmMx0pVtMQ"
      },
      "source": [
        "Array Elements and Indexing"
      ]
    },
    {
      "cell_type": "code",
      "execution_count": 58,
      "metadata": {
        "id": "MV3rB_m8VtMR"
      },
      "outputs": [
        {
          "name": "stdout",
          "output_type": "stream",
          "text": [
            "1\n",
            "2\n",
            "7\n",
            "----------\n",
            "1-d Shape : (4,)\n"
          ]
        }
      ],
      "source": [
        "# 1-D (4 width)\n",
        "arr = np.array([1, 2, 3, 4])\n",
        "print(arr[0])\n",
        "print(arr[1])\n",
        "print(arr[2] + arr[3])\n",
        "print(\"-\"*10)\n",
        "print(f\"1-d Shape : {arr.shape}\")"
      ]
    },
    {
      "cell_type": "code",
      "execution_count": 59,
      "metadata": {
        "id": "LXRfnW6GVtMR"
      },
      "outputs": [
        {
          "name": "stdout",
          "output_type": "stream",
          "text": [
            "2nd element on 1st row:  2\n",
            "5th element on 2nd row:  10\n",
            "Optional: 5th element on 2nd row:  10\n",
            "Sum of 1st element on 1st row and 4th element on 2nd row:  10\n",
            "----------\n",
            "2-d Shape : (2, 5)\n"
          ]
        }
      ],
      "source": [
        "# 2-D (5 width x 2 height)\n",
        "arr = np.array([[1,2,3,4,5], [6,7,8,9,10]])\n",
        "print('2nd element on 1st row: ', arr[0, 1])\n",
        "print('5th element on 2nd row: ', arr[1, 4])\n",
        "print('Optional: 5th element on 2nd row: ', arr[1, -1])\n",
        "print('Sum of 1st element on 1st row and 4th element on 2nd row: ', arr[0, 0]+arr[1, 3])\n",
        "print(\"-\"*10)\n",
        "print(f\"2-d Shape : {arr.shape}\")"
      ]
    },
    {
      "cell_type": "code",
      "execution_count": 60,
      "metadata": {
        "id": "sjwkzZdCVtMR"
      },
      "outputs": [
        {
          "name": "stdout",
          "output_type": "stream",
          "text": [
            "Last element from 1st matrix:  6\n",
            "First element from 1st matrix:  7\n",
            "Last row from 2nd matrix:  [10 11 12]\n",
            "First row from 1st matrix:  [1 2 3]\n",
            "1st matrix: \n",
            " [[1 2 3]\n",
            " [4 5 6]]\n",
            "2nd matrix: \n",
            " [[ 7  8  9]\n",
            " [10 11 12]]\n"
          ]
        }
      ],
      "source": [
        "# 3-D (2 depth x 3 width x 2 height)\n",
        "arr = np.array([[[1, 2, 3], [4, 5, 6]], [[7, 8, 9], [10, 11, 12]]])\n",
        "print('Last element from 1st matrix: ', arr[0, 1, 2])\n",
        "print('First element from 1st matrix: ', arr[1, 0, 0])\n",
        "print('Last row from 2nd matrix: ', arr[1, -1])\n",
        "print('First row from 1st matrix: ', arr[0, 0])\n",
        "print('1st matrix: \\n', arr[0])\n",
        "print('2nd matrix: \\n', arr[1])"
      ]
    },
    {
      "cell_type": "markdown",
      "metadata": {
        "id": "K6yS8cawVtMR"
      },
      "source": [
        "##### Array Slicing"
      ]
    },
    {
      "cell_type": "code",
      "execution_count": 61,
      "metadata": {
        "id": "ZOhytYxnVtMR"
      },
      "outputs": [
        {
          "name": "stdout",
          "output_type": "stream",
          "text": [
            "Indexing order\n",
            "[2 3 4 5]\n",
            "[6 7]\n",
            "[4 5 6 7]\n",
            "[1 2 3 4]\n"
          ]
        }
      ],
      "source": [
        "# 1-D\n",
        "arr = np.array([1, 2, 3, 4, 5, 6, 7])\n",
        "\n",
        "print(\"Indexing order\")\n",
        "print(arr[1:5])\n",
        "print(arr[5:7])\n",
        "print(arr[3: ])\n",
        "print(arr[ :4])"
      ]
    },
    {
      "cell_type": "code",
      "execution_count": 62,
      "metadata": {
        "id": "PLDU9GJcVtMR"
      },
      "outputs": [
        {
          "name": "stdout",
          "output_type": "stream",
          "text": [
            "Indexing reversed order (minus operation)\n",
            "[3 4 5 6]\n",
            "[5 6]\n"
          ]
        }
      ],
      "source": [
        "print(\"Indexing reversed order (minus operation)\")\n",
        "print(arr[2:-1])\n",
        "print(arr[-3:-1])"
      ]
    },
    {
      "cell_type": "code",
      "execution_count": 63,
      "metadata": {
        "id": "SIkTlT-GVtMS"
      },
      "outputs": [
        {
          "name": "stdout",
          "output_type": "stream",
          "text": [
            "Indexing skip order\n",
            "[1 2 3 4 5 6 7]\n",
            "[1 3 5 7]\n",
            "Indexing skip order/normal operation\n",
            "[4 5 6 7]\n",
            "[2 4]\n",
            "Indexing skip order/minus-reversed operation\n",
            "[1 3 5]\n",
            "[4 6]\n"
          ]
        }
      ],
      "source": [
        "print(\"Indexing skip order\")\n",
        "print(arr[::1])\n",
        "print(arr[::2])\n",
        "print(\"Indexing skip order/normal operation\")\n",
        "print(arr[3::1])\n",
        "print(arr[1:5:2])\n",
        "print(\"Indexing skip order/minus-reversed operation\")\n",
        "print(arr[:-1:2])\n",
        "print(arr[-4:-1:2])"
      ]
    },
    {
      "cell_type": "code",
      "execution_count": 64,
      "metadata": {
        "id": "Z3jDxSEUVtMS"
      },
      "outputs": [
        {
          "name": "stdout",
          "output_type": "stream",
          "text": [
            "Indexing order\n",
            "[7 8 9]\n",
            "[3 8]\n",
            "[[2 3 4]\n",
            " [7 8 9]]\n"
          ]
        }
      ],
      "source": [
        "# 2-D\n",
        "arr = np.array([[1, 2, 3, 4, 5], [6, 7, 8, 9, 10]])\n",
        "\n",
        "print(\"Indexing order\")\n",
        "print(arr[1, 1:4])\n",
        "print(arr[0:2, 2])\n",
        "print(arr[0:2, 1:4])"
      ]
    },
    {
      "cell_type": "markdown",
      "metadata": {
        "id": "UrqSRBdjVtMS"
      },
      "source": [
        "##### Data Types\n",
        "\n",
        "i - integer\\\n",
        "b - boolean\\\n",
        "u - unsigned integer\\\n",
        "f - float\\\n",
        "c - complex float\\\n",
        "m - timedelta\\\n",
        "M - datetime\\\n",
        "O - object\\\n",
        "S - string\\\n",
        "U - unicode string\\\n",
        "V - fixed chunk of memory for other type ( void )"
      ]
    },
    {
      "cell_type": "code",
      "execution_count": 65,
      "metadata": {
        "id": "nlX8XGfsVtMS"
      },
      "outputs": [
        {
          "name": "stdout",
          "output_type": "stream",
          "text": [
            "int64\n"
          ]
        }
      ],
      "source": [
        "# integer\n",
        "arr = np.array([1, 2, 3, 4])\n",
        "print(arr.dtype)"
      ]
    },
    {
      "cell_type": "code",
      "execution_count": 66,
      "metadata": {
        "id": "ort9boB_VtMS"
      },
      "outputs": [
        {
          "name": "stdout",
          "output_type": "stream",
          "text": [
            "float64\n"
          ]
        }
      ],
      "source": [
        "# float\n",
        "arr = np.array([1., 2.5, 3.0, 4.2345697789])\n",
        "print(arr.dtype)"
      ]
    },
    {
      "cell_type": "code",
      "execution_count": 67,
      "metadata": {
        "id": "I9eISuReVtMS"
      },
      "outputs": [
        {
          "name": "stdout",
          "output_type": "stream",
          "text": [
            "<U6\n"
          ]
        }
      ],
      "source": [
        "# strings\n",
        "arr = np.array(['apple', 'banana', 'cherry'])\n",
        "print(arr.dtype)"
      ]
    },
    {
      "cell_type": "code",
      "execution_count": 68,
      "metadata": {
        "id": "wF7bXbJxVtMS"
      },
      "outputs": [
        {
          "name": "stdout",
          "output_type": "stream",
          "text": [
            "[b'1' b'2' b'3' b'4']\n",
            "|S1\n"
          ]
        }
      ],
      "source": [
        "# string\n",
        "arr = np.array([1, 2, 3, 4], dtype='S')\n",
        "print(arr)\n",
        "print(arr.dtype)"
      ]
    },
    {
      "cell_type": "code",
      "execution_count": 69,
      "metadata": {
        "id": "Ax7mu-GKVtMT"
      },
      "outputs": [
        {
          "name": "stdout",
          "output_type": "stream",
          "text": [
            "[1 2 3 4]\n",
            "int32\n"
          ]
        }
      ],
      "source": [
        "# 4 bytes integer\n",
        "arr = np.array([1, 2, 3, 4], dtype='i4')\n",
        "print(arr)\n",
        "print(arr.dtype)"
      ]
    },
    {
      "cell_type": "code",
      "execution_count": 70,
      "metadata": {
        "id": "zcaGdYl_VtMT"
      },
      "outputs": [
        {
          "name": "stdout",
          "output_type": "stream",
          "text": [
            "[1 2 3]\n",
            "int32\n"
          ]
        }
      ],
      "source": [
        "# conversion\n",
        "# 1st: float-to-int\n",
        "arr = np.array([1.1, 2.1, 3.9])\n",
        "newarr = arr.astype('i')\n",
        "print(newarr)\n",
        "print(newarr.dtype)"
      ]
    },
    {
      "cell_type": "code",
      "execution_count": 71,
      "metadata": {
        "id": "5zEkQIovVtMT"
      },
      "outputs": [
        {
          "name": "stdout",
          "output_type": "stream",
          "text": [
            "[1 2 3]\n",
            "int64\n"
          ]
        }
      ],
      "source": [
        "# 2nd: float-to-int\n",
        "arr = np.array([1.1, 2.1, 3.9])\n",
        "newarr = arr.astype(int)\n",
        "print(newarr)\n",
        "print(newarr.dtype)"
      ]
    },
    {
      "cell_type": "code",
      "execution_count": 72,
      "metadata": {
        "id": "f-can6VOVtMT"
      },
      "outputs": [
        {
          "name": "stdout",
          "output_type": "stream",
          "text": [
            "[ True False  True]\n",
            "bool\n"
          ]
        }
      ],
      "source": [
        "# int-to-bool\n",
        "arr = np.array([1, 0, -3])\n",
        "newarr = arr.astype(bool)\n",
        "print(newarr)\n",
        "print(newarr.dtype)"
      ]
    },
    {
      "cell_type": "markdown",
      "metadata": {
        "id": "WpKxnw95VtMT"
      },
      "source": [
        "##### Array Copying"
      ]
    },
    {
      "cell_type": "code",
      "execution_count": 73,
      "metadata": {
        "id": "QgicRq6wVtMT"
      },
      "outputs": [
        {
          "name": "stdout",
          "output_type": "stream",
          "text": [
            "[42  2  3  4  5]\n",
            "[1 2 3 4 5]\n"
          ]
        }
      ],
      "source": [
        "# copy (pass by value)\n",
        "arr = np.array([1, 2, 3, 4, 5])\n",
        "x = arr.copy()\n",
        "arr[0] = 42\n",
        "print(arr)\n",
        "print(x)"
      ]
    },
    {
      "cell_type": "markdown",
      "metadata": {
        "id": "cdCUgXJvg0Jd"
      },
      "source": [
        ".view() ใช้บ่อย จำไว้ให้ดี"
      ]
    },
    {
      "cell_type": "code",
      "execution_count": 74,
      "metadata": {
        "id": "gulNRa0-VtMT"
      },
      "outputs": [
        {
          "name": "stdout",
          "output_type": "stream",
          "text": [
            "[42  2  3  4  5]\n",
            "[42  2  3  4  5]\n"
          ]
        }
      ],
      "source": [
        "# view (pass by reference)\n",
        "arr = np.array([1, 2, 3, 4, 5])\n",
        "x = arr.view()\n",
        "arr[0] = 42\n",
        "print(arr)\n",
        "print(x)"
      ]
    },
    {
      "cell_type": "markdown",
      "metadata": {
        "id": "QNsWyv7VVtMU"
      },
      "source": [
        "##### Shape and reshape"
      ]
    },
    {
      "cell_type": "code",
      "execution_count": 75,
      "metadata": {
        "id": "2WnD_q-MVtMU"
      },
      "outputs": [
        {
          "name": "stdout",
          "output_type": "stream",
          "text": [
            "[1 2 3 4]\n",
            "pre-shape of array with added dimension: (4,)\n",
            "\n",
            "\n",
            "\n",
            "\n",
            "[[[[[1 2 3 4]]]]]\n",
            "pre-shape of array with added dimension: (1, 1, 1, 1, 4)\n"
          ]
        }
      ],
      "source": [
        "# Shape\n",
        "arr = np.array([1, 2, 3, 4])\n",
        "print(arr)\n",
        "print('pre-shape of array with added dimension:', arr.shape)\n",
        "print('\\n'*3)\n",
        "arr = np.array([1, 2, 3, 4], ndmin=5)\n",
        "print(arr)\n",
        "print('pre-shape of array with added dimension:', arr.shape)"
      ]
    },
    {
      "cell_type": "code",
      "execution_count": 76,
      "metadata": {
        "id": "6NCIR902VtMU"
      },
      "outputs": [
        {
          "name": "stdout",
          "output_type": "stream",
          "text": [
            "[ 1  2  3  4  5  6  7  8  9 10 11 12] (12,)\n",
            "------------------------------\n",
            "row-major\n",
            "[[ 1  2  3]\n",
            " [ 4  5  6]\n",
            " [ 7  8  9]\n",
            " [10 11 12]] (4, 3)\n",
            "------------------------------\n",
            "column-major\n",
            "[[ 1  5  9]\n",
            " [ 2  6 10]\n",
            " [ 3  7 11]\n",
            " [ 4  8 12]] (4, 3)\n"
          ]
        }
      ],
      "source": [
        "# Reshape 1-D to 2-D\n",
        "# order = 'C' => row-major (default)\n",
        "# order = 'F' => column-major\n",
        "\n",
        "arr = np.array([1, 2, 3, 4, 5, 6, 7, 8, 9, 10, 11, 12])\n",
        "print(arr, arr.shape)\n",
        "print('-'*30)\n",
        "print('row-major')\n",
        "newarrC = arr.reshape((4, 3),order = 'C')\n",
        "print(newarrC, newarrC.shape)\n",
        "print('-'*30)\n",
        "print('column-major')\n",
        "newarrA = arr.reshape((4, 3),order = 'F')\n",
        "print(newarrA, newarrA.shape)"
      ]
    },
    {
      "cell_type": "code",
      "execution_count": 77,
      "metadata": {
        "id": "ncMAMeQCVtMU"
      },
      "outputs": [
        {
          "name": "stdout",
          "output_type": "stream",
          "text": [
            "[[[ 1  2]\n",
            "  [ 3  4]\n",
            "  [ 5  6]]\n",
            "\n",
            " [[ 7  8]\n",
            "  [ 9 10]\n",
            "  [11 12]]] (2, 3, 2)\n"
          ]
        }
      ],
      "source": [
        "# Reshape 1-D to 3-D\n",
        "# .reshape(2, 3, 2) (2 chanel, 3 h, 2 w)\n",
        "arr = np.array([1, 2, 3, 4, 5, 6, 7, 8, 9, 10, 11, 12])\n",
        "newarr = arr.reshape(2, 3, 2)\n",
        "print(newarr, newarr.shape)"
      ]
    },
    {
      "cell_type": "code",
      "execution_count": 78,
      "metadata": {
        "id": "j_QgYnnxVtMU"
      },
      "outputs": [
        {
          "name": "stdout",
          "output_type": "stream",
          "text": [
            "[[[1 2]\n",
            "  [3 4]]\n",
            "\n",
            " [[5 6]\n",
            "  [7 8]]] (2, 2, 2)\n"
          ]
        }
      ],
      "source": [
        "# Use -1 to let NumPy automatically calculate the size of this dimension\n",
        "arr = np.array([1, 2, 3, 4, 5, 6, 7, 8])\n",
        "newarr = arr.reshape(2, 2, -1)\n",
        "print(newarr, newarr.shape)"
      ]
    },
    {
      "cell_type": "markdown",
      "metadata": {
        "id": "Uz9SiyKMVtMY"
      },
      "source": [
        "##### Iterating Arrays"
      ]
    },
    {
      "cell_type": "markdown",
      "metadata": {
        "id": "2yVKHOhHVtMY"
      },
      "source": [
        "Iterating 2-D Arrays"
      ]
    },
    {
      "cell_type": "code",
      "execution_count": 79,
      "metadata": {
        "id": "_7k7zk-fVtMZ"
      },
      "outputs": [
        {
          "name": "stdout",
          "output_type": "stream",
          "text": [
            "(2, 3)\n",
            "[1 2 3]\n",
            "----------\n",
            "[4 5 6]\n",
            "----------\n"
          ]
        }
      ],
      "source": [
        "arr = np.array([[1, 2, 3], [4, 5, 6]])\n",
        "print(arr.shape)\n",
        "# print sub-vector (1D) of 2-D array\n",
        "for x in arr:\n",
        "  print(x)\n",
        "  print('-'*10)"
      ]
    },
    {
      "cell_type": "code",
      "execution_count": 80,
      "metadata": {
        "id": "hDVXtzXEVtMZ"
      },
      "outputs": [
        {
          "name": "stdout",
          "output_type": "stream",
          "text": [
            "1\n",
            "----------\n",
            "2\n",
            "----------\n",
            "3\n",
            "----------\n",
            "4\n",
            "----------\n",
            "5\n",
            "----------\n",
            "6\n",
            "----------\n"
          ]
        }
      ],
      "source": [
        "# print sub-element (scalar) of sub-array of 2-D array\n",
        "for x in arr:\n",
        "  for y in x:\n",
        "    print(y)\n",
        "    print('-'*10)"
      ]
    },
    {
      "cell_type": "markdown",
      "metadata": {
        "id": "wVdExwgJVtMZ"
      },
      "source": [
        "Iterating 3-D Arrays"
      ]
    },
    {
      "cell_type": "code",
      "execution_count": 81,
      "metadata": {
        "id": "e4nLg8U8VtMZ"
      },
      "outputs": [
        {
          "name": "stdout",
          "output_type": "stream",
          "text": [
            "(2, 2, 3)\n",
            "[[1 2 3]\n",
            " [4 5 6]]\n",
            "----------\n",
            "[[ 7  8  9]\n",
            " [10 11 12]]\n",
            "----------\n"
          ]
        }
      ],
      "source": [
        "arr = np.array([[[1, 2, 3], [4, 5, 6]], [[7, 8, 9], [10, 11, 12]]])\n",
        "print(arr.shape)\n",
        "\n",
        "# print sub-matrix (2D) of 3-D array\n",
        "for x in arr:\n",
        "  print(x)\n",
        "  print('-'*10)"
      ]
    },
    {
      "cell_type": "code",
      "execution_count": 82,
      "metadata": {
        "id": "lJVI3h3hVtMZ"
      },
      "outputs": [
        {
          "name": "stdout",
          "output_type": "stream",
          "text": [
            "[1 2 3]\n",
            "[4 5 6]\n",
            "[7 8 9]\n",
            "[10 11 12]\n"
          ]
        }
      ],
      "source": [
        "# print sub-vector (1D) of subsub-matrix (2D) of 3-D array\n",
        "for x in arr:\n",
        "  for y in x:\n",
        "    print(y)"
      ]
    },
    {
      "cell_type": "code",
      "execution_count": 83,
      "metadata": {
        "id": "N7elo0zSVtMZ"
      },
      "outputs": [
        {
          "name": "stdout",
          "output_type": "stream",
          "text": [
            "1\n",
            "2\n",
            "3\n",
            "4\n",
            "5\n",
            "6\n",
            "7\n",
            "8\n",
            "9\n",
            "10\n",
            "11\n",
            "12\n"
          ]
        }
      ],
      "source": [
        "# print sub-element (scalar) of sub-vector (1D) of subsub-matrix (2D) of 3-D array\n",
        "for x in arr:\n",
        "  for y in x:\n",
        "    for z in y:\n",
        "      print(z)"
      ]
    },
    {
      "cell_type": "code",
      "execution_count": 84,
      "metadata": {
        "id": "LfdofGK8VtMa"
      },
      "outputs": [
        {
          "name": "stdout",
          "output_type": "stream",
          "text": [
            "1\n",
            "2\n",
            "3\n",
            "4\n",
            "5\n",
            "6\n",
            "7\n",
            "8\n"
          ]
        }
      ],
      "source": [
        "#Optional: print sub-element via np.nditer\n",
        "arr = np.array([[[1, 2], [3, 4]], [[5, 6], [7, 8]]])\n",
        "for x in np.nditer(arr):\n",
        "  print(x)"
      ]
    },
    {
      "cell_type": "code",
      "execution_count": 85,
      "metadata": {
        "id": "dhuMOKNqVtMa"
      },
      "outputs": [
        {
          "name": "stdout",
          "output_type": "stream",
          "text": [
            "np.bytes_(b'1')\n",
            "np.bytes_(b'2')\n",
            "np.bytes_(b'3')\n"
          ]
        }
      ],
      "source": [
        "arr = np.array([1, 2, 3])\n",
        "for x in np.nditer(arr, flags=['buffered'], op_dtypes=['S']):\n",
        "  print(x)"
      ]
    },
    {
      "cell_type": "code",
      "execution_count": 86,
      "metadata": {
        "id": "mw7RLgT5VtMa"
      },
      "outputs": [
        {
          "name": "stdout",
          "output_type": "stream",
          "text": [
            "1\n",
            "3\n",
            "5\n",
            "7\n"
          ]
        }
      ],
      "source": [
        "arr = np.array([[1, 2, 3, 4], [5, 6, 7, 8]])\n",
        "for x in np.nditer(arr[:,::2]):\n",
        "  print(x)"
      ]
    },
    {
      "cell_type": "code",
      "execution_count": 87,
      "metadata": {
        "id": "ep9_PpzdVtMa"
      },
      "outputs": [
        {
          "name": "stdout",
          "output_type": "stream",
          "text": [
            "(0,) 1\n",
            "(1,) 2\n",
            "(2,) 3\n",
            "----------\n",
            "(0, 0) 1\n",
            "(0, 1) 2\n",
            "(0, 2) 3\n",
            "(0, 3) 4\n",
            "(1, 0) 5\n",
            "(1, 1) 6\n",
            "(1, 2) 7\n",
            "(1, 3) 8\n"
          ]
        }
      ],
      "source": [
        "arr = np.array([1, 2, 3])\n",
        "for idx, x in np.ndenumerate(arr):\n",
        "  print(idx, x)\n",
        "\n",
        "print('-'*10)\n",
        "arr = np.array([[1, 2, 3, 4], [5, 6, 7, 8]])\n",
        "for idx, x in np.ndenumerate(arr):\n",
        "  print(idx, x)"
      ]
    },
    {
      "cell_type": "markdown",
      "metadata": {
        "id": "UL1GTC6RVtMa"
      },
      "source": [
        "##### Array Concatenation & Stacking"
      ]
    },
    {
      "cell_type": "code",
      "execution_count": 88,
      "metadata": {
        "id": "nlj7CTdLVtMa"
      },
      "outputs": [
        {
          "name": "stdout",
          "output_type": "stream",
          "text": [
            "[1 2 3 4 5 6] (6,)\n"
          ]
        }
      ],
      "source": [
        "# 1-D concat\n",
        "arr1 = np.array([1, 2, 3])\n",
        "arr2 = np.array([4, 5, 6])\n",
        "arr = np.concatenate((arr1, arr2))\n",
        "print(arr, arr.shape)"
      ]
    },
    {
      "cell_type": "code",
      "execution_count": 89,
      "metadata": {
        "id": "yeFGU1mSVtMb"
      },
      "outputs": [
        {
          "name": "stdout",
          "output_type": "stream",
          "text": [
            "[[1 2 5 6]\n",
            " [3 4 7 8]] (2, 4)\n"
          ]
        }
      ],
      "source": [
        "# 2-D concat\n",
        "arr1 = np.array([[1, 2], [3, 4]])\n",
        "arr2 = np.array([[5, 6], [7, 8]])\n",
        "arr = np.concatenate((arr1, arr2), axis=1)\n",
        "print(arr, arr.shape)"
      ]
    },
    {
      "cell_type": "code",
      "execution_count": 90,
      "metadata": {
        "id": "s10BJmvBVtMb"
      },
      "outputs": [
        {
          "name": "stdout",
          "output_type": "stream",
          "text": [
            "[1 2 3 4 5 6] (6,)\n"
          ]
        }
      ],
      "source": [
        "# 1-D hstack (horizontal stack)\n",
        "arr1 = np.array([1, 2, 3])\n",
        "arr2 = np.array([4, 5, 6])\n",
        "arr = np.hstack((arr1, arr2))\n",
        "print(arr, arr.shape)"
      ]
    },
    {
      "cell_type": "code",
      "execution_count": 91,
      "metadata": {
        "id": "xi6uY75cVtMb"
      },
      "outputs": [
        {
          "name": "stdout",
          "output_type": "stream",
          "text": [
            "[[1 2 3]\n",
            " [4 5 6]] (2, 3)\n"
          ]
        }
      ],
      "source": [
        "# 1-D vstack (vertical stack)\n",
        "arr1 = np.array([1, 2, 3])\n",
        "arr2 = np.array([4, 5, 6])\n",
        "arr = np.vstack((arr1, arr2))\n",
        "print(arr, arr.shape)"
      ]
    },
    {
      "cell_type": "code",
      "execution_count": 92,
      "metadata": {
        "id": "yyHnnK0xVtMb"
      },
      "outputs": [
        {
          "name": "stdout",
          "output_type": "stream",
          "text": [
            "[[[1 4]\n",
            "  [2 5]\n",
            "  [3 6]]] (1, 3, 2)\n"
          ]
        }
      ],
      "source": [
        "# 1-D dstack (depth stack)\n",
        "arr1 = np.array([1, 2, 3])\n",
        "arr2 = np.array([4, 5, 6])\n",
        "arr = np.dstack((arr1, arr2))\n",
        "print(arr, arr.shape)"
      ]
    },
    {
      "cell_type": "markdown",
      "metadata": {
        "id": "SRV52qpdVtMc"
      },
      "source": [
        "##### Array Spliting"
      ]
    },
    {
      "cell_type": "code",
      "execution_count": 93,
      "metadata": {
        "id": "Ne-X-wM1VtMc"
      },
      "outputs": [
        {
          "name": "stdout",
          "output_type": "stream",
          "text": [
            "[array([1, 2]), array([3, 4]), array([5, 6])] (2,)\n"
          ]
        }
      ],
      "source": [
        "# 1-D\n",
        "arr = np.array([1, 2, 3, 4, 5, 6])\n",
        "newarr = np.array_split(arr, 3)\n",
        "print(newarr, newarr[0].shape)"
      ]
    },
    {
      "cell_type": "code",
      "execution_count": 94,
      "metadata": {
        "id": "S3iPBfNLVtMc"
      },
      "outputs": [
        {
          "name": "stdout",
          "output_type": "stream",
          "text": [
            "[array([1, 2]), array([3, 4]), array([5]), array([6])]\n"
          ]
        }
      ],
      "source": [
        "arr = np.array([1, 2, 3, 4, 5, 6])\n",
        "newarr = np.array_split(arr, 4)\n",
        "print(newarr)"
      ]
    },
    {
      "cell_type": "code",
      "execution_count": 95,
      "metadata": {
        "id": "ZJLfRsnpVtMc"
      },
      "outputs": [
        {
          "name": "stdout",
          "output_type": "stream",
          "text": [
            "[array([[1, 2],\n",
            "       [3, 4]]), array([[5, 6],\n",
            "       [7, 8]]), array([[ 9, 10],\n",
            "       [11, 12]])] (2, 2)\n"
          ]
        }
      ],
      "source": [
        "# 2-D\n",
        "arr = np.array([[1, 2], [3, 4], [5, 6], [7, 8], [9, 10], [11, 12]])\n",
        "newarr = np.array_split(arr, 3)\n",
        "print(newarr, newarr[0].shape)"
      ]
    },
    {
      "cell_type": "code",
      "execution_count": 96,
      "metadata": {
        "id": "_zTSBFD-VtMc"
      },
      "outputs": [
        {
          "name": "stdout",
          "output_type": "stream",
          "text": [
            "[array([[1, 2, 3],\n",
            "       [4, 5, 6]]), array([[ 7,  8,  9],\n",
            "       [10, 11, 12]]), array([[13, 14, 15],\n",
            "       [16, 17, 18]])] (2, 3)\n"
          ]
        }
      ],
      "source": [
        "arr = np.array([[1, 2, 3], [4, 5, 6], [7, 8, 9], [10, 11, 12], [13, 14, 15], [16, 17, 18]])\n",
        "newarr = np.array_split(arr, 3)\n",
        "print(newarr, newarr[0].shape)"
      ]
    },
    {
      "cell_type": "markdown",
      "metadata": {
        "id": "hG_qnK3WVtMc"
      },
      "source": [
        "# HW1_1\n",
        "\n",
        "1. ``` np.array([[[1, 1, 1], [1, 1, 1]], [[1, 1, 1], [1, 1, 1]]])``` จงหาขนาด Dimension ของมิติที่ข้างต้น\n",
        "\n",
        "2. ```arr = np.array([[[1, 2], [2, 1]], [[3, 2], [2, 3]], [[4, 3], [3, 4]]])``` จงหาผลลัพท์ของ \\\n",
        "  2.1 arr[0, 0, 0] + arr[1, 1, 1] \\\n",
        "  2.2 arr[0] + arr[1]"
      ]
    },
    {
      "cell_type": "code",
      "execution_count": 97,
      "metadata": {
        "id": "cVgLr1VxThzC"
      },
      "outputs": [
        {
          "name": "stdout",
          "output_type": "stream",
          "text": [
            "Shape: (2, 2, 3)\n",
            "Number of dimensions: 3\n"
          ]
        }
      ],
      "source": [
        "# ข้อที่ 1\n",
        "# np.array([[[1, 1, 1], [1, 1, 1]], [[1, 1, 1], [1, 1, 1]]]) จงหาขนาด Dimension ของมิติที่ข้างต้น\n",
        "arr = np.array([[[1, 1, 1], [1, 1, 1]], [[1, 1, 1], [1, 1, 1]]])\n",
        "print(f\"Shape: {arr.shape}\")\n",
        "print(f\"Number of dimensions: {arr.ndim}\")\n"
      ]
    },
    {
      "cell_type": "code",
      "execution_count": 98,
      "metadata": {
        "id": "5Lgn1bNbTxJ6"
      },
      "outputs": [
        {
          "name": "stdout",
          "output_type": "stream",
          "text": [
            "2.1 arr[0, 0, 0] + arr[1, 1, 1] = 4\n",
            "2.2 arr[0] + arr[1] =\n",
            "Result = \n",
            "[[4 4]\n",
            " [4 4]]\n"
          ]
        }
      ],
      "source": [
        "# ข้อที่ 2 (มี 2 ข้อ)\n",
        "# arr = np.array([[[1, 2], [2, 1]], [[3, 2], [2, 3]], [[4, 3], [3, 4]]]) จงหา\n",
        "# 2.1 arr[0, 0, 0] + arr[1, 1, 1]\n",
        "# 2.2 arr[0] + arr[1]\n",
        "\n",
        "arr = np.array([[[1, 2], [2, 1]], [[3, 2], [2, 3]], [[4, 3], [3, 4]]])\n",
        "\n",
        "# 2.1 arr[0, 0, 0] + arr[1, 1, 1]\n",
        "result_2_1 = arr[0, 0, 0] + arr[1, 1, 1]\n",
        "print(f\"2.1 arr[0, 0, 0] + arr[1, 1, 1] = {result_2_1}\")\n",
        "\n",
        "# 2.2 arr[0] + arr[1]\n",
        "result_2_2 = arr[0] + arr[1]\n",
        "print(\"2.2 arr[0] + arr[1] =\")\n",
        "print(f\"Result = \\n{result_2_2}\")"
      ]
    }
  ],
  "metadata": {
    "colab": {
      "provenance": []
    },
    "kernelspec": {
      "display_name": "Python 3",
      "language": "python",
      "name": "python3"
    },
    "language_info": {
      "codemirror_mode": {
        "name": "ipython",
        "version": 3
      },
      "file_extension": ".py",
      "mimetype": "text/x-python",
      "name": "python",
      "nbconvert_exporter": "python",
      "pygments_lexer": "ipython3",
      "version": "3.13.5"
    }
  },
  "nbformat": 4,
  "nbformat_minor": 0
}

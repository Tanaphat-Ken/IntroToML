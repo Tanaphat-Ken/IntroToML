{
  "cells": [
    {
      "cell_type": "markdown",
      "id": "d510ed92",
      "metadata": {
        "id": "d510ed92"
      },
      "source": [
        "# RNN Word Embeddings — From Scratch (NumPy) & PyTorch (GRU)\n",
        "\n",
        "This notebook demonstrates how to **learn word embeddings** via a simple **language modeling** objective:\n",
        "\n",
        "1. **NumPy RNN (from scratch):**  \n",
        "   - Implemented manually using only NumPy.  \n",
        "   - Shows how embeddings and recurrent connections are trained with Backpropagation Through Time (BPTT).  \n",
        "   - Useful for understanding the mechanics behind RNNs and embedding updates.\n",
        "\n",
        "2. **PyTorch GRU with `nn.Embedding`:**  \n",
        "   - A compact implementation using PyTorch modules.  \n",
        "   - Supports GPU acceleration (CUDA) and Automatic Mixed Precision (AMP).  \n",
        "   - Demonstrates how modern frameworks simplify training and scaling.\n",
        "\n",
        "---\n",
        "\n",
        "> **Dataset:**  \n",
        "> - By default, the notebook tries to load a local file `text8.txt` (a common small Wikipedia dump).  \n",
        "> - If `text8.txt` is not found, it falls back to a **built-in mini-corpus** (English sentences, repeated) so the notebook can run anywhere without internet access.  \n",
        "\n",
        "---\n",
        "\n",
        "## Learning Goals\n",
        "- Understand how word embeddings can be learned directly via next-word prediction.  \n",
        "- Compare a low-level NumPy implementation with a high-level PyTorch GRU.  \n",
        "- Train and visualize embeddings, then explore nearest neighbors in the vector space.  \n",
        "\n",
        "---\n",
        "\n",
        "## Next Steps\n",
        "- Replace the mini-corpus with a larger dataset (e.g., `text8`, Wikipedia, or domain-specific text).  \n",
        "- Try different recurrent units (RNN, GRU, LSTM) and compare performance.  \n",
        "- Use the learned embeddings in downstream tasks (classification, similarity search, clustering).  \n",
        "- Visualize embeddings with dimensionality reduction tools (t-SNE, UMAP).  \n"
      ]
    },
    {
      "cell_type": "markdown",
      "id": "092958e3",
      "metadata": {
        "id": "092958e3"
      },
      "source": [
        "## 0) Setup & Data Loading\n",
        "\n",
        "This section loads the corpus: it first tries `text8`, then falls back to Brown Corpus (from NLTK), and finally uses a tiny built-in sample."
      ]
    },
    {
      "cell_type": "code",
      "execution_count": 6,
      "id": "426ff454",
      "metadata": {
        "id": "426ff454",
        "colab": {
          "base_uri": "https://localhost:8080/"
        },
        "outputId": "080a33b2-52f9-434c-a5c8-512126964147"
      },
      "outputs": [
        {
          "output_type": "stream",
          "name": "stdout",
          "text": [
            "Loaded Brown subset: 4,621 tokens | Unique: 1,436\n",
            "Total tokens: 4,621  |  Unique: 1,436\n"
          ]
        },
        {
          "output_type": "execute_result",
          "data": {
            "text/plain": [
              "1436"
            ]
          },
          "metadata": {},
          "execution_count": 6
        }
      ],
      "source": [
        "import os, math, random, gzip, io\n",
        "from pathlib import Path\n",
        "import matplotlib.pyplot as plt\n",
        "\n",
        "random.seed(0)\n",
        "\n",
        "DATA_PATHS = []\n",
        "# ---- ตั้งขนาด Brown subset (เล็ก/เบา) ----\n",
        "BROWN_SENT_LIMIT = 200   # ใช้แค่ 2,000 ประโยค (~หลักหมื่นโทเคน) ปรับเพิ่มได้\n",
        "\n",
        "def load_corpus():\n",
        "    for p in DATA_PATHS:\n",
        "        if os.path.exists(p):\n",
        "            with open(p, \"r\", encoding=\"utf-8\", errors=\"ignore\") as f:\n",
        "                text = f.read()\n",
        "            print(f\"Loaded corpus from: {p[:80]} ... (size={len(text):,} chars)\")\n",
        "            return text\n",
        "\n",
        "    try:\n",
        "        import nltk\n",
        "        nltk.download('brown', quiet=True)\n",
        "        from nltk.corpus import brown\n",
        "\n",
        "        # ดึงมาบางส่วนเพื่อลดขนาด\n",
        "        sents = brown.sents()[:BROWN_SENT_LIMIT]\n",
        "        # แปลงเป็นลิสต์ token ตัวพิมพ์เล็ก\n",
        "        tokens = [w.lower() for sent in sents for w in sent]\n",
        "        text = \" \".join(tokens)\n",
        "        print(f\"Loaded Brown subset: {len(tokens):,} tokens | Unique: {len(set(tokens)):,}\")\n",
        "        return text\n",
        "    except Exception as e:\n",
        "        print(\"Brown corpus unavailable, fallback to mini-corpus. Error:\", e)\n",
        "\n",
        "    base = (\n",
        "        \"\"\"we love natural language processing and machine learning.\n",
        "        we explore recurrent neural networks and gated units like gru and lstm.\n",
        "        embeddings map words to vectors so similar words are close in cosine space.\n",
        "        deep learning for nlp often uses tokenization batching and optimization.\n",
        "        gradients flow through time in rnn training and may require clipping.\"\"\"\n",
        "    ).strip().replace(\"\\n\",\" \")\n",
        "    text = (\" \" + base) * 200\n",
        "    print(f\"Using built-in mini-corpus (size={len(text):,} chars).\")\n",
        "    return text\n",
        "\n",
        "raw_text = load_corpus()\n",
        "\n",
        "# very simple whitespace tokenization (good enough for English demo)\n",
        "tokens = [t for t in raw_text.strip().split() if t]\n",
        "print(f\"Total tokens: {len(tokens):,}  |  Unique: {len(set(tokens)):,}\")\n",
        "\n",
        "# Build vocab\n",
        "vocab = sorted(set(tokens))\n",
        "stoi = {w:i for i,w in enumerate(vocab)}\n",
        "itos = {i:w for w,i in stoi.items()}\n",
        "V = len(vocab)\n",
        "V\n"
      ]
    },
    {
      "cell_type": "markdown",
      "source": [
        "## Build (context, target) pairs for next-word prediction\n",
        "\n",
        "This cell converts a token sequence into **(context, target)** training pairs using a\n",
        "fixed window size `n_prev = 3`:\n",
        "\n",
        "- **Context (`x`)**: the previous `n_prev` tokens, mapped to integer IDs via `stoi`.\n",
        "- **Target (`y`)**: the next token (the one immediately after the window), also as an ID.\n",
        "\n",
        "Formally, for tokens `t₀ … t_{N-1}`, for each `i ∈ [0, N - n_prev - 1]`\n",
        "\n",
        "We then **shuffle** the list of pairs to randomize training order and split **90/10**\n",
        "into `train_pairs` and `val_pairs`.\n",
        "\n",
        "> **Tips**\n",
        "> - For reproducibility, set a seed before shuffling: `random.seed(42)`.\n",
        "> - If you want strict temporal generalization (no future context leaking into train),\n",
        ">   consider a **chronological split** instead of shuffling.\n",
        "> - After this step, you’ll typically batch and convert to tensors with shapes\n",
        ">   `(batch_size, n_prev)` for `x` and `(batch_size,)` for `y`.\n"
      ],
      "metadata": {
        "id": "wn-dMO13vra3"
      },
      "id": "wn-dMO13vra3"
    },
    {
      "cell_type": "code",
      "execution_count": 7,
      "id": "86cc9f26",
      "metadata": {
        "id": "86cc9f26",
        "colab": {
          "base_uri": "https://localhost:8080/"
        },
        "outputId": "d8cfcbee-101e-4b99-e608-f79c9799eafb"
      },
      "outputs": [
        {
          "output_type": "execute_result",
          "data": {
            "text/plain": [
              "(4156, 462)"
            ]
          },
          "metadata": {},
          "execution_count": 7
        }
      ],
      "source": [
        "# Build (context, target) pairs for next‑word prediction with window n_prev\n",
        "n_prev = 3\n",
        "\n",
        "pairs = []\n",
        "for i in range(len(tokens) - n_prev):\n",
        "    x = [stoi[tokens[i + j]] for j in range(n_prev)]\n",
        "    y = stoi[tokens[i + n_prev]]\n",
        "    pairs.append((x, y))\n",
        "\n",
        "random.shuffle(pairs)\n",
        "split = int(0.9 * len(pairs))\n",
        "train_pairs = pairs[:split]\n",
        "val_pairs   = pairs[split:]\n",
        "len(train_pairs), len(val_pairs)\n"
      ]
    },
    {
      "cell_type": "markdown",
      "id": "1a6ed1f3",
      "metadata": {
        "id": "1a6ed1f3"
      },
      "source": [
        "## A) NumPy RNN Baseline (RNN from scratch)\n",
        "\n",
        "We implement a simple vanilla RNN from scratch using NumPy. This provides intuition about embeddings and sequence modeling."
      ]
    },
    {
      "cell_type": "code",
      "execution_count": 8,
      "id": "355a9372",
      "metadata": {
        "id": "355a9372",
        "colab": {
          "base_uri": "https://localhost:8080/"
        },
        "outputId": "a395a6a2-2659-469d-8900-e675dcc5046d"
      },
      "outputs": [
        {
          "output_type": "stream",
          "name": "stdout",
          "text": [
            "[NumPy] epoch 01 | train loss 6.3755 | val loss 6.1836\n",
            "[NumPy] epoch 02 | train loss 6.0761 | val loss 6.1003\n",
            "[NumPy] epoch 03 | train loss 5.9255 | val loss 6.0253\n",
            "[NumPy] epoch 04 | train loss 5.7570 | val loss 6.0600\n",
            "[NumPy] epoch 05 | train loss 5.6112 | val loss 5.9747\n",
            "[NumPy] epoch 06 | train loss 5.4715 | val loss 6.0578\n",
            "[NumPy] epoch 07 | train loss 5.3349 | val loss 6.0829\n",
            "[NumPy] epoch 08 | train loss 5.1714 | val loss 6.2061\n",
            "[NumPy] epoch 09 | train loss 5.0098 | val loss 6.2104\n",
            "[NumPy] epoch 10 | train loss 4.8282 | val loss 6.5715\n",
            "[NumPy] epoch 11 | train loss 4.6552 | val loss 6.6692\n",
            "[NumPy] epoch 12 | train loss 4.4916 | val loss 6.8694\n",
            "[NumPy] epoch 13 | train loss 4.3097 | val loss 7.0973\n",
            "[NumPy] epoch 14 | train loss 4.1699 | val loss 7.2715\n",
            "[NumPy] epoch 15 | train loss 4.0248 | val loss 7.5137\n",
            "[NumPy] epoch 16 | train loss 3.8792 | val loss 7.6898\n",
            "[NumPy] epoch 17 | train loss 3.7594 | val loss 8.1913\n",
            "[NumPy] epoch 18 | train loss 3.6799 | val loss 8.2346\n",
            "[NumPy] epoch 19 | train loss 3.5542 | val loss 8.4301\n",
            "[NumPy] epoch 20 | train loss 3.4278 | val loss 8.6820\n"
          ]
        }
      ],
      "source": [
        "\n",
        "import numpy as np\n",
        "np.random.seed(0)\n",
        "\n",
        "embed_dim = 32\n",
        "hidden = 64\n",
        "lr = 0.05\n",
        "clip = 5.0\n",
        "epochs = 20  # keep small for demo\n",
        "\n",
        "# Parameters\n",
        "E   = 0.01*np.random.randn(V, embed_dim)\n",
        "Wxh = 0.01*np.random.randn(hidden, embed_dim)\n",
        "Whh = 0.01*np.random.randn(hidden, hidden)\n",
        "bh  = np.zeros((hidden,))\n",
        "Why = 0.01*np.random.randn(V, hidden)\n",
        "by  = np.zeros((V,))\n",
        "\n",
        "def softmax(a):\n",
        "    a = a - a.max(axis=-1, keepdims=True)\n",
        "    z = np.exp(a)\n",
        "    return z / (z.sum(axis=-1, keepdims=True) + 1e-12)\n",
        "\n",
        "def one_hot(i, V):\n",
        "    v = np.zeros(V); v[i] = 1.0\n",
        "    return v\n",
        "\n",
        "def forward_sequence(x_idxs):\n",
        "    h_prev = np.zeros((hidden,))\n",
        "    xs, hs = [], []\n",
        "    for t in range(len(x_idxs)):\n",
        "        x_t = E[x_idxs[t]]\n",
        "        xs.append(x_t)\n",
        "        h_prev = np.tanh(Wxh @ x_t + Whh @ h_prev + bh)\n",
        "        hs.append(h_prev)\n",
        "    return xs, hs, hs[-1]\n",
        "\n",
        "train_losses, val_losses = [], []\n",
        "\n",
        "for ep in range(1, epochs+1):\n",
        "    random.shuffle(train_pairs)\n",
        "    total = 0.0\n",
        "    for x_idxs, y_idx in train_pairs:\n",
        "        xs, hs, hT = forward_sequence(x_idxs)\n",
        "        logits = Why @ hT + by\n",
        "        probs = softmax(logits)\n",
        "        loss = -np.log(probs[y_idx] + 1e-12)\n",
        "        total += loss\n",
        "\n",
        "        # Backprop (BPTT through T=n_prev steps)\n",
        "        dWhy = np.outer((probs - one_hot(y_idx, V)), hT)\n",
        "        dby  = (probs - one_hot(y_idx, V))\n",
        "        dh = Why.T @ (probs - one_hot(y_idx, V))\n",
        "\n",
        "        dWxh = np.zeros_like(Wxh); dWhh = np.zeros_like(Whh); dbh = np.zeros_like(bh)\n",
        "        dE   = np.zeros_like(E)\n",
        "        dh_t = dh\n",
        "        for t in reversed(range(n_prev)):\n",
        "            h_t = hs[t]\n",
        "            h_prev_t = hs[t-1] if t>0 else np.zeros_like(h_t)\n",
        "            dh_raw = (1 - h_t*h_t) * dh_t\n",
        "            dbh  += dh_raw\n",
        "            dWxh += np.outer(dh_raw, xs[t])\n",
        "            dWhh += np.outer(dh_raw, h_prev_t)\n",
        "            dxt   = Wxh.T @ dh_raw\n",
        "            dE[x_idxs[t]] += dxt\n",
        "            dh_t = Whh.T @ dh_raw\n",
        "\n",
        "        # clip & sgd\n",
        "        for g in [dWhy, dby, dWxh, dWhh, dbh, dE]:\n",
        "            np.clip(g, -clip, clip, out=g)\n",
        "\n",
        "        Why -= lr*dWhy; by -= lr*dby\n",
        "        Wxh -= lr*dWxh; Whh -= lr*dWhh; bh -= lr*dbh\n",
        "        E   -= lr*dE\n",
        "\n",
        "    # evaluate on val\n",
        "    with np.errstate(divide='ignore'):\n",
        "        vloss = 0.0\n",
        "        for x_idxs, y_idx in val_pairs:\n",
        "            _, _, hT = forward_sequence(x_idxs)\n",
        "            logits = Why @ hT + by\n",
        "            probs = softmax(logits)\n",
        "            vloss += -np.log(probs[y_idx] + 1e-12)\n",
        "    train_losses.append(total/len(train_pairs))\n",
        "    val_losses.append(vloss/len(val_pairs))\n",
        "    print(f\"[NumPy] epoch {ep:02d} | train loss {train_losses[-1]:.4f} | val loss {val_losses[-1]:.4f}\")\n"
      ]
    },
    {
      "cell_type": "code",
      "execution_count": 9,
      "id": "d506e475",
      "metadata": {
        "id": "d506e475",
        "colab": {
          "base_uri": "https://localhost:8080/",
          "height": 472
        },
        "outputId": "27b88464-dc41-4adc-9d5f-3b57007d66fc"
      },
      "outputs": [
        {
          "output_type": "display_data",
          "data": {
            "text/plain": [
              "<Figure size 640x480 with 1 Axes>"
            ],
            "image/png": "[encoded data removed]"
          },
          "metadata": {}
        }
      ],
      "source": [
        "\n",
        "# Plot losses (single figure, no color specified)\n",
        "plt.figure()\n",
        "plt.plot(range(1, len(train_losses)+1), train_losses, label=\"train\")\n",
        "plt.plot(range(1, len(val_losses)+1), val_losses, label=\"val\")\n",
        "plt.xlabel(\"epoch\"); plt.ylabel(\"loss\"); plt.title(\"NumPy RNN LM loss\")\n",
        "plt.legend()\n",
        "plt.show()\n"
      ]
    },
    {
      "cell_type": "code",
      "execution_count": 10,
      "id": "9baf5614",
      "metadata": {
        "id": "9baf5614",
        "colab": {
          "base_uri": "https://localhost:8080/"
        },
        "outputId": "e979880b-29d3-46e7-82d9-59a83cdee99f"
      },
      "outputs": [
        {
          "output_type": "stream",
          "name": "stdout",
          "text": [
            "NumPy embedding — similar to 'good': [('amended', 0.9576167478859262), ('possible', 0.8552323140252971), ('construed', 0.8072799550052824), ('relations', 0.7819266096504225), ('took', 0.7798475303159293)]\n"
          ]
        }
      ],
      "source": [
        "\n",
        "# Helper: cosine similarity search for nearest neighbors (NumPy embedding)\n",
        "def most_similar_numpy(word, topk=5):\n",
        "    if word not in stoi:\n",
        "        return []\n",
        "    W = E\n",
        "    v = W[stoi[word]]\n",
        "    v = v / (np.linalg.norm(v) + 1e-9)\n",
        "    M = W / (np.linalg.norm(W, axis=1, keepdims=True) + 1e-9)\n",
        "    sims = M @ v\n",
        "    idxs = np.argsort(-sims)\n",
        "    out = []\n",
        "    for i in idxs:\n",
        "        if itos[i] == word:\n",
        "            continue\n",
        "        out.append((itos[i], float(sims[i])))\n",
        "        if len(out) >= topk: break\n",
        "    return out\n",
        "\n",
        "print(\"NumPy embedding — similar to 'good':\", most_similar_numpy(\"good\"))\n"
      ]
    },
    {
      "cell_type": "markdown",
      "id": "a39f03b2",
      "metadata": {
        "id": "a39f03b2"
      },
      "source": [
        "## B) PyTorch GRU/LSTM Implementation\n",
        "\n",
        "We now build a PyTorch version with CUDA support, mixed precision (AMP), and efficient batching with DataLoader."
      ]
    },
    {
      "cell_type": "code",
      "execution_count": 11,
      "id": "c9e6251d",
      "metadata": {
        "id": "c9e6251d",
        "colab": {
          "base_uri": "https://localhost:8080/"
        },
        "outputId": "47a81126-f39a-4686-cd3b-0ea6257be4c8"
      },
      "outputs": [
        {
          "output_type": "stream",
          "name": "stdout",
          "text": [
            "[Torch] epoch 01 | train 6.5840 | val 6.3380\n",
            "[Torch] epoch 02 | train 4.2968 | val 6.9490\n",
            "[Torch] epoch 03 | train 1.9971 | val 8.0973\n",
            "[Torch] epoch 04 | train 0.8364 | val 8.7944\n",
            "[Torch] epoch 05 | train 0.4353 | val 9.2999\n",
            "[Torch] epoch 06 | train 0.3147 | val 9.3900\n",
            "[Torch] epoch 07 | train 0.2569 | val 9.5006\n",
            "[Torch] epoch 08 | train 0.2283 | val 9.5347\n",
            "[Torch] epoch 09 | train 0.1998 | val 9.5073\n",
            "[Torch] epoch 10 | train 0.2094 | val 9.4873\n"
          ]
        }
      ],
      "source": [
        "\n",
        "import torch\n",
        "import torch.nn as nn\n",
        "from torch.utils.data import Dataset, DataLoader\n",
        "\n",
        "torch.manual_seed(0)\n",
        "\n",
        "class NgramDataset(torch.utils.data.Dataset):\n",
        "    def __init__(self, pairs):\n",
        "        self.X = torch.tensor([p[0] for p in pairs], dtype=torch.long)\n",
        "        self.y = torch.tensor([p[1] for p in pairs], dtype=torch.long)\n",
        "    def __len__(self): return len(self.X)\n",
        "    def __getitem__(self, idx): return self.X[idx], self.y[idx]\n",
        "\n",
        "train_ds = NgramDataset(train_pairs)\n",
        "val_ds   = NgramDataset(val_pairs)\n",
        "train_dl = DataLoader(train_ds, batch_size=128, shuffle=True)\n",
        "val_dl   = DataLoader(val_ds, batch_size=256)\n",
        "\n",
        "class RNNLM(nn.Module):\n",
        "    def __init__(self, vocab_size, embed_dim=64, hidden=128, rnn=\"gru\"):\n",
        "        super().__init__()\n",
        "        self.emb = nn.Embedding(vocab_size, embed_dim)\n",
        "        if rnn == \"gru\":\n",
        "            self.rnn = nn.GRU(embed_dim, hidden, batch_first=True)\n",
        "        elif rnn == \"lstm\":\n",
        "            self.rnn = nn.LSTM(embed_dim, hidden, batch_first=True)\n",
        "        else:\n",
        "            self.rnn = nn.RNN(embed_dim, hidden, nonlinearity=\"tanh\", batch_first=True)\n",
        "        self.fc = nn.Linear(hidden, vocab_size)\n",
        "    def forward(self, x):\n",
        "        e = self.emb(x)              # (B, T, D)\n",
        "        h, _ = self.rnn(e)           # (B, T, H)\n",
        "        hT = h[:, -1, :]             # last step\n",
        "        return self.fc(hT)           # (B, V)\n",
        "\n",
        "device = torch.device(\"cuda\" if torch.cuda.is_available() else \"cpu\")\n",
        "model = RNNLM(V, embed_dim=64, hidden=128, rnn=\"gru\").to(device)\n",
        "opt = torch.optim.Adam(model.parameters(), lr=2e-2)\n",
        "crit = nn.CrossEntropyLoss()\n",
        "\n",
        "def run_epoch(dataloader, train=True):\n",
        "    total = 0.0\n",
        "    n = 0\n",
        "    if train:\n",
        "        model.train()\n",
        "    else:\n",
        "        model.eval()\n",
        "    for X, y in dataloader:\n",
        "        X = X.to(device); y = y.to(device)\n",
        "        if train: opt.zero_grad()\n",
        "        logits = model(X)\n",
        "        loss = crit(logits, y)\n",
        "        if train:\n",
        "            loss.backward()\n",
        "            nn.utils.clip_grad_norm_(model.parameters(), 5.0)\n",
        "            opt.step()\n",
        "        total += loss.item() * X.size(0)\n",
        "        n += X.size(0)\n",
        "    return total / max(1, n)\n",
        "\n",
        "epochs_pt = 10  # quick demo\n",
        "train_hist, val_hist = [], []\n",
        "for ep in range(1, epochs_pt+1):\n",
        "    tr = run_epoch(train_dl, train=True)\n",
        "    va = run_epoch(val_dl,   train=False)\n",
        "    train_hist.append(tr); val_hist.append(va)\n",
        "    print(f\"[Torch] epoch {ep:02d} | train {tr:.4f} | val {va:.4f}\")\n"
      ]
    },
    {
      "cell_type": "code",
      "execution_count": 12,
      "id": "4022b087",
      "metadata": {
        "id": "4022b087",
        "colab": {
          "base_uri": "https://localhost:8080/",
          "height": 472
        },
        "outputId": "cce5d736-0ec0-4849-be69-d2475c49fc9b"
      },
      "outputs": [
        {
          "output_type": "display_data",
          "data": {
            "text/plain": [
              "<Figure size 640x480 with 1 Axes>"
            ],
            "image/png": "[encoded data removed]"
          },
          "metadata": {}
        }
      ],
      "source": [
        "# Plot Torch losses (single figure, no specific colors/styles)\n",
        "plt.figure()\n",
        "plt.plot(range(1, len(train_hist)+1), train_hist, label=\"train\")\n",
        "plt.plot(range(1, len(val_hist)+1), val_hist, label=\"val\")\n",
        "plt.xlabel(\"epoch\"); plt.ylabel(\"loss\"); plt.title(\"PyTorch GRU LM loss\")\n",
        "plt.legend(); plt.show()\n"
      ]
    },
    {
      "cell_type": "code",
      "execution_count": 13,
      "id": "ac6548c2",
      "metadata": {
        "id": "ac6548c2",
        "colab": {
          "base_uri": "https://localhost:8080/"
        },
        "outputId": "8d948f87-402c-4e79-d069-056c570f06e8"
      },
      "outputs": [
        {
          "output_type": "stream",
          "name": "stdout",
          "text": [
            "Torch embedding — similar to 'good': [('eight', 0.4481146037578583), ('major', 0.37883901596069336), ('require', 0.35544872283935547), ('absent', 0.3546624183654785), ('listed', 0.3491075038909912)]\n"
          ]
        }
      ],
      "source": [
        "# Extract learned embedding and do nearest neighbors\n",
        "with torch.no_grad():\n",
        "    W = model.emb.weight.detach().cpu()   # (V, D)\n",
        "\n",
        "def most_similar_torch(word, topk=5):\n",
        "    import torch\n",
        "    if word not in stoi: return []\n",
        "    v = W[stoi[word]]\n",
        "    v = v / (v.norm() + 1e-9)\n",
        "    M = W / (W.norm(dim=1, keepdim=True) + 1e-9)\n",
        "    sims = (M @ v).cpu().numpy()\n",
        "    idxs = sims.argsort()[::-1]\n",
        "    out = []\n",
        "    for i in idxs:\n",
        "        if itos[i] == word:\n",
        "            continue\n",
        "        out.append((itos[i], float(sims[i])))\n",
        "        if len(out) >= topk: break\n",
        "    return out\n",
        "\n",
        "print(\"Torch embedding — similar to 'good':\", most_similar_torch(\"good\"))"
      ]
    }
  ],
  "metadata": {
    "colab": {
      "provenance": []
    },
    "language_info": {
      "name": "python"
    },
    "kernelspec": {
      "name": "python3",
      "display_name": "Python 3"
    }
  },
  "nbformat": 4,
  "nbformat_minor": 5
}
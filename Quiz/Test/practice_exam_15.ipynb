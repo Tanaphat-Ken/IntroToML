{
 "cells": [
  {
   "cell_type": "markdown",
   "id": "00b2d4c8",
   "metadata": {},
   "source": [
    "# Practice Exam 15 - Model Explainability (SHAP/Permutation)\n",
    "โจทย์: Demonstrate computing feature importance via permutation importance or SHAP (if available)\n",
    "- Create small RandomForest model and compute permutation_importance from sklearn\n",
    "- Plot importances"
   ]
  },
  {
   "cell_type": "code",
   "execution_count": null,
   "id": "e06da9f3",
   "metadata": {},
   "outputs": [],
   "source": [
    "from sklearn.datasets import make_classification\n",
    "from sklearn.ensemble import RandomForestClassifier\n",
    "from sklearn.model_selection import train_test_split\n",
    "from sklearn.inspection import permutation_importance\n",
    "import matplotlib.pyplot as plt\n",
    "X, y = make_classification(n_samples=400, n_features=8, n_informative=4, random_state=42)\n",
    "X_train, X_test, y_train, y_test = train_test_split(X, y, test_size=0.2, random_state=42)\n",
    "model = RandomForestClassifier(random_state=42)\n",
    "model.fit(X_train, y_train)\n",
    "res = permutation_importance(model, X_test, y_test, n_repeats=10, random_state=42)\n",
    "imp = res.importances_mean\n",
    "print('Permutation importances:', imp)\n",
    "plt.bar(range(len(imp)), imp)\n",
    "plt.title('Permutation importances')\n",
    "plt.show()"
   ]
  }
 ],
 "metadata": {
  "language_info": {
   "name": "python"
  }
 },
 "nbformat": 4,
 "nbformat_minor": 5
}

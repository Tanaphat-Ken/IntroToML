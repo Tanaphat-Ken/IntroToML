{
 "cells": [
  {
   "cell_type": "code",
   "execution_count": null,
   "id": "837f06cd",
   "metadata": {},
   "outputs": [],
   "source": [
    "# ตัวอย่างการทำ Data Cleaning\n",
    "import pandas as pd\n",
    "\n",
    "# สมมติว่ามี DataFrame ชื่อ df\n",
    "# เติมค่าว่างในคอลัมน์ 'ชื่อคอลัมน์' ด้วยค่ามัธยฐาน\n",
    "# df['ชื่อคอลัมน์'].fillna(df['ชื่อคอลัมน์'].median(), inplace=True)\n",
    "\n",
    "# ลบแถวที่ยังมีค่าว่างเหลืออยู่\n",
    "# df.dropna(inplace=True)\n",
    "\n",
    "# เติมค่าว่างด้วยค่าเฉลี่ย\n",
    "# df['ชื่อคอลัมน์'].fillna(df['ชื่อคอลัมน์'].mean(), inplace=True)\n",
    "\n",
    "# เติมค่าว่างด้วยค่าที่มากที่สุด (mode)\n",
    "# df['ชื่อคอลัมน์'].fillna(df['ชื่อคอลัมน์'].mode()[0], inplace=True)\n",
    "\n",
    "# ลบคอลัมน์ที่ไม่จำเป็น\n",
    "# df.drop(['ชื่อคอลัมน์ที่ไม่ต้องการ'], axis=1, inplace=True)\n",
    "\n",
    "# แปลงข้อมูลประเภท category เป็นตัวเลข\n",
    "# df['ชื่อคอลัมน์'] = df['ชื่อคอลัมน์'].astype('category').cat.codes\n",
    "\n",
    "# ตรวจสอบข้อมูลซ้ำ\n",
    "# df.duplicated().sum()\n",
    "\n",
    "# ลบข้อมูลซ้ำ\n",
    "# df.drop_duplicates(inplace=True)\n",
    "\n",
    "# ตรวจสอบข้อมูลที่ผิดปกติ (outliers)\n",
    "# df.describe()\n",
    "# df.boxplot(column=['ชื่อคอลัมน์'])\n"
   ]
  }
 ],
 "metadata": {
  "language_info": {
   "name": "python"
  }
 },
 "nbformat": 4,
 "nbformat_minor": 5
}

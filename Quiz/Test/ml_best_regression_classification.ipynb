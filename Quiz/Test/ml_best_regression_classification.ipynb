{
 "cells": [
  {
   "cell_type": "markdown",
   "id": "5bdd9d47",
   "metadata": {},
   "source": [
    "# Best Practice: Regression & Classification (Exam-ready Template)\n",
    "\n",
    "## 1. Regression (XGBoost)\n",
    "- ใช้ XGBoostRegressor (ต้องติดตั้ง xgboost ก่อน)\n",
    "- เหมาะกับข้อมูล tabular, มี feature เยอะ, non-linear\n",
    "- มี cross-validation, scaling, hyperparameter tuning"
   ]
  },
  {
   "cell_type": "code",
   "execution_count": 1,
   "id": "6eaf4df9",
   "metadata": {},
   "outputs": [],
   "source": [
    "# 1.1 Import libraries\n",
    "import pandas as pd\n",
    "import numpy as np\n",
    "from sklearn.model_selection import train_test_split, GridSearchCV\n",
    "from sklearn.preprocessing import StandardScaler\n",
    "from xgboost import XGBRegressor\n",
    "from sklearn.metrics import r2_score, mean_squared_error, mean_absolute_error"
   ]
  },
  {
   "cell_type": "code",
   "execution_count": 2,
   "id": "7466b73d",
   "metadata": {},
   "outputs": [],
   "source": [
    "# 1.2 Load your data\n",
    "# df = pd.read_csv('your_data.csv')\n",
    "# X = df.drop('target_column', axis=1)\n",
    "# y = df['target_column']\n",
    "# For demo, create synthetic data\n",
    "np.random.seed(42)\n",
    "X = pd.DataFrame(np.random.randn(200, 5), columns=[f'feat{i}' for i in range(5)])\n",
    "y = X['feat0'] * 10 + X['feat1'] * -5 + np.random.randn(200) * 2"
   ]
  },
  {
   "cell_type": "code",
   "execution_count": 3,
   "id": "aae2088e",
   "metadata": {},
   "outputs": [],
   "source": [
    "# 1.3 Train-test split & scaling\n",
    "X_train, X_test, y_train, y_test = train_test_split(X, y, test_size=0.2, random_state=42)\n",
    "scaler = StandardScaler()\n",
    "X_train_scaled = scaler.fit_transform(X_train)\n",
    "X_test_scaled = scaler.transform(X_test)"
   ]
  },
  {
   "cell_type": "code",
   "execution_count": 4,
   "id": "fef83b5c",
   "metadata": {},
   "outputs": [
    {
     "name": "stdout",
     "output_type": "stream",
     "text": [
      "Best params: {'learning_rate': 0.05, 'max_depth': 3, 'n_estimators': 200}\n"
     ]
    }
   ],
   "source": [
    "# 1.4 Hyperparameter tuning (GridSearchCV)\n",
    "params = {\n",
    "    'n_estimators': [100, 200],\n",
    "    'max_depth': [3, 6],\n",
    "    'learning_rate': [0.05, 0.1]\n",
    "}\n",
    "xgb = XGBRegressor(random_state=42)\n",
    "grid = GridSearchCV(xgb, params, cv=5, scoring='r2', n_jobs=-1)\n",
    "grid.fit(X_train_scaled, y_train)\n",
    "print('Best params:', grid.best_params_)"
   ]
  },
  {
   "cell_type": "code",
   "execution_count": 5,
   "id": "680e5adf",
   "metadata": {},
   "outputs": [
    {
     "name": "stdout",
     "output_type": "stream",
     "text": [
      "R2: 0.9335973741810724\n",
      "RMSE: 2.3658122645789597\n",
      "MAE: 1.768578361722242\n"
     ]
    }
   ],
   "source": [
    "# 1.5 Evaluate\n",
    "best_model = grid.best_estimator_\n",
    "y_pred = best_model.predict(X_test_scaled)\n",
    "print('R2:', r2_score(y_test, y_pred))\n",
    "print('RMSE:', np.sqrt(mean_squared_error(y_test, y_pred)))\n",
    "print('MAE:', mean_absolute_error(y_test, y_pred))"
   ]
  },
  {
   "cell_type": "markdown",
   "id": "8e843f7b",
   "metadata": {},
   "source": [
    "---\n",
    "## 2. Classification (XGBoost or RandomForest)\n",
    "- ใช้ XGBoostClassifier (ดีที่สุด) หรือ RandomForestClassifier\n",
    "- มี cross-validation, scaling, hyperparameter tuning"
   ]
  },
  {
   "cell_type": "code",
   "execution_count": 6,
   "id": "58325b62",
   "metadata": {},
   "outputs": [],
   "source": [
    "# 2.1 Import libraries\n",
    "from xgboost import XGBClassifier\n",
    "from sklearn.ensemble import RandomForestClassifier\n",
    "from sklearn.metrics import accuracy_score, classification_report, confusion_matrix"
   ]
  },
  {
   "cell_type": "code",
   "execution_count": 7,
   "id": "83149a05",
   "metadata": {},
   "outputs": [],
   "source": [
    "# 2.2 Load your data\n",
    "# df = pd.read_csv('your_data.csv')\n",
    "# X = df.drop('target_column', axis=1)\n",
    "# y = df['target_column']\n",
    "# For demo, create synthetic data\n",
    "np.random.seed(42)\n",
    "X = pd.DataFrame(np.random.randn(200, 5), columns=[f'feat{i}' for i in range(5)])\n",
    "y = (X['feat0'] + X['feat1'] > 0).astype(int)"
   ]
  },
  {
   "cell_type": "code",
   "execution_count": 8,
   "id": "aa0457c1",
   "metadata": {},
   "outputs": [],
   "source": [
    "# 2.3 Train-test split & scaling\n",
    "X_train, X_test, y_train, y_test = train_test_split(X, y, test_size=0.2, random_state=42)\n",
    "scaler = StandardScaler()\n",
    "X_train_scaled = scaler.fit_transform(X_train)\n",
    "X_test_scaled = scaler.transform(X_test)"
   ]
  },
  {
   "cell_type": "code",
   "execution_count": 9,
   "id": "bd8c5d96",
   "metadata": {},
   "outputs": [
    {
     "name": "stdout",
     "output_type": "stream",
     "text": [
      "Best params: {'learning_rate': 0.05, 'max_depth': 3, 'n_estimators': 200}\n"
     ]
    },
    {
     "name": "stderr",
     "output_type": "stream",
     "text": [
      "c:\\Users\\PC\\Miniconda3\\Lib\\site-packages\\xgboost\\training.py:183: UserWarning: [00:43:38] WARNING: C:\\actions-runner\\_work\\xgboost\\xgboost\\src\\learner.cc:738: \n",
      "Parameters: { \"use_label_encoder\" } are not used.\n",
      "\n",
      "  bst.update(dtrain, iteration=i, fobj=obj)\n"
     ]
    }
   ],
   "source": [
    "# 2.4 Hyperparameter tuning (GridSearchCV)\n",
    "params = {\n",
    "    'n_estimators': [100, 200],\n",
    "    'max_depth': [3, 6],\n",
    "    'learning_rate': [0.05, 0.1]\n",
    "}\n",
    "xgbc = XGBClassifier(random_state=42, use_label_encoder=False, eval_metric='logloss')\n",
    "grid = GridSearchCV(xgbc, params, cv=5, scoring='accuracy', n_jobs=-1)\n",
    "grid.fit(X_train_scaled, y_train)\n",
    "print('Best params:', grid.best_params_)"
   ]
  },
  {
   "cell_type": "code",
   "execution_count": 13,
   "id": "72bdbdcd",
   "metadata": {},
   "outputs": [
    {
     "name": "stdout",
     "output_type": "stream",
     "text": [
      "Accuracy: 0.95\n",
      "              precision    recall  f1-score   support\n",
      "\n",
      "           0       0.95      0.95      0.95        22\n",
      "           1       0.94      0.94      0.94        18\n",
      "\n",
      "    accuracy                           0.95        40\n",
      "   macro avg       0.95      0.95      0.95        40\n",
      "weighted avg       0.95      0.95      0.95        40\n",
      "\n",
      "Confusion matrix:\n",
      "[[21  1]\n",
      " [ 1 17]]\n"
     ]
    }
   ],
   "source": [
    "# 2.5 Evaluate\n",
    "best_model = grid.best_estimator_\n",
    "y_pred = best_model.predict(X_test_scaled)\n",
    "print('Accuracy:', accuracy_score(y_test, y_pred))\n",
    "print(classification_report(y_test, y_pred))\n",
    "print('Confusion matrix:')\n",
    "print(confusion_matrix(y_test, y_pred))"
   ]
  },
  {
   "cell_type": "markdown",
   "id": "02d1f171",
   "metadata": {},
   "source": [
    "---\n",
    "## Notes\n",
    "- เปลี่ยนชื่อไฟล์, column, และ target ให้ตรงกับข้อมูลจริง\n",
    "- ถ้าไม่มี xgboost ให้ใช้ RandomForestClassifier (API คล้ายกัน)\n",
    "- สามารถใช้ cross_val_score() หรือ KFold ได้เหมือนกัน\n",
    "- อย่าลืม scaling ก่อนเทรน\n",
    "- สามารถ copy/paste แล้วแก้ไขได้ทันที"
   ]
  },
  {
   "cell_type": "markdown",
   "id": "f5a0cd7f",
   "metadata": {},
   "source": [
    "---\n",
    "## (Optional) KFold Cross-Validation Example\n",
    "ใช้สำหรับประเมินโมเดลแบบ cross-validation (ถ้าอยากโชว์ best practice)"
   ]
  },
  {
   "cell_type": "code",
   "execution_count": 14,
   "id": "eab2b03d",
   "metadata": {},
   "outputs": [
    {
     "name": "stdout",
     "output_type": "stream",
     "text": [
      "KFold R2 scores: [0.7952739  0.75502878 0.72546905 0.75290143 0.87693453]\n",
      "Mean R2: 0.7811215400695801\n"
     ]
    }
   ],
   "source": [
    "# XGBoost Regression with KFold\n",
    "from xgboost import XGBRegressor\n",
    "from sklearn.model_selection import KFold, cross_val_score\n",
    "from sklearn.preprocessing import StandardScaler\n",
    "from sklearn.pipeline import make_pipeline\n",
    "import numpy as np\n",
    "# df = pd.read_csv('your_data.csv')\n",
    "# X = df.drop('target_column', axis=1)\n",
    "# y = df['target_column']\n",
    "model = make_pipeline(StandardScaler(), XGBRegressor(random_state=42))\n",
    "cv = KFold(n_splits=5, shuffle=True, random_state=42)\n",
    "scores = cross_val_score(model, X, y, cv=cv, scoring='r2')\n",
    "print('KFold R2 scores:', scores)\n",
    "print('Mean R2:', np.mean(scores))"
   ]
  },
  {
   "cell_type": "code",
   "execution_count": 15,
   "id": "d88bfbe3",
   "metadata": {},
   "outputs": [
    {
     "name": "stdout",
     "output_type": "stream",
     "text": [
      "KFold accuracy scores: [0.925 0.95  0.95  0.9   0.975]\n",
      "Mean accuracy: 0.9400000000000001\n"
     ]
    },
    {
     "name": "stderr",
     "output_type": "stream",
     "text": [
      "c:\\Users\\PC\\Miniconda3\\Lib\\site-packages\\xgboost\\training.py:183: UserWarning: [01:08:13] WARNING: C:\\actions-runner\\_work\\xgboost\\xgboost\\src\\learner.cc:738: \n",
      "Parameters: { \"use_label_encoder\" } are not used.\n",
      "\n",
      "  bst.update(dtrain, iteration=i, fobj=obj)\n",
      "c:\\Users\\PC\\Miniconda3\\Lib\\site-packages\\xgboost\\training.py:183: UserWarning: [01:08:13] WARNING: C:\\actions-runner\\_work\\xgboost\\xgboost\\src\\learner.cc:738: \n",
      "Parameters: { \"use_label_encoder\" } are not used.\n",
      "\n",
      "  bst.update(dtrain, iteration=i, fobj=obj)\n",
      "c:\\Users\\PC\\Miniconda3\\Lib\\site-packages\\xgboost\\training.py:183: UserWarning: [01:08:13] WARNING: C:\\actions-runner\\_work\\xgboost\\xgboost\\src\\learner.cc:738: \n",
      "Parameters: { \"use_label_encoder\" } are not used.\n",
      "\n",
      "  bst.update(dtrain, iteration=i, fobj=obj)\n",
      "c:\\Users\\PC\\Miniconda3\\Lib\\site-packages\\xgboost\\training.py:183: UserWarning: [01:08:13] WARNING: C:\\actions-runner\\_work\\xgboost\\xgboost\\src\\learner.cc:738: \n",
      "Parameters: { \"use_label_encoder\" } are not used.\n",
      "\n",
      "  bst.update(dtrain, iteration=i, fobj=obj)\n",
      "c:\\Users\\PC\\Miniconda3\\Lib\\site-packages\\xgboost\\training.py:183: UserWarning: [01:08:13] WARNING: C:\\actions-runner\\_work\\xgboost\\xgboost\\src\\learner.cc:738: \n",
      "Parameters: { \"use_label_encoder\" } are not used.\n",
      "\n",
      "  bst.update(dtrain, iteration=i, fobj=obj)\n"
     ]
    }
   ],
   "source": [
    "# XGBoost Classification with KFold\n",
    "from xgboost import XGBClassifier\n",
    "from sklearn.model_selection import KFold, cross_val_score\n",
    "from sklearn.preprocessing import StandardScaler\n",
    "from sklearn.pipeline import make_pipeline\n",
    "import numpy as np\n",
    "# df = pd.read_csv('your_data.csv')\n",
    "# X = df.drop('target_column', axis=1)\n",
    "# y = df['target_column']\n",
    "model = make_pipeline(StandardScaler(), XGBClassifier(random_state=42, use_label_encoder=False, eval_metric='logloss'))\n",
    "cv = KFold(n_splits=5, shuffle=True, random_state=42)\n",
    "scores = cross_val_score(model, X, y, cv=cv, scoring='accuracy')\n",
    "print('KFold accuracy scores:', scores)\n",
    "print('Mean accuracy:', np.mean(scores))"
   ]
  },
  {
   "cell_type": "markdown",
   "id": "85073f10",
   "metadata": {},
   "source": [
    "---\n",
    "## ตัวอย่างการนำโมเดล Regression ไปใช้กับข้อมูลใหม่\n",
    "Predict เงินเดือนพนักงานใหม่จากโมเดลที่เทรนไว้"
   ]
  },
  {
   "cell_type": "code",
   "execution_count": null,
   "id": "0c4bc0bc",
   "metadata": {},
   "outputs": [],
   "source": [
    "# ตัวอย่างการใช้โมเดล Regression ทำนายข้อมูลใหม่\n",
    "new = pd.DataFrame({\n",
    "    'YearsExperience': [6.5],\n",
    "    'EducationLevel': [2],\n",
    "    'PerformanceScore': [82]\n",
    "})\n",
    "# ถ้าใช้ PolynomialFeatures ต้อง transform ก่อน\n",
    "# new_poly = poly.transform(new)\n",
    "# pred_salary = model.predict(new_poly)\n",
    "# print(f\"Predicted Salary: {pred_salary[0]:.2f} ฿\")\n",
    "\n",
    "# ถ้าใช้ XGBoost หรือ LinearRegression ธรรมดา\n",
    "# pred_salary = model.predict(new)\n",
    "# print(f\"Predicted Salary: {pred_salary[0]:.2f} ฿\")"
   ]
  },
  {
   "cell_type": "markdown",
   "id": "3cd6c0ad",
   "metadata": {},
   "source": [
    "---\n",
    "## ตัวอย่างการนำโมเดล Classification ไปใช้กับข้อมูลใหม่\n",
    "Predict โรคหัวใจจากข้อมูลผู้ป่วยใหม่"
   ]
  },
  {
   "cell_type": "code",
   "execution_count": null,
   "id": "88fda7e0",
   "metadata": {},
   "outputs": [],
   "source": [
    "# ตัวอย่างการใช้โมเดล Classification ทำนายข้อมูลใหม่\n",
    "new_patient = pd.DataFrame({\n",
    "    'Age': [54],\n",
    "    'Sex': [1],\n",
    "    'ChestPain': [2],\n",
    "    'RestingBP': [145],\n",
    "    'Cholesterol': [265],\n",
    "    'FastingBS': [1],\n",
    "    'MaxHR': [138]\n",
    "})\n",
    "# ถ้าใช้ StandardScaler ต้อง transform ก่อน\n",
    "# new_scaled = scaler.transform(new_patient)\n",
    "# pred = model.predict(new_scaled)\n",
    "# print(f\"Predicted: {pred[0]}\")\n",
    "\n",
    "# ถ้าใช้ RandomForest หรือ XGBoost ธรรมดา\n",
    "# pred = model.predict(new_patient)\n",
    "# print(f\"Predicted: {pred[0]}\")"
   ]
  }
 ],
 "metadata": {
  "kernelspec": {
   "display_name": "base",
   "language": "python",
   "name": "python3"
  },
  "language_info": {
   "codemirror_mode": {
    "name": "ipython",
    "version": 3
   },
   "file_extension": ".py",
   "mimetype": "text/x-python",
   "name": "python",
   "nbconvert_exporter": "python",
   "pygments_lexer": "ipython3",
   "version": "3.13.5"
  }
 },
 "nbformat": 4,
 "nbformat_minor": 5
}

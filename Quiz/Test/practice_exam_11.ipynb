{
 "cells": [
  {
   "cell_type": "markdown",
   "id": "ae5f48d1",
   "metadata": {},
   "source": [
    "# Practice Exam 11 - Ensemble (Bagging vs Boosting)\n",
    "โจทย์: เปรียบเทียบ Bagging (RandomForest) กับ Boosting (GradientBoosting) บนชุดข้อมูลสังเคราะห์\n",
    "- สร้าง dataset binary, train both models, compare accuracy and F1\n",
    "- Show feature importances for both"
   ]
  },
  {
   "cell_type": "code",
   "execution_count": null,
   "id": "0e797d82",
   "metadata": {},
   "outputs": [],
   "source": [
    "from sklearn.datasets import make_classification\n",
    "from sklearn.ensemble import RandomForestClassifier, GradientBoostingClassifier\n",
    "from sklearn.model_selection import train_test_split\n",
    "from sklearn.metrics import accuracy_score, f1_score, classification_report\n",
    "X, y = make_classification(n_samples=500, n_features=10, n_informative=4, random_state=42)\n",
    "X_train, X_test, y_train, y_test = train_test_split(X, y, test_size=0.2, random_state=42)\n",
    "rf = RandomForestClassifier(random_state=42)\n",
    "gb = GradientBoostingClassifier(random_state=42)\n",
    "rf.fit(X_train, y_train)\n",
    "gb.fit(X_train, y_train)\n",
    "for name, m in [('RandomForest', rf), ('GradientBoosting', gb)]:\n",
    "    y_pred = m.predict(X_test)\n",
    "    print(name, 'acc=', accuracy_score(y_test, y_pred), 'f1=', f1_score(y_test, y_pred))\n",
    "    print(classification_report(y_test, y_pred))"
   ]
  }
 ],
 "metadata": {
  "language_info": {
   "name": "python"
  }
 },
 "nbformat": 4,
 "nbformat_minor": 5
}

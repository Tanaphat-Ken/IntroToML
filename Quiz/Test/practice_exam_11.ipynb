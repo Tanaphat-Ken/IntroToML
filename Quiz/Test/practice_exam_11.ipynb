{
 "cells": [
  {
   "cell_type": "markdown",
   "id": "ae5f48d1",
   "metadata": {},
   "source": [
    "# Practice Exam 11 - Ensemble (Bagging vs Boosting)\n",
    "โจทย์: เปรียบเทียบ Bagging (RandomForest) กับ Boosting (GradientBoosting) บนชุดข้อมูลสังเคราะห์\n",
    "- สร้าง dataset binary, train both models, compare accuracy and F1\n",
    "- Show feature importances for both"
   ]
  },
  {
   "cell_type": "code",
   "execution_count": 1,
   "id": "0e797d82",
   "metadata": {},
   "outputs": [
    {
     "name": "stdout",
     "output_type": "stream",
     "text": [
      "RandomForest acc= 0.88 f1= 0.8867924528301887\n",
      "              precision    recall  f1-score   support\n",
      "\n",
      "           0       0.84      0.91      0.87        45\n",
      "           1       0.92      0.85      0.89        55\n",
      "\n",
      "    accuracy                           0.88       100\n",
      "   macro avg       0.88      0.88      0.88       100\n",
      "weighted avg       0.88      0.88      0.88       100\n",
      "\n",
      "GradientBoosting acc= 0.94 f1= 0.9454545454545454\n",
      "              precision    recall  f1-score   support\n",
      "\n",
      "           0       0.93      0.93      0.93        45\n",
      "           1       0.95      0.95      0.95        55\n",
      "\n",
      "    accuracy                           0.94       100\n",
      "   macro avg       0.94      0.94      0.94       100\n",
      "weighted avg       0.94      0.94      0.94       100\n",
      "\n"
     ]
    }
   ],
   "source": [
    "from sklearn.datasets import make_classification\n",
    "from sklearn.ensemble import RandomForestClassifier, GradientBoostingClassifier\n",
    "from sklearn.model_selection import train_test_split\n",
    "from sklearn.metrics import accuracy_score, f1_score, classification_report\n",
    "X, y = make_classification(n_samples=500, n_features=10, n_informative=4, random_state=42)\n",
    "X_train, X_test, y_train, y_test = train_test_split(X, y, test_size=0.2, random_state=42)\n",
    "rf = RandomForestClassifier(random_state=42)\n",
    "gb = GradientBoostingClassifier(random_state=42)\n",
    "rf.fit(X_train, y_train)\n",
    "gb.fit(X_train, y_train)\n",
    "for name, m in [('RandomForest', rf), ('GradientBoosting', gb)]:\n",
    "    y_pred = m.predict(X_test)\n",
    "    print(name, 'acc=', accuracy_score(y_test, y_pred), 'f1=', f1_score(y_test, y_pred))\n",
    "    print(classification_report(y_test, y_pred))"
   ]
  }
 ],
 "metadata": {
  "kernelspec": {
   "display_name": "base",
   "language": "python",
   "name": "python3"
  },
  "language_info": {
   "codemirror_mode": {
    "name": "ipython",
    "version": 3
   },
   "file_extension": ".py",
   "mimetype": "text/x-python",
   "name": "python",
   "nbconvert_exporter": "python",
   "pygments_lexer": "ipython3",
   "version": "3.13.5"
  }
 },
 "nbformat": 4,
 "nbformat_minor": 5
}

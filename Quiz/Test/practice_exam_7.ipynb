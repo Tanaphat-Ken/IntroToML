{
 "cells": [
  {
   "cell_type": "markdown",
   "id": "8dac2dd6",
   "metadata": {},
   "source": [
    "# Practice Exam 7 - Time Series (ARIMA)\n",
    "โจทย์: สร้างและพยากรณ์ชุดเวลาเล็ก ๆ ด้วย ARIMA หรือ SARIMA\n",
    "- สร้าง synthetic monthly series มี trend + seasonality\n",
    "- Fit an ARIMA and forecast next 12 months\n",
    "- Plot actual vs forecast"
   ]
  },
  {
   "cell_type": "code",
   "execution_count": null,
   "id": "c8c19413",
   "metadata": {},
   "outputs": [],
   "source": [
    "import numpy as np\n",
    "import pandas as pd\n",
    "import matplotlib.pyplot as plt\n",
    "np.random.seed(0)\n",
    "T = 100\n",
    "t = np.arange(T)\n",
    "series = 0.05*t + 2*np.sin(2*np.pi*t/12) + np.random.normal(0, 0.5, T)\n",
    "dates = pd.date_range('2015-01-01', periods=T, freq='M')\n",
    "s = pd.Series(series, index=dates, name='value')\n",
    "print(s.head())\n",
    "\n",
    "# Starter: plot the series\n",
    "s.plot(figsize=(10,4))\n",
    "plt.title('Synthetic monthly series')\n",
    "plt.show()\n",
    "\n",
    "# Note: ARIMA/SARIMA requires statsmodels; students can import SARIMAX from statsmodels.tsa.statespace.sarimax"
   ]
  }
 ],
 "metadata": {
  "language_info": {
   "name": "python"
  }
 },
 "nbformat": 4,
 "nbformat_minor": 5
}

{
 "cells": [
  {
   "cell_type": "markdown",
   "id": "727e3ef9",
   "metadata": {},
   "source": [
    "# Practice Exam 3 - Regression (Linear)\n",
    "โจทย์: ทำนาย Score ของนักเรียนโดยใช้ Features: Hours_Study, Attendance, PastGrade.\n",
    "- สร้าง LinearRegression\n",
    "- Train/test split 70/30\n",
    "- รายงาน R² และ RMSE"
   ]
  },
  {
   "cell_type": "code",
   "execution_count": 1,
   "id": "5a7da4ca",
   "metadata": {},
   "outputs": [
    {
     "name": "stdout",
     "output_type": "stream",
     "text": [
      "   Hours_Study  Attendance  PastGrade  Score\n",
      "0          8.2          93         89  108.2\n",
      "1          3.8          62         62   77.4\n",
      "2          3.9          80         88   71.5\n",
      "3          2.9          79         77   71.1\n",
      "4          6.7          92         55   87.5\n"
     ]
    }
   ],
   "source": [
    "# Import libraries\n",
    "from sklearn.model_selection import train_test_split\n",
    "from sklearn.preprocessing import StandardScaler, PolynomialFeatures\n",
    "from sklearn.linear_model import LinearRegression, LogisticRegression\n",
    "from sklearn.ensemble import RandomForestClassifier\n",
    "from sklearn.tree import DecisionTreeClassifier\n",
    "from sklearn.svm import SVC\n",
    "from sklearn.metrics import accuracy_score, classification_report, confusion_matrix, f1_score\n",
    "from sklearn.metrics import r2_score, mean_squared_error, mean_absolute_error\n",
    "import matplotlib.pyplot as plt\n",
    "import numpy as np\n",
    "import pandas as pd\n",
    "import seaborn as sns\n",
    "\n",
    "np.random.seed(1)\n",
    "hours = np.round(np.random.normal(5, 2, 100).clip(0), 1)\n",
    "attendance = np.random.randint(60, 101, 100)\n",
    "past = np.random.randint(50, 90, 100)\n",
    "score = 20 + 5*hours + 0.2*attendance + 0.3*past + np.random.normal(0, 5, 100)\n",
    "df = pd.DataFrame({'Hours_Study': hours, 'Attendance': attendance, 'PastGrade': past, 'Score': score.round(1)})\n",
    "print(df.head())"
   ]
  },
  {
   "cell_type": "code",
   "execution_count": 10,
   "id": "4f7535bd",
   "metadata": {},
   "outputs": [
    {
     "name": "stdout",
     "output_type": "stream",
     "text": [
      "R2 = 0.7750547220807357\n",
      "MSE = 22.61892003122381\n",
      "MAE = 4.0263482757901725\n"
     ]
    }
   ],
   "source": [
    "X = df[['Hours_Study', 'Attendance', 'PastGrade']]\n",
    "y = df['Score']\n",
    "\n",
    "X_train, X_test, y_train, y_test = train_test_split(X, y, test_size=0.3, random_state=42)\n",
    "\n",
    "scaler = StandardScaler()\n",
    "X_train = scaler.fit_transform(X_train)\n",
    "X_test = scaler.transform(X_test)\n",
    "\n",
    "model = LinearRegression()\n",
    "model.fit(X_train, y_train)\n",
    "y_pred = model.predict(X_test)\n",
    "\n",
    "r2 = r2_score(y_test, y_pred)\n",
    "mse = mean_squared_error(y_test, y_pred)\n",
    "mae = mean_absolute_error(y_test, y_pred)\n",
    "\n",
    "print(f'R2 = {r2}')\n",
    "print(f'MSE = {mse}')\n",
    "print(f'MAE = {mae}')"
   ]
  },
  {
   "cell_type": "code",
   "execution_count": 15,
   "id": "4f902ce7",
   "metadata": {},
   "outputs": [
    {
     "name": "stdout",
     "output_type": "stream",
     "text": [
      "r2 = 0.9838805582082729\n",
      "mse = 1.9358252078533464\n",
      "mae = 0.5564953437400609\n"
     ]
    }
   ],
   "source": [
    "X = df[['Hours_Study', 'Attendance', 'PastGrade']]\n",
    "y = df['Score']\n",
    "\n",
    "poly = PolynomialFeatures(degree=8, include_bias=False)\n",
    "X_poly = poly.fit_transform(X)\n",
    "\n",
    "model = LinearRegression()\n",
    "model.fit(X_poly, y)\n",
    "\n",
    "y_pred = model.predict(X_poly)\n",
    "r2 = r2_score(y, y_pred)\n",
    "mse = mean_squared_error(y, y_pred)\n",
    "mae = mean_absolute_error(y, y_pred)\n",
    "\n",
    "print(f\"r2 = {r2}\")\n",
    "print(f\"mse = {mse}\")\n",
    "print(f\"mae = {mae}\")"
   ]
  }
 ],
 "metadata": {
  "kernelspec": {
   "display_name": "base",
   "language": "python",
   "name": "python3"
  },
  "language_info": {
   "codemirror_mode": {
    "name": "ipython",
    "version": 3
   },
   "file_extension": ".py",
   "mimetype": "text/x-python",
   "name": "python",
   "nbconvert_exporter": "python",
   "pygments_lexer": "ipython3",
   "version": "3.13.5"
  }
 },
 "nbformat": 4,
 "nbformat_minor": 5
}

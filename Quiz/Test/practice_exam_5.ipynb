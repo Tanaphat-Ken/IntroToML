{
 "cells": [
  {
   "cell_type": "markdown",
   "id": "ae9a7d93",
   "metadata": {},
   "source": [
    "# Practice Exam 5 - Mixed Tasks\n",
    "โจทย์: ไฟล์นี้มี 2 ข้อย่อย - (A) Regression และ (B) Classification.\n",
    "- (A) สร้าง Ridge Regression เพื่อทำนาย 'Y' จาก X1,X2,X3\n",
    "- (B) สร้าง RandomForestClassifier เพื่อทำนาย 'Label' จาก features และรายงาน feature importances"
   ]
  },
  {
   "cell_type": "code",
   "execution_count": 6,
   "id": "33d94374",
   "metadata": {},
   "outputs": [],
   "source": [
    "# Import libraries\n",
    "from sklearn.model_selection import train_test_split\n",
    "from sklearn.preprocessing import StandardScaler, PolynomialFeatures\n",
    "from sklearn.linear_model import LinearRegression, LogisticRegression, Ridge\n",
    "from sklearn.ensemble import RandomForestClassifier\n",
    "from sklearn.tree import DecisionTreeClassifier\n",
    "from sklearn.svm import SVC\n",
    "from sklearn.metrics import accuracy_score, classification_report, confusion_matrix, f1_score\n",
    "from sklearn.metrics import r2_score, mean_squared_error, mean_absolute_error\n",
    "import matplotlib.pyplot as plt\n",
    "import numpy as np\n",
    "import pandas as pd\n",
    "import seaborn as sns"
   ]
  },
  {
   "cell_type": "code",
   "execution_count": 2,
   "id": "2ad42432",
   "metadata": {},
   "outputs": [
    {
     "name": "stdout",
     "output_type": "stream",
     "text": [
      "         X1        X2        X3         Y  Label\n",
      "0  1.788628 -0.724617 -2.544564  3.304476      1\n",
      "1  0.436510  3.143368 -2.545313 -1.603511      0\n",
      "2  0.096497 -1.441804 -1.918577  0.820807      1\n",
      "3 -1.863493  1.119231  1.099948 -3.828505      0\n",
      "4 -0.277388  1.004888 -2.274411 -1.946022      0\n"
     ]
    }
   ],
   "source": [
    "np.random.seed(3)\n",
    "N = 150\n",
    "X1 = np.random.normal(0, 1, N)\n",
    "X2 = np.random.normal(1, 2, N)\n",
    "X3 = np.random.normal(-1, 1.5, N)\n",
    "Y = 2*X1 - 0.5*X2 + 0.3*X3 + np.random.normal(0, 0.5, N)\n",
    "Label = (Y > Y.mean()).astype(int)\n",
    "df = pd.DataFrame({'X1': X1, 'X2': X2, 'X3': X3, 'Y': Y, 'Label': Label})\n",
    "print(df.head())"
   ]
  },
  {
   "cell_type": "code",
   "execution_count": 8,
   "id": "c3f671fa",
   "metadata": {},
   "outputs": [
    {
     "name": "stdout",
     "output_type": "stream",
     "text": [
      "================\n",
      "Prediction = -0.005085342688438299\n",
      "================\n",
      "R2 = 0.9213739206135937\n",
      "MSE = 0.3863689967867852\n",
      "MAE = 0.49716354317573636\n"
     ]
    }
   ],
   "source": [
    "#Regression\n",
    "xr = df[['X1', 'X2', 'X3']]\n",
    "yr = df['Y']\n",
    "\n",
    "xr_train, xr_test, yr_train, yr_test = train_test_split(xr, yr, train_size=0.2, random_state=42)\n",
    "\n",
    "scaler = StandardScaler()\n",
    "xr_train = scaler.fit_transform(xr_train)\n",
    "xr_test = scaler.transform(xr_test)\n",
    "\n",
    "modelr = Ridge()\n",
    "modelr.fit(xr_train, yr_train)\n",
    "\n",
    "yr_pred = modelr.predict(xr_test)\n",
    "\n",
    "r2 = r2_score(yr_test, yr_pred)\n",
    "mse = mean_squared_error(yr_test, yr_pred)\n",
    "mae = mean_absolute_error(yr_test, yr_pred)\n",
    "\n",
    "print('='*16)\n",
    "print(f'Prediction = {yr_pred[0]}')\n",
    "print('='*16)\n",
    "print(f'R2 = {r2}')\n",
    "print(f'MSE = {mse}')\n",
    "print(f'MAE = {mae}')"
   ]
  },
  {
   "cell_type": "code",
   "execution_count": 13,
   "id": "ff862e28",
   "metadata": {},
   "outputs": [
    {
     "name": "stdout",
     "output_type": "stream",
     "text": [
      "========================================\n",
      "RandomForest Accuracy: 0.9917\n",
      "Classification Report:\n",
      "              precision    recall  f1-score   support\n",
      "\n",
      "           0       1.00      0.98      0.99        60\n",
      "           1       0.98      1.00      0.99        60\n",
      "\n",
      "    accuracy                           0.99       120\n",
      "   macro avg       0.99      0.99      0.99       120\n",
      "weighted avg       0.99      0.99      0.99       120\n",
      "\n",
      "Confusion Matrix:\n",
      "[[59  1]\n",
      " [ 0 60]]\n",
      "========================================\n",
      "Feature importances (desc):\n",
      "Y     0.524043\n",
      "X1    0.367015\n",
      "X2    0.076138\n",
      "X3    0.032804\n",
      "dtype: float64\n"
     ]
    },
    {
     "data": {
      "image/png": "[encoded data removed]",
      "text/plain": [
       "<Figure size 640x480 with 1 Axes>"
      ]
     },
     "metadata": {},
     "output_type": "display_data"
    }
   ],
   "source": [
    "# Classification: RandomForest to predict 'Label'\n",
    "xc = df.drop('Label', axis=1)\n",
    "yc = df['Label']\n",
    "\n",
    "# NOTE: original notebook used train_size=0.2; keep consistent (small training set)\n",
    "xc_train, xc_test, yc_train, yc_test = train_test_split(xc, yc, train_size=0.2, random_state=42)\n",
    "\n",
    "scaler = StandardScaler()\n",
    "xc_train = scaler.fit_transform(xc_train)\n",
    "xc_test = scaler.transform(xc_test)\n",
    "\n",
    "# Train RandomForest\n",
    "# n_estimators=100: This is a hyperparameter that specifies the number of individual decision trees\n",
    "# that will be built and combined in the forest.\n",
    "# Setting it to 100 means the Random Forest will be made up of 100 decision trees.\n",
    "# Generally, more trees improve stability but increase computation time.\n",
    "\n",
    "modelc = RandomForestClassifier(n_estimators=100, random_state=42)\n",
    "modelc.fit(xc_train, yc_train)\n",
    "\n",
    "# Predict and evaluate\n",
    "yc_pred = modelc.predict(xc_test)\n",
    "acc = accuracy_score(yc_test, yc_pred)\n",
    "\n",
    "print('='*40)\n",
    "print(f'RandomForest Accuracy: {acc:.4f}')\n",
    "print('Classification Report:')\n",
    "print(classification_report(yc_test, yc_pred))\n",
    "print('Confusion Matrix:')\n",
    "print(confusion_matrix(yc_test, yc_pred))\n",
    "\n",
    "# Feature importances (report and plot)\n",
    "importances = modelc.feature_importances_\n",
    "feat_names = xc.columns\n",
    "feat_imp = pd.Series(importances, index=feat_names).sort_values(ascending=False)\n",
    "print('='*40)\n",
    "print('Feature importances (desc):')\n",
    "print(feat_imp)\n",
    "\n",
    "try:\n",
    "    feat_imp.plot(kind='bar')\n",
    "    plt.title('Feature importances')\n",
    "    plt.tight_layout()\n",
    "    plt.show()\n",
    "except Exception as e:\n",
    "    print(f'Could not plot feature importances: {e}')"
   ]
  }
 ],
 "metadata": {
  "kernelspec": {
   "display_name": "base",
   "language": "python",
   "name": "python3"
  },
  "language_info": {
   "codemirror_mode": {
    "name": "ipython",
    "version": 3
   },
   "file_extension": ".py",
   "mimetype": "text/x-python",
   "name": "python",
   "nbconvert_exporter": "python",
   "pygments_lexer": "ipython3",
   "version": "3.13.5"
  }
 },
 "nbformat": 4,
 "nbformat_minor": 5
}

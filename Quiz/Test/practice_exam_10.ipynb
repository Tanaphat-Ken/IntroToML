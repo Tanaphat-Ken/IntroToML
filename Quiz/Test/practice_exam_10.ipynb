{
 "cells": [
  {
   "cell_type": "markdown",
   "id": "68de8df3",
   "metadata": {},
   "source": [
    "# Practice Exam 10 - Imbalanced Classification (SMOTE optional)\n",
    "โจทย์: สร้าง classifier บนข้อมูลไม่สมดุล และรายงาน precision/recall/F1\n",
    "- สร้าง dataset imbalanced (ratio 95:5)\n",
    "- Train RandomForest and report metrics; optionally apply SMOTE if available"
   ]
  },
  {
   "cell_type": "code",
   "execution_count": 1,
   "id": "cf8f7172",
   "metadata": {},
   "outputs": [
    {
     "name": "stdout",
     "output_type": "stream",
     "text": [
      "              precision    recall  f1-score   support\n",
      "\n",
      "           0       0.98      0.99      0.99       190\n",
      "           1       0.86      0.60      0.71        10\n",
      "\n",
      "    accuracy                           0.97       200\n",
      "   macro avg       0.92      0.80      0.85       200\n",
      "weighted avg       0.97      0.97      0.97       200\n",
      "\n",
      "[[189   1]\n",
      " [  4   6]]\n"
     ]
    }
   ],
   "source": [
    "from sklearn.datasets import make_classification\n",
    "from sklearn.ensemble import RandomForestClassifier\n",
    "from sklearn.model_selection import train_test_split\n",
    "from sklearn.metrics import classification_report, confusion_matrix\n",
    "X, y = make_classification(n_samples=1000, n_features=10, n_informative=3, n_redundant=1,\n",
    "                           weights=[0.95,0.05], flip_y=0, random_state=42)\n",
    "X_train, X_test, y_train, y_test = train_test_split(X, y, test_size=0.2, random_state=42)\n",
    "model = RandomForestClassifier(random_state=42)\n",
    "model.fit(X_train, y_train)\n",
    "y_pred = model.predict(X_test)\n",
    "print(classification_report(y_test, y_pred))\n",
    "print(confusion_matrix(y_test, y_pred))"
   ]
  }
 ],
 "metadata": {
  "kernelspec": {
   "display_name": "base",
   "language": "python",
   "name": "python3"
  },
  "language_info": {
   "codemirror_mode": {
    "name": "ipython",
    "version": 3
   },
   "file_extension": ".py",
   "mimetype": "text/x-python",
   "name": "python",
   "nbconvert_exporter": "python",
   "pygments_lexer": "ipython3",
   "version": "3.13.5"
  }
 },
 "nbformat": 4,
 "nbformat_minor": 5
}

{
 "cells": [
  {
   "cell_type": "markdown",
   "id": "2d8dc59f",
   "metadata": {},
   "source": [
    "# Practice Exam 13 - Autoencoder (Anomaly Detection)\n",
    "โจทย์: สร้าง simple autoencoder (Keras or PyTorch) บน numerical data และใช้ reconstruction error เพื่อค้นหา anomalies\n",
    "- สร้าง synthetic normal data + a few anomalies\n",
    "- Train autoencoder and flag top-k highest reconstruction errors"
   ]
  },
  {
   "cell_type": "code",
   "execution_count": 1,
   "id": "454b844c",
   "metadata": {},
   "outputs": [
    {
     "name": "stdout",
     "output_type": "stream",
     "text": [
      "(500, 10)\n"
     ]
    }
   ],
   "source": [
    "import numpy as np\n",
    "import pandas as pd\n",
    "from sklearn.preprocessing import StandardScaler\n",
    "from sklearn.model_selection import train_test_split\n",
    "# This starter uses a simple sklearn-compatible autoencoder via sklearn.neural_network.MLPRegressor or Keras if available\n",
    "np.random.seed(0)\n",
    "X = np.random.normal(size=(500,10))\n",
    "# inject anomalies\n",
    "X[:5] += np.random.normal(10, 5, size=(5,10))\n",
    "sc = StandardScaler()\n",
    "Xs = sc.fit_transform(X)\n",
    "print(Xs.shape)\n",
    "\n",
    "# Students can use MLPRegressor to reconstruct input or use Keras autoencoder if available"
   ]
  }
 ],
 "metadata": {
  "kernelspec": {
   "display_name": "base",
   "language": "python",
   "name": "python3"
  },
  "language_info": {
   "codemirror_mode": {
    "name": "ipython",
    "version": 3
   },
   "file_extension": ".py",
   "mimetype": "text/x-python",
   "name": "python",
   "nbconvert_exporter": "python",
   "pygments_lexer": "ipython3",
   "version": "3.13.5"
  }
 },
 "nbformat": 4,
 "nbformat_minor": 5
}

{
 "cells": [
  {
   "cell_type": "markdown",
   "id": "cba63ba0",
   "metadata": {},
   "source": [
    "# ML Exam Template: Best Accuracy (from provided list)\n",
    "เลือกวิธีที่ให้ accuracy สูงสุดจากรายการที่ให้มา\n",
    "---"
   ]
  },
  {
   "cell_type": "markdown",
   "id": "bc71ddfc",
   "metadata": {},
   "source": [
    "## REGRESSION\n",
    "### Polynomial Regression (Best for non-linear tabular data in list)"
   ]
  },
  {
   "cell_type": "code",
   "execution_count": null,
   "id": "73719548",
   "metadata": {},
   "outputs": [],
   "source": [
    "from sklearn.preprocessing import PolynomialFeatures\n",
    "from sklearn.linear_model import LinearRegression\n",
    "from sklearn.model_selection import train_test_split\n",
    "from sklearn.metrics import r2_score, mean_squared_error, mean_absolute_error\n",
    "import pandas as pd\n",
    "# df = pd.read_csv('your_data.csv')\n",
    "# X = df.drop('target', axis=1)\n",
    "# y = df['target']\n",
    "X_train, X_test, y_train, y_test = train_test_split(X, y, test_size=0.2, random_state=42)\n",
    "poly = PolynomialFeatures(degree=2, include_bias=False)\n",
    "X_train_poly = poly.fit_transform(X_train)\n",
    "X_test_poly = poly.transform(X_test)\n",
    "model = LinearRegression()\n",
    "model.fit(X_train_poly, y_train)\n",
    "y_pred = model.predict(X_test_poly)\n",
    "print('R2:', r2_score(y_test, y_pred))\n",
    "print('RMSE:', mean_squared_error(y_test, y_pred, squared=False))\n",
    "print('MAE:', mean_absolute_error(y_test, y_pred))"
   ]
  },
  {
   "cell_type": "markdown",
   "id": "d35099be",
   "metadata": {},
   "source": [
    "---\n",
    "## CLASSIFICATION\n",
    "### Random Forest (Best ensemble in list for tabular data)"
   ]
  },
  {
   "cell_type": "code",
   "execution_count": null,
   "id": "78ac8a6e",
   "metadata": {},
   "outputs": [],
   "source": [
    "from sklearn.ensemble import RandomForestClassifier\n",
    "from sklearn.model_selection import train_test_split, GridSearchCV\n",
    "from sklearn.preprocessing import StandardScaler\n",
    "from sklearn.metrics import accuracy_score, classification_report, confusion_matrix\n",
    "import pandas as pd\n",
    "# df = pd.read_csv('your_data.csv')\n",
    "# X = df.drop('target', axis=1)\n",
    "# y = df['target']\n",
    "X_train, X_test, y_train, y_test = train_test_split(X, y, test_size=0.2, random_state=42)\n",
    "scaler = StandardScaler()\n",
    "X_train_scaled = scaler.fit_transform(X_train)\n",
    "X_test_scaled = scaler.transform(X_test)\n",
    "params = {\n",
    "    'n_estimators': [100, 200],\n",
    "    'max_depth': [3, 6]\n",
    "}\n",
    "rf = RandomForestClassifier(random_state=42)\n",
    "grid = GridSearchCV(rf, params, cv=5, scoring='accuracy', n_jobs=-1)\n",
    "grid.fit(X_train_scaled, y_train)\n",
    "best_model = grid.best_estimator_\n",
    "y_pred = best_model.predict(X_test_scaled)\n",
    "print('Accuracy:', accuracy_score(y_test, y_pred))\n",
    "print(classification_report(y_test, y_pred))\n",
    "print('Confusion matrix:')\n",
    "print(confusion_matrix(y_test, y_pred))"
   ]
  },
  {
   "cell_type": "markdown",
   "id": "8245f0b4",
   "metadata": {},
   "source": [
    "---\n",
    "## (Optional) KFold Cross-Validation Example\n",
    "ใช้สำหรับประเมินโมเดลแบบ cross-validation (ถ้าอยากโชว์ best practice)"
   ]
  },
  {
   "cell_type": "code",
   "execution_count": null,
   "id": "323fb2fc",
   "metadata": {},
   "outputs": [],
   "source": [
    "# Polynomial Regression with KFold\n",
    "from sklearn.model_selection import KFold, cross_val_score\n",
    "from sklearn.pipeline import make_pipeline\n",
    "from sklearn.preprocessing import StandardScaler, PolynomialFeatures\n",
    "from sklearn.linear_model import LinearRegression\n",
    "import numpy as np\n",
    "# df = pd.read_csv('your_data.csv')\n",
    "# X = df.drop('target', axis=1)\n",
    "# y = df['target']\n",
    "model = make_pipeline(StandardScaler(), PolynomialFeatures(degree=2, include_bias=False), LinearRegression())\n",
    "cv = KFold(n_splits=5, shuffle=True, random_state=42)\n",
    "scores = cross_val_score(model, X, y, cv=cv, scoring='r2')\n",
    "print('KFold R2 scores:', scores)\n",
    "print('Mean R2:', np.mean(scores))"
   ]
  },
  {
   "cell_type": "code",
   "execution_count": null,
   "id": "a94e66b5",
   "metadata": {},
   "outputs": [],
   "source": [
    "# Random Forest Classification with KFold\n",
    "from sklearn.ensemble import RandomForestClassifier\n",
    "from sklearn.model_selection import KFold, cross_val_score\n",
    "from sklearn.preprocessing import StandardScaler\n",
    "from sklearn.pipeline import make_pipeline\n",
    "import numpy as np\n",
    "# df = pd.read_csv('your_data.csv')\n",
    "# X = df.drop('target', axis=1)\n",
    "# y = df['target']\n",
    "model = make_pipeline(StandardScaler(), RandomForestClassifier(random_state=42))\n",
    "cv = KFold(n_splits=5, shuffle=True, random_state=42)\n",
    "scores = cross_val_score(model, X, y, cv=cv, scoring='accuracy')\n",
    "print('KFold accuracy scores:', scores)\n",
    "print('Mean accuracy:', np.mean(scores))"
   ]
  },
  {
   "cell_type": "markdown",
   "id": "a72077d4",
   "metadata": {},
   "source": [
    "---\n",
    "## ตัวอย่างการนำโมเดล Regression ไปใช้กับข้อมูลใหม่\n",
    "Predict เงินเดือนพนักงานใหม่จากโมเดลที่เทรนไว้"
   ]
  },
  {
   "cell_type": "code",
   "execution_count": null,
   "id": "db6c1c79",
   "metadata": {},
   "outputs": [],
   "source": [
    "# ตัวอย่างการใช้โมเดล Regression ทำนายข้อมูลใหม่\n",
    "new = pd.DataFrame({\n",
    "    'YearsExperience': [6.5],\n",
    "    'EducationLevel': [2],\n",
    "    'PerformanceScore': [82]\n",
    "})\n",
    "# ถ้าใช้ PolynomialFeatures ต้อง transform ก่อน\n",
    "# new_poly = poly.transform(new)\n",
    "# pred_salary = model.predict(new_poly)\n",
    "# print(f\"Predicted Salary: {pred_salary[0]:.2f} ฿\")\n",
    "# ถ้าใช้ LinearRegression ธรรมดา\n",
    "# pred_salary = model.predict(new)\n",
    "# print(f\"Predicted Salary: {pred_salary[0]:.2f} ฿\")"
   ]
  },
  {
   "cell_type": "markdown",
   "id": "aff3c590",
   "metadata": {},
   "source": [
    "---\n",
    "## ตัวอย่างการนำโมเดล Classification ไปใช้กับข้อมูลใหม่\n",
    "Predict โรคหัวใจจากข้อมูลผู้ป่วยใหม่"
   ]
  },
  {
   "cell_type": "code",
   "execution_count": null,
   "id": "79feb688",
   "metadata": {},
   "outputs": [],
   "source": [
    "# ตัวอย่างการใช้โมเดล Classification ทำนายข้อมูลใหม่\n",
    "new_patient = pd.DataFrame({\n",
    "    'Age': [54],\n",
    "    'Sex': [1],\n",
    "    'ChestPain': [2],\n",
    "    'RestingBP': [145],\n",
    "    'Cholesterol': [265],\n",
    "    'FastingBS': [1],\n",
    "    'MaxHR': [138]\n",
    "})\n",
    "# ถ้าใช้ StandardScaler ต้อง transform ก่อน\n",
    "# new_scaled = scaler.transform(new_patient)\n",
    "# pred = model.predict(new_scaled)\n",
    "# print(f\"Predicted: {pred[0]}\")\n",
    "# ถ้าใช้ RandomForest ธรรมดา\n",
    "# pred = model.predict(new_patient)\n",
    "# print(f\"Predicted: {pred[0]}\")"
   ]
  }
 ],
 "metadata": {
  "language_info": {
   "name": "python"
  }
 },
 "nbformat": 4,
 "nbformat_minor": 5
}

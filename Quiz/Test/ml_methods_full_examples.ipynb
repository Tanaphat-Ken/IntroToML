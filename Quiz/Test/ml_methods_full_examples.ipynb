{
 "cells": [
  {
   "cell_type": "markdown",
   "id": "3c9d58a5",
   "metadata": {},
   "source": [
    "# ML Methods Full Examples (Exam Template)\n",
    "รวมตัวอย่างโค้ดสำหรับ Regression, Classification, Clustering, Perceptron\n",
    "แต่ละเซลล์สามารถ copy/paste แล้วแก้ไขได้ทันที"
   ]
  },
  {
   "cell_type": "markdown",
   "id": "d91bce1f",
   "metadata": {},
   "source": [
    "## REGRESSION\n",
    "### 1. Linear Regression (Simple/Multiple)"
   ]
  },
  {
   "cell_type": "code",
   "execution_count": null,
   "id": "bf9fa776",
   "metadata": {},
   "outputs": [],
   "source": [
    "from sklearn.linear_model import LinearRegression\n",
    "from sklearn.model_selection import train_test_split\n",
    "from sklearn.metrics import r2_score\n",
    "import pandas as pd\n",
    "# df = pd.read_csv('your_data.csv')\n",
    "# X = df.drop('target', axis=1)\n",
    "# y = df['target']\n",
    "X_train, X_test, y_train, y_test = train_test_split(X, y, test_size=0.2, random_state=42)\n",
    "model = LinearRegression()\n",
    "model.fit(X_train, y_train)\n",
    "y_pred = model.predict(X_test)\n",
    "print('R2:', r2_score(y_test, y_pred))"
   ]
  },
  {
   "cell_type": "markdown",
   "id": "5f88b7ec",
   "metadata": {},
   "source": [
    "### 2. Polynomial Regression"
   ]
  },
  {
   "cell_type": "code",
   "execution_count": null,
   "id": "34e2ecac",
   "metadata": {},
   "outputs": [],
   "source": [
    "from sklearn.preprocessing import PolynomialFeatures\n",
    "poly = PolynomialFeatures(degree=2, include_bias=False)\n",
    "X_poly = poly.fit_transform(X)\n",
    "model = LinearRegression()\n",
    "model.fit(X_poly, y)"
   ]
  },
  {
   "cell_type": "markdown",
   "id": "4aa32b97",
   "metadata": {},
   "source": [
    "## CLASSIFICATION\n",
    "### 1. Logistic Regression"
   ]
  },
  {
   "cell_type": "code",
   "execution_count": null,
   "id": "fb6fc7f7",
   "metadata": {},
   "outputs": [],
   "source": [
    "from sklearn.linear_model import LogisticRegression\n",
    "from sklearn.preprocessing import StandardScaler\n",
    "scaler = StandardScaler()\n",
    "X_train_scaled = scaler.fit_transform(X_train)\n",
    "X_test_scaled = scaler.transform(X_test)\n",
    "clf = LogisticRegression(max_iter=1000)\n",
    "clf.fit(X_train_scaled, y_train)\n",
    "print('Accuracy:', clf.score(X_test_scaled, y_test))"
   ]
  },
  {
   "cell_type": "markdown",
   "id": "bcaf8621",
   "metadata": {},
   "source": [
    "### 2. Decision Tree"
   ]
  },
  {
   "cell_type": "code",
   "execution_count": null,
   "id": "73eb0516",
   "metadata": {},
   "outputs": [],
   "source": [
    "from sklearn.tree import DecisionTreeClassifier\n",
    "clf = DecisionTreeClassifier(max_depth=5, random_state=42)\n",
    "clf.fit(X_train, y_train)\n",
    "print('Accuracy:', clf.score(X_test, y_test))"
   ]
  },
  {
   "cell_type": "markdown",
   "id": "af7f1a23",
   "metadata": {},
   "source": [
    "### 3. Ensemble: Random Forest"
   ]
  },
  {
   "cell_type": "code",
   "execution_count": null,
   "id": "ce19e749",
   "metadata": {},
   "outputs": [],
   "source": [
    "from sklearn.ensemble import RandomForestClassifier\n",
    "rf = RandomForestClassifier(n_estimators=100, random_state=42)\n",
    "rf.fit(X_train, y_train)\n",
    "print('Accuracy:', rf.score(X_test, y_test))"
   ]
  },
  {
   "cell_type": "markdown",
   "id": "d50b7381",
   "metadata": {},
   "source": [
    "### 4. Naïve Bayesian Classification"
   ]
  },
  {
   "cell_type": "code",
   "execution_count": null,
   "id": "cb23c209",
   "metadata": {},
   "outputs": [],
   "source": [
    "from sklearn.naive_bayes import GaussianNB\n",
    "nb = GaussianNB()\n",
    "nb.fit(X_train, y_train)\n",
    "print('Accuracy:', nb.score(X_test, y_test))"
   ]
  },
  {
   "cell_type": "markdown",
   "id": "a139eb10",
   "metadata": {},
   "source": [
    "### 5. Support Vector Machine (SVM)"
   ]
  },
  {
   "cell_type": "code",
   "execution_count": null,
   "id": "a9c1666f",
   "metadata": {},
   "outputs": [],
   "source": [
    "from sklearn.svm import SVC\n",
    "scaler = StandardScaler()\n",
    "X_train_scaled = scaler.fit_transform(X_train)\n",
    "X_test_scaled = scaler.transform(X_test)\n",
    "svc = SVC(kernel='rbf', C=1.0, gamma='scale')\n",
    "svc.fit(X_train_scaled, y_train)\n",
    "print('Accuracy:', svc.score(X_test_scaled, y_test))"
   ]
  },
  {
   "cell_type": "markdown",
   "id": "5879bd9d",
   "metadata": {},
   "source": [
    "### 6. Dimensionality reduction (PCA) for RandomForest/SVM"
   ]
  },
  {
   "cell_type": "code",
   "execution_count": null,
   "id": "9d2e7289",
   "metadata": {},
   "outputs": [],
   "source": [
    "from sklearn.decomposition import PCA\n",
    "from sklearn.preprocessing import StandardScaler\n",
    "scaler = StandardScaler()\n",
    "X_scaled = scaler.fit_transform(X)\n",
    "pca = PCA(n_components=10)\n",
    "X_pca = pca.fit_transform(X_scaled)"
   ]
  },
  {
   "cell_type": "markdown",
   "id": "113fb5bd",
   "metadata": {},
   "source": [
    "## UNSUPERVISED CLUSTERING\n",
    "### 1. KMeans & Agglomerative Clustering"
   ]
  },
  {
   "cell_type": "code",
   "execution_count": null,
   "id": "e0d6f143",
   "metadata": {},
   "outputs": [],
   "source": [
    "from sklearn.cluster import KMeans, AgglomerativeClustering\n",
    "km = KMeans(n_clusters=3, random_state=42)\n",
    "labels = km.fit_predict(X)\n",
    "agg = AgglomerativeClustering(n_clusters=3)\n",
    "labels2 = agg.fit_predict(X)"
   ]
  },
  {
   "cell_type": "markdown",
   "id": "71b4e660",
   "metadata": {},
   "source": [
    "## PERCEPTRON\n",
    "### 1. Single-layer Perceptron (SLP)"
   ]
  },
  {
   "cell_type": "code",
   "execution_count": null,
   "id": "ced32821",
   "metadata": {},
   "outputs": [],
   "source": [
    "from sklearn.linear_model import Perceptron\n",
    "scaler = StandardScaler()\n",
    "X_train_scaled = scaler.fit_transform(X_train)\n",
    "clf = Perceptron(max_iter=1000, tol=1e-3)\n",
    "clf.fit(X_train_scaled, y_train)\n",
    "print('Accuracy:', clf.score(scaler.transform(X_test), y_test))"
   ]
  },
  {
   "cell_type": "markdown",
   "id": "13f3b03e",
   "metadata": {},
   "source": [
    "### 2. Multi-layer Perceptron (MLP)"
   ]
  },
  {
   "cell_type": "code",
   "execution_count": null,
   "id": "e637f224",
   "metadata": {},
   "outputs": [],
   "source": [
    "from sklearn.neural_network import MLPClassifier\n",
    "scaler = StandardScaler()\n",
    "X_train_scaled = scaler.fit_transform(X_train)\n",
    "X_test_scaled = scaler.transform(X_test)\n",
    "mlp = MLPClassifier(hidden_layer_sizes=(64,32), max_iter=200, random_state=42)\n",
    "mlp.fit(X_train_scaled, y_train)\n",
    "print('Accuracy:', mlp.score(X_test_scaled, y_test))"
   ]
  }
 ],
 "metadata": {
  "language_info": {
   "name": "python"
  }
 },
 "nbformat": 4,
 "nbformat_minor": 5
}

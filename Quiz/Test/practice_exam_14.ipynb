{
 "cells": [
  {
   "cell_type": "markdown",
   "id": "23d3846e",
   "metadata": {},
   "source": [
    "# Practice Exam 14 - Reinforcement Learning (toy)\n",
    "โจทย์: ใช้ OpenAI Gym (toy env) เพื่อฝึก agent แบบ Q-learning (tabular) บน FrozenLake-v1\n",
    "- ถ้า gym ไม่ติดตั้ง ให้สาธิต pseudo-code และ environment interaction loop\n",
    "- Train for small number of episodes and report average reward"
   ]
  },
  {
   "cell_type": "code",
   "execution_count": null,
   "id": "d8f760a8",
   "metadata": {},
   "outputs": [],
   "source": [
    "# Note: this requires gym; if not installed, students should pip install gym\n",
    "try:\n",
    "    import gym\n",
    "    env = gym.make('FrozenLake-v1', is_slippery=False)\n",
    "    print('Gym available, env created')\n",
    "except Exception as e:\n",
    "    print('Gym not available:', e)\n",
    "\n",
    "# Pseudocode for tabular Q-learning:\n",
    "print('Implement Q-learning update: Q[s,a] += alpha*(r + gamma*max_a Q[s2,a] - Q[s,a])')"
   ]
  }
 ],
 "metadata": {
  "language_info": {
   "name": "python"
  }
 },
 "nbformat": 4,
 "nbformat_minor": 5
}

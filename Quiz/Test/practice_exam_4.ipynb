{
 "cells": [
  {
   "cell_type": "markdown",
   "id": "2530569d",
   "metadata": {},
   "source": [
    "# Practice Exam 4 - Classification (Logistic Regression + SVM)\n",
    "โจทย์: สร้างโมเดลเพื่อทำนายการซื้อสินค้าจาก Features: Age, Income, BrowsingTime.\n",
    "- สร้าง LogisticRegression และ SVM\n",
    "- เทียบ accuracy และ F1\n",
    "- แสดง confusion matrix ของโมเดลที่ให้ F1 สูงสุด"
   ]
  },
  {
   "cell_type": "code",
   "execution_count": 1,
   "id": "21f820f5",
   "metadata": {},
   "outputs": [
    {
     "name": "stdout",
     "output_type": "stream",
     "text": [
      "   Age  Income  BrowsingTime  Buy\n",
      "0   58  111829           2.1    0\n",
      "1   33  141426           5.2    1\n",
      "2   63   98714           1.1    0\n",
      "3   26   80424          11.3    1\n",
      "4   40  129579           8.4    1\n"
     ]
    }
   ],
   "source": [
    "# Import libraries\n",
    "from sklearn.model_selection import train_test_split\n",
    "from sklearn.preprocessing import StandardScaler, PolynomialFeatures\n",
    "from sklearn.linear_model import LinearRegression, LogisticRegression\n",
    "from sklearn.ensemble import RandomForestClassifier\n",
    "from sklearn.tree import DecisionTreeClassifier\n",
    "from sklearn.svm import SVC\n",
    "from sklearn.metrics import accuracy_score, classification_report, confusion_matrix, f1_score\n",
    "from sklearn.metrics import r2_score, mean_squared_error, mean_absolute_error\n",
    "import matplotlib.pyplot as plt\n",
    "import numpy as np\n",
    "import pandas as pd\n",
    "import seaborn as sns\n",
    "\n",
    "np.random.seed(2)\n",
    "N = 300\n",
    "age = np.random.randint(18, 70, N)\n",
    "income = np.random.randint(20000, 150000, N)\n",
    "time = np.round(np.random.exponential(5, N), 1)\n",
    "buy = ((income > 60000) & (time > 3)) | (age < 30)\n",
    "df = pd.DataFrame({'Age': age, 'Income': income, 'BrowsingTime': time, 'Buy': buy.astype(int)})\n",
    "print(df.head())"
   ]
  },
  {
   "cell_type": "code",
   "execution_count": 8,
   "id": "b664a492",
   "metadata": {},
   "outputs": [
    {
     "name": "stdout",
     "output_type": "stream",
     "text": [
      "\n",
      "Logistic Regression Performance:\n",
      "Accuracy: 0.7500\n",
      "F1 Score: 0.7000\n",
      "\n",
      "SVM Performance:\n",
      "Accuracy: 0.8333\n",
      "F1 Score: 0.7980\n",
      "\n",
      "Best Model: SVM\n",
      "              precision    recall  f1-score   support\n",
      "\n",
      "           0       0.77      0.97      0.86       125\n",
      "           1       0.95      0.69      0.80       115\n",
      "\n",
      "    accuracy                           0.83       240\n",
      "   macro avg       0.86      0.83      0.83       240\n",
      "weighted avg       0.86      0.83      0.83       240\n",
      "\n",
      "[[121   4]\n",
      " [ 36  79]]\n"
     ]
    }
   ],
   "source": [
    "x = df.drop('Buy', axis=1)\n",
    "y = df['Buy']\n",
    "\n",
    "x_train, x_test, y_train, y_test = train_test_split(x, y, train_size=0.2, random_state=42)\n",
    "\n",
    "scaler = StandardScaler()\n",
    "x_train = scaler.fit_transform(x_train)\n",
    "x_test = scaler.transform(x_test)\n",
    "\n",
    "models = {\n",
    "    'Logistic Regression': LogisticRegression(),\n",
    "    'SVM': SVC(kernel='rbf', probability=True, random_state=42)\n",
    "}\n",
    "\n",
    "for name, model in models.items():\n",
    "    model.fit(x_train, y_train)\n",
    "    y_pred = model.predict(x_test)\n",
    "    print(f\"\\n{name} Performance:\")\n",
    "    print(f\"Accuracy: {accuracy_score(y_test, y_pred):.4f}\")\n",
    "    print(f\"F1 Score: {f1_score(y_test, y_pred):.4f}\")\n",
    "\n",
    "best_model = max(models, key=lambda x: f1_score(y_test, models[x].predict(x_test)))\n",
    "print(f\"\\nBest Model: {best_model}\")\n",
    "print(classification_report(y_test, models[best_model].predict(x_test)))\n",
    "print(confusion_matrix(y_test, models[best_model].predict(x_test)))"
   ]
  }
 ],
 "metadata": {
  "kernelspec": {
   "display_name": "base",
   "language": "python",
   "name": "python3"
  },
  "language_info": {
   "codemirror_mode": {
    "name": "ipython",
    "version": 3
   },
   "file_extension": ".py",
   "mimetype": "text/x-python",
   "name": "python",
   "nbconvert_exporter": "python",
   "pygments_lexer": "ipython3",
   "version": "3.13.5"
  }
 },
 "nbformat": 4,
 "nbformat_minor": 5
}

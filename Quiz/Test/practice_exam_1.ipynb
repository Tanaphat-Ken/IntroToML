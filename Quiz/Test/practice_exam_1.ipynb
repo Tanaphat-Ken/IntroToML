{
 "cells": [
  {
   "cell_type": "markdown",
   "id": "a5f6fc6d",
   "metadata": {},
   "source": [
    "# Practice Exam 1 - Regression (Polynomial)\n",
    "โจทย์: ทำนายราคาบ้าน (Sell_Price) โดยใช้ Features: Size, Est_Price, Rooms.\n",
    "- สร้าง PolynomialFeatures degree=2\n",
    "- เทรน LinearRegression ด้วยข้อมูลทั้งหมด\n",
    "- รายงาน R², RMSE, MAE\n",
    "- ทำนายราคาบ้านใหม่: Size=130, Est_Price=1,400,000, Rooms=3"
   ]
  },
  {
   "cell_type": "code",
   "execution_count": 4,
   "id": "04704cda",
   "metadata": {},
   "outputs": [
    {
     "name": "stdout",
     "output_type": "stream",
     "text": [
      "   Size  Est_Price  Rooms  Sell_Price\n",
      "0    85     800000      2     1100000\n",
      "1   100     950000      2     1400000\n",
      "2   120    1250000      3     2100000\n",
      "3   150    2000000      4     3300000\n",
      "4    95     900000      2     1300000\n"
     ]
    }
   ],
   "source": [
    "# Dataset\n",
    "# Import libraries\n",
    "from sklearn.model_selection import train_test_split\n",
    "from sklearn.preprocessing import StandardScaler, PolynomialFeatures\n",
    "from sklearn.linear_model import LinearRegression, LogisticRegression\n",
    "from sklearn.ensemble import RandomForestClassifier\n",
    "from sklearn.svm import SVC\n",
    "from sklearn.metrics import accuracy_score, classification_report, confusion_matrix, f1_score\n",
    "from sklearn.metrics import r2_score, mean_squared_error, mean_absolute_error\n",
    "import matplotlib.pyplot as plt\n",
    "import numpy as np\n",
    "import pandas as pd\n",
    "import seaborn as sns\n",
    "sizes = [85, 100, 120, 150, 95]\n",
    "est_prices = [800000, 950000, 1250000, 2000000, 900000]\n",
    "rooms = [2, 2, 3, 4, 2]\n",
    "sell_prices = [1100000, 1400000, 2100000, 3300000, 1300000]\n",
    "df = pd.DataFrame({'Size': sizes, 'Est_Price': est_prices, 'Rooms': rooms, 'Sell_Price': sell_prices})\n",
    "print(df)"
   ]
  },
  {
   "cell_type": "code",
   "execution_count": 5,
   "id": "ee3c2678",
   "metadata": {},
   "outputs": [],
   "source": [
    "X = df[['Size', 'Est_Price', 'Rooms']]\n",
    "y = df['Sell_Price']"
   ]
  },
  {
   "cell_type": "code",
   "execution_count": 9,
   "id": "fe96d13d",
   "metadata": {},
   "outputs": [
    {
     "name": "stdout",
     "output_type": "stream",
     "text": [
      "r2 = 1.0\n",
      "mse = 3.879700591824173e-11\n",
      "mae = 4.8246700316667555e-06\n"
     ]
    }
   ],
   "source": [
    "poly = PolynomialFeatures(degree=2, include_bias=False)\n",
    "X_poly = poly.fit_transform(X)\n",
    "\n",
    "model = LinearRegression()\n",
    "model.fit(X_poly, y)\n",
    "\n",
    "y_pred = model.predict(X_poly)\n",
    "r2 = r2_score(y, y_pred)\n",
    "mse = mean_squared_error(y, y_pred)\n",
    "mae = mean_absolute_error(y, y_pred)\n",
    "\n",
    "print(f\"r2 = {r2}\")\n",
    "print(f\"mse = {mse}\")\n",
    "print(f\"mae = {mae}\")\n"
   ]
  },
  {
   "cell_type": "code",
   "execution_count": 15,
   "id": "96a81be2",
   "metadata": {},
   "outputs": [
    {
     "name": "stdout",
     "output_type": "stream",
     "text": [
      "Predicted Sell Price for new house: 2464000.31\n"
     ]
    }
   ],
   "source": [
    "new = pd.DataFrame({\n",
    "    'Size': [140],\n",
    "    'Est_Price': [1400000],\n",
    "    'Rooms': [3]\n",
    "})\n",
    "\n",
    "new_poly = poly.transform(new)\n",
    "\n",
    "new_pred = model.predict(new_poly)\n",
    "\n",
    "print(f\"Predicted Sell Price for new house: {new_pred[0] :.2f}\")"
   ]
  }
 ],
 "metadata": {
  "kernelspec": {
   "display_name": "Python 3",
   "language": "python",
   "name": "python3"
  },
  "language_info": {
   "codemirror_mode": {
    "name": "ipython",
    "version": 3
   },
   "file_extension": ".py",
   "mimetype": "text/x-python",
   "name": "python",
   "nbconvert_exporter": "python",
   "pygments_lexer": "ipython3",
   "version": "3.13.5"
  }
 },
 "nbformat": 4,
 "nbformat_minor": 5
}

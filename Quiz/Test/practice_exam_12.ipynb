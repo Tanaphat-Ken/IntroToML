{
 "cells": [
  {
   "cell_type": "markdown",
   "id": "24ac4b7c",
   "metadata": {},
   "source": [
    "# Practice Exam 12 - Neural Network (PyTorch) - small MLP\n",
    "โจทย์: สร้าง MLP ด้วย PyTorch เพื่อทำนาย binary label จาก synthetic features\n",
    "- Build a small network (2 hidden layers), train for few epochs, report accuracy\n",
    "- Note: Requires PyTorch installed"
   ]
  },
  {
   "cell_type": "code",
   "execution_count": 3,
   "id": "46c1bc9f",
   "metadata": {},
   "outputs": [
    {
     "name": "stdout",
     "output_type": "stream",
     "text": [
      "Epoch 5 loss 0.6669194102287292\n",
      "Epoch 10 loss 0.6406164765357971\n",
      "Epoch 15 loss 0.6118212342262268\n",
      "Epoch 20 loss 0.5786370038986206\n",
      "Epoch 25 loss 0.5415359139442444\n",
      "Epoch 30 loss 0.5014011859893799\n",
      "Epoch 35 loss 0.45974379777908325\n",
      "Epoch 40 loss 0.41891995072364807\n",
      "Epoch 45 loss 0.3801662027835846\n",
      "Epoch 50 loss 0.34370672702789307\n",
      "Epoch 55 loss 0.3098180294036865\n",
      "Epoch 60 loss 0.2780149579048157\n",
      "Epoch 65 loss 0.2481754869222641\n",
      "Epoch 70 loss 0.2207031399011612\n",
      "Epoch 75 loss 0.1957726925611496\n",
      "Epoch 80 loss 0.17334508895874023\n",
      "Epoch 85 loss 0.15317894518375397\n",
      "Epoch 90 loss 0.1351235806941986\n",
      "Epoch 95 loss 0.11897649616003036\n",
      "Epoch 100 loss 0.1045510396361351\n",
      "Test acc: 0.82\n"
     ]
    }
   ],
   "source": [
    "import torch\n",
    "import torch.nn as nn\n",
    "import torch.optim as optim\n",
    "from sklearn.datasets import make_classification\n",
    "from sklearn.model_selection import train_test_split\n",
    "from sklearn.preprocessing import StandardScaler\n",
    "from sklearn.metrics import accuracy_score\n",
    "import numpy as np\n",
    "X, y = make_classification(n_samples=500, n_features=20, n_informative=5, random_state=42)\n",
    "X_train, X_test, y_train, y_test = train_test_split(X, y, test_size=0.2, random_state=42)\n",
    "sc = StandardScaler()\n",
    "X_train = sc.fit_transform(X_train)\n",
    "X_test = sc.transform(X_test)\n",
    "\n",
    "# Convert to tensors\n",
    "Xtr = torch.tensor(X_train, dtype=torch.float32)\n",
    "Ytr = torch.tensor(y_train, dtype=torch.long)\n",
    "Xte = torch.tensor(X_test, dtype=torch.float32)\n",
    "Yte = torch.tensor(y_test, dtype=torch.long)\n",
    "\n",
    "class SimpleMLP(nn.Module):\n",
    "    def __init__(self, input_dim):\n",
    "        super().__init__()\n",
    "        self.net = nn.Sequential(\n",
    "            nn.Linear(input_dim, 64),\n",
    "            nn.ReLU(),\n",
    "            nn.Linear(64, 32),\n",
    "            nn.ReLU(),\n",
    "            nn.Linear(32, 2)\n",
    "        )\n",
    "    def forward(self, x):\n",
    "        return self.net(x)\n",
    "\n",
    "model = SimpleMLP(Xtr.shape[1])\n",
    "opt = optim.Adam(model.parameters(), lr=1e-3)\n",
    "loss_fn = nn.CrossEntropyLoss()\n",
    "\n",
    "for epoch in range(100):\n",
    "    model.train()\n",
    "    logits = model(Xtr)\n",
    "    loss = loss_fn(logits, Ytr)\n",
    "    opt.zero_grad()\n",
    "    loss.backward()\n",
    "    opt.step()\n",
    "    if (epoch+1) % 5 == 0:\n",
    "        print('Epoch', epoch+1, 'loss', loss.item())\n",
    "\n",
    "model.eval()\n",
    "with torch.no_grad():\n",
    "    preds = model(Xte).argmax(dim=1).numpy()\n",
    "print('Test acc:', accuracy_score(y_test, preds))"
   ]
  }
 ],
 "metadata": {
  "kernelspec": {
   "display_name": "base",
   "language": "python",
   "name": "python3"
  },
  "language_info": {
   "codemirror_mode": {
    "name": "ipython",
    "version": 3
   },
   "file_extension": ".py",
   "mimetype": "text/x-python",
   "name": "python",
   "nbconvert_exporter": "python",
   "pygments_lexer": "ipython3",
   "version": "3.13.5"
  }
 },
 "nbformat": 4,
 "nbformat_minor": 5
}

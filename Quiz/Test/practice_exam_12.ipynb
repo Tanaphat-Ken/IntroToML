{
 "cells": [
  {
   "cell_type": "markdown",
   "id": "24ac4b7c",
   "metadata": {},
   "source": [
    "# Practice Exam 12 - Neural Network (PyTorch) - small MLP\n",
    "โจทย์: สร้าง MLP ด้วย PyTorch เพื่อทำนาย binary label จาก synthetic features\n",
    "- Build a small network (2 hidden layers), train for few epochs, report accuracy\n",
    "- Note: Requires PyTorch installed"
   ]
  },
  {
   "cell_type": "code",
   "execution_count": null,
   "id": "46c1bc9f",
   "metadata": {},
   "outputs": [],
   "source": [
    "import torch\n",
    "import torch.nn as nn\n",
    "import torch.optim as optim\n",
    "from sklearn.datasets import make_classification\n",
    "from sklearn.model_selection import train_test_split\n",
    "from sklearn.preprocessing import StandardScaler\n",
    "from sklearn.metrics import accuracy_score\n",
    "import numpy as np\n",
    "X, y = make_classification(n_samples=500, n_features=20, n_informative=5, random_state=42)\n",
    "X_train, X_test, y_train, y_test = train_test_split(X, y, test_size=0.2, random_state=42)\n",
    "sc = StandardScaler()\n",
    "X_train = sc.fit_transform(X_train)\n",
    "X_test = sc.transform(X_test)\n",
    "\n",
    "# Convert to tensors\n",
    "Xtr = torch.tensor(X_train, dtype=torch.float32)\n",
    "Ytr = torch.tensor(y_train, dtype=torch.long)\n",
    "Xte = torch.tensor(X_test, dtype=torch.float32)\n",
    "Yte = torch.tensor(y_test, dtype=torch.long)\n",
    "\n",
    "class SimpleMLP(nn.Module):\n",
    "    def __init__(self, input_dim):\n",
    "        super().__init__()\n",
    "        self.net = nn.Sequential(\n",
    "            nn.Linear(input_dim, 64),\n",
    "            nn.ReLU(),\n",
    "            nn.Linear(64, 32),\n",
    "            nn.ReLU(),\n",
    "            nn.Linear(32, 2)\n",
    "        )\n",
    "    def forward(self, x):\n",
    "        return self.net(x)\n",
    "\n",
    "model = SimpleMLP(Xtr.shape[1])\n",
    "opt = optim.Adam(model.parameters(), lr=1e-3)\n",
    "loss_fn = nn.CrossEntropyLoss()\n",
    "\n",
    "for epoch in range(10):\n",
    "    model.train()\n",
    "    logits = model(Xtr)\n",
    "    loss = loss_fn(logits, Ytr)\n",
    "    opt.zero_grad()\n",
    "    loss.backward()\n",
    "    opt.step()\n",
    "    if (epoch+1) % 5 == 0:\n",
    "        print('Epoch', epoch+1, 'loss', loss.item())\n",
    "\n",
    "model.eval()\n",
    "with torch.no_grad():\n",
    "    preds = model(Xte).argmax(dim=1).numpy()\n",
    "print('Test acc:', accuracy_score(y_test, preds))"
   ]
  }
 ],
 "metadata": {
  "language_info": {
   "name": "python"
  }
 },
 "nbformat": 4,
 "nbformat_minor": 5
}

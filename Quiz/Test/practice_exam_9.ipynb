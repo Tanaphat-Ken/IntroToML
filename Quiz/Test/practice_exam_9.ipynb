{
 "cells": [
  {
   "cell_type": "markdown",
   "id": "8b233276",
   "metadata": {},
   "source": [
    "# Practice Exam 9 - Text Classification (Bag-of-Words)\n",
    "โจทย์: สร้าง simple text classification using CountVectorizer + LogisticRegression\n",
    "- ให้ตัวอย่าง short texts and labels\n",
    "- Vectorize, train, evaluate accuracy & classification report"
   ]
  },
  {
   "cell_type": "code",
   "execution_count": null,
   "id": "8b12e349",
   "metadata": {},
   "outputs": [],
   "source": [
    "from sklearn.feature_extraction.text import CountVectorizer\n",
    "from sklearn.linear_model import LogisticRegression\n",
    "from sklearn.model_selection import train_test_split\n",
    "from sklearn.metrics import accuracy_score, classification_report\n",
    "texts = [\n",
    "    'I love this product',\n",
    "    'This is the worst',\n",
    "    'Excellent quality and fast shipping',\n",
    "    'Do not buy',\n",
    "    'Very happy with purchase',\n",
    "    'Terrible experience',\n",
    "    'Highly recommend it',\n",
    "    'Not worth the money'\n",
    "]\n",
    "labels = [1,0,1,0,1,0,1,0]\n",
    "cv = CountVectorizer()\n",
    "X = cv.fit_transform(texts)\n",
    "X_train, X_test, y_train, y_test = train_test_split(X, labels, test_size=0.25, random_state=42)\n",
    "model = LogisticRegression()\n",
    "model.fit(X_train, y_train)\n",
    "y_pred = model.predict(X_test)\n",
    "print('Accuracy:', accuracy_score(y_test, y_pred))\n",
    "print(classification_report(y_test, y_pred))"
   ]
  }
 ],
 "metadata": {
  "language_info": {
   "name": "python"
  }
 },
 "nbformat": 4,
 "nbformat_minor": 5
}

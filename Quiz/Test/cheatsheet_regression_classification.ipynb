{
 "cells": [
  {
   "cell_type": "markdown",
   "id": "8eb37faa",
   "metadata": {},
   "source": [
    "# Cheatsheet: Regression & Classification (สรุปวิธีทำ)\n",
    "สรุปสั้นๆ เป็นภาษาไทย + ตัวอย่างโค้ดสั้นๆ ด้วย scikit-learn เพื่อเอาไว้ทบทวนก่อนสอบ\n",
    "\n",
    "หมายเหตุ: แต่ละตัวอย่างเป็น 'starter snippet' — ปรับ hyperparameters / preprocessing ตามโจทย์จริง"
   ]
  },
  {
   "cell_type": "markdown",
   "id": "82c51fc6",
   "metadata": {},
   "source": [
    "## Regression - เมื่อ target เป็นจำนวนจริง (continuous)\n",
    "หลักการทั่วไป:\n",
    "- แบ่งข้อมูล: train / test (เช่น 80/20)\n",
    "- ตรวจสอบ outliers, scale ถ้าจำเป็น (StandardScaler)\n",
    "- เลือกโมเดล, เทรน, ประเมิน (R², RMSE, MAE)\n",
    "\n",
    "Common models (สั้นๆ):\n",
    "1) Linear Regression - baseline, fast, ใช้ได้ถ้าความสัมพันธ์เป็น linear\n",
    "2) Polynomial Regression - เพิ่ม interaction/degree เมื่อความสัมพันธ์ไม่เป็น linear (ใช้ PolynomialFeatures)\n",
    "3) Ridge/Lasso - regularized linear models (แก้ overfit)\n",
    "4) Decision Tree / Random Forest / Gradient Boosting - non-linear, robust, ต้อง tune depth/estimators\n",
    "\n",
    "### ตัวอย่าง: LinearRegression + Polynomial (degree=2)"
   ]
  },
  {
   "cell_type": "code",
   "execution_count": null,
   "id": "8e1a86c0",
   "metadata": {},
   "outputs": [],
   "source": [
    "# Regression example (Polynomial)\n",
    "import numpy as np\n",
    "import pandas as pd\n",
    "from sklearn.preprocessing import PolynomialFeatures, StandardScaler\n",
    "from sklearn.linear_model import LinearRegression, Ridge\n",
    "from sklearn.metrics import r2_score, mean_squared_error, mean_absolute_error\n",
    "\n",
    "# Synthetic data\n",
    "X = np.array([[1.0],[2.0],[3.0],[4.0],[5.0]])\n",
    "y = np.array([1.5, 3.2, 4.8, 8.5, 11.0])\n",
    "poly = PolynomialFeatures(degree=2, include_bias=False)\n",
    "X_poly = poly.fit_transform(X)\n",
    "model = LinearRegression()\n",
    "model.fit(X_poly, y)\n",
    "y_pred = model.predict(X_poly)\n",
    "print('R2', r2_score(y, y_pred))\n",
    "print('RMSE', np.sqrt(mean_squared_error(y, y_pred)))"
   ]
  },
  {
   "cell_type": "markdown",
   "id": "a0f494d9",
   "metadata": {},
   "source": [
    "---\n",
    "## Classification - เมื่อ target เป็น class/category\n",
    "หลักการทั่วไป:\n",
    "- แบ่ง train/test, ทำ scaling สำหรับบางโมเดล (SVM, Logistic)\n",
    "- ถ้า class imbalance ให้พิจารณา stratify หรือการ oversample (SMOTE)\n",
    "- ประเมินด้วย accuracy, precision, recall, f1, confusion matrix\n",
    "\n",
    "Common models (สั้นๆ):\n",
    "1) Logistic Regression - baseline for binary classification\n",
    "2) KNN - simple, non-parametric (sensitive to scale)\n",
    "3) Decision Tree / Random Forest - interpretable (tree) and robust (forest)\n",
    "4) SVM - good for margin-based classification, scale important\n",
    "5) Gradient Boosting (XGBoost/LightGBM) - strong performance, often top choice\n",
    "\n",
    "### ตัวอย่าง: RandomForest classification + feature importances"
   ]
  },
  {
   "cell_type": "code",
   "execution_count": null,
   "id": "ee887671",
   "metadata": {},
   "outputs": [],
   "source": [
    "# Classification example (RandomForest)\n",
    "from sklearn.ensemble import RandomForestClassifier\n",
    "from sklearn.model_selection import train_test_split\n",
    "from sklearn.metrics import accuracy_score, classification_report, confusion_matrix\n",
    "import pandas as pd\n",
    "import numpy as np\n",
    "\n",
    "# Synthetic dataset\n",
    "np.random.seed(0)\n",
    "X = np.random.randn(200, 4)\n",
    "y = (X[:,0] + X[:,1]*0.5 > 0).astype(int)\n",
    "X_train, X_test, y_train, y_test = train_test_split(X, y, test_size=0.2, random_state=42)\n",
    "model = RandomForestClassifier(n_estimators=100, random_state=42)\n",
    "model.fit(X_train, y_train)\n",
    "y_pred = model.predict(X_test)\n",
    "print('Accuracy', accuracy_score(y_test, y_pred))\n",
    "print(classification_report(y_test, y_pred))\n",
    "print('Feature importances:', model.feature_importances_)"
   ]
  },
  {
   "cell_type": "markdown",
   "id": "6abb5741",
   "metadata": {},
   "source": [
    "---\n",
    "## Practical tips (เคล็ดลับสั้นๆ)\n",
    "- Always check shapes and missing values (use df.info(), df.isnull().sum())\n",
    "- Scale data when model sensitive to scale (SVM, KNN, Logistic)\n",
    "- Use cross-validation or validation set to tune hyperparameters\n",
    "- For small datasets, prefer simpler models or regularization (Ridge/Lasso)\n",
    "- For interpretability: use trees with shallow depth or linear models with standardized coefficients\n",
    "\n",
    "### Quick checklist before submit:\n",
    "1. Split data correctly (no leakage)\n",
    "2. Fit scaler on train only (scaler.fit_transform(X_train), scaler.transform(X_test))\n",
    "3. Save model if needed (joblib.dump)\n",
    "4. Provide metrics asked in the question (e.g., R2 or accuracy)\n",
    "\n",
    "---\n",
    "If you want, I can expand this cheat sheet with more detailed examples for each algorithm (hyperparameters to tune, edge-case warnings, common pitfalls) or produce a printable PDF."
   ]
  }
 ],
 "metadata": {
  "language_info": {
   "name": "python"
  }
 },
 "nbformat": 4,
 "nbformat_minor": 5
}

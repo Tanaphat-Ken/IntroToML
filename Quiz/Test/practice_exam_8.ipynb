{
 "cells": [
  {
   "cell_type": "markdown",
   "id": "26d6e646",
   "metadata": {},
   "source": [
    "# Practice Exam 8 - Dimensionality Reduction (PCA)\n",
    "โจทย์: นำชุดข้อมูลสูงมิติ (synthetic) มาทำ PCA และแสดง variance explained พร้อม scatter ของ first 2 PCs\n",
    "- สร้าง dataset 50 features, 200 samples\n",
    "- Standardize, run PCA, plot explained variance ratio\n",
    "- Scatter plot of PC1 vs PC2 colored by a synthetic label"
   ]
  },
  {
   "cell_type": "code",
   "execution_count": null,
   "id": "91daf103",
   "metadata": {},
   "outputs": [],
   "source": [
    "import numpy as np\n",
    "import pandas as pd\n",
    "from sklearn.decomposition import PCA\n",
    "from sklearn.preprocessing import StandardScaler\n",
    "import matplotlib.pyplot as plt\n",
    "np.random.seed(0)\n",
    "X = np.random.normal(size=(200,50))\n",
    "labels = (X[:,0] + X[:,1] > 0).astype(int)\n",
    "sc = StandardScaler()\n",
    "Xs = sc.fit_transform(X)\n",
    "pca = PCA(n_components=10)\n",
    "pca.fit(Xs)\n",
    "print('Explained variance ratio:', pca.explained_variance_ratio_)\n",
    "\n",
    "pcs = pca.transform(Xs)\n",
    "plt.scatter(pcs[:,0], pcs[:,1], c=labels, cmap='bwr', alpha=0.7)\n",
    "plt.xlabel('PC1')\n",
    "plt.ylabel('PC2')\n",
    "plt.title('PC1 vs PC2')\n",
    "plt.show()"
   ]
  }
 ],
 "metadata": {
  "language_info": {
   "name": "python"
  }
 },
 "nbformat": 4,
 "nbformat_minor": 5
}

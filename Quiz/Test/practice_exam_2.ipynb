{
 "cells": [
  {
   "cell_type": "markdown",
   "id": "4f1e3ed2",
   "metadata": {},
   "source": [
    "# Practice Exam 2 - Classification (Decision Tree)\n",
    "โจทย์: ใช้ชุดข้อมูลสังเคราะห์ทำนายว่าผู้ป่วยมีโรค (1) หรือไม่ (0).\n",
    "- แบ่ง train/test 80/20\n",
    "- Scale ด้วย StandardScaler\n",
    "- หา best max_depth ระหว่าง 1-20\n",
    "- แสดง classification report ของโมเดลที่ดีที่สุด"
   ]
  },
  {
   "cell_type": "code",
   "execution_count": 6,
   "id": "f7829e13",
   "metadata": {},
   "outputs": [
    {
     "name": "stdout",
     "output_type": "stream",
     "text": [
      "   Age  Cholesterol  RestingBP  HeartDisease\n",
      "0   74          229        142             1\n",
      "1   77          191        165             1\n",
      "2   30          168        120             0\n",
      "3   33          190        136             0\n",
      "4   33          161        168             1\n"
     ]
    }
   ],
   "source": [
    "# Import libraries\n",
    "from sklearn.model_selection import train_test_split\n",
    "from sklearn.preprocessing import StandardScaler, PolynomialFeatures\n",
    "from sklearn.linear_model import LinearRegression, LogisticRegression\n",
    "from sklearn.ensemble import RandomForestClassifier\n",
    "from sklearn.tree import DecisionTreeClassifier\n",
    "from sklearn.svm import SVC\n",
    "from sklearn.metrics import accuracy_score, classification_report, confusion_matrix, f1_score\n",
    "from sklearn.metrics import r2_score, mean_squared_error, mean_absolute_error\n",
    "import matplotlib.pyplot as plt\n",
    "import numpy as np\n",
    "import pandas as pd\n",
    "import seaborn as sns\n",
    "\n",
    "np.random.seed(0)\n",
    "N = 200\n",
    "age = np.random.randint(30, 80, size=N)\n",
    "chol = np.random.randint(150, 300, size=N)\n",
    "bp = np.random.randint(100, 180, size=N)\n",
    "label = ((age > 50) & (chol > 220)) | (bp > 160)\n",
    "df = pd.DataFrame({'Age': age, 'Cholesterol': chol, 'RestingBP': bp, 'HeartDisease': label.astype(int)})\n",
    "print(df.head())"
   ]
  },
  {
   "cell_type": "code",
   "execution_count": 10,
   "id": "2f0ae41b",
   "metadata": {},
   "outputs": [
    {
     "name": "stdout",
     "output_type": "stream",
     "text": [
      "Best max_depth: 3 with accuracy: 1.0000\n",
      "              precision    recall  f1-score   support\n",
      "\n",
      "           0       1.00      1.00      1.00        23\n",
      "           1       1.00      1.00      1.00        17\n",
      "\n",
      "    accuracy                           1.00        40\n",
      "   macro avg       1.00      1.00      1.00        40\n",
      "weighted avg       1.00      1.00      1.00        40\n",
      "\n",
      "[[23  0]\n",
      " [ 0 17]]\n"
     ]
    }
   ],
   "source": [
    "X = df.drop('HeartDisease', axis=1)\n",
    "y = df['HeartDisease']\n",
    "\n",
    "X_train, X_test, y_train, y_test = train_test_split(X, y, test_size=0.2, random_state=42)\n",
    "\n",
    "scaler = StandardScaler()\n",
    "X_train = scaler.fit_transform(X_train)\n",
    "X_test = scaler.transform(X_test)\n",
    "\n",
    "best_max_depth = None\n",
    "best_accuracy = 0\n",
    "\n",
    "model = DecisionTreeClassifier(random_state=42)\n",
    "for depth in range(1, 21):\n",
    "    model.set_params(max_depth=depth)\n",
    "    model.fit(X_train, y_train)\n",
    "    y_pred = model.predict(X_test)\n",
    "    accuracy = accuracy_score(y_test, y_pred)\n",
    "    if accuracy > best_accuracy:\n",
    "        best_accuracy = accuracy\n",
    "        best_max_depth = depth\n",
    "print(f\"Best max_depth: {best_max_depth} with accuracy: {best_accuracy:.4f}\")\n",
    "model.set_params(max_depth=best_max_depth)\n",
    "model.fit(X_train, y_train)\n",
    "y_pred = model.predict(X_test)\n",
    "print(classification_report(y_test, y_pred))\n",
    "print(confusion_matrix(y_test, y_pred))"
   ]
  }
 ],
 "metadata": {
  "kernelspec": {
   "display_name": "base",
   "language": "python",
   "name": "python3"
  },
  "language_info": {
   "codemirror_mode": {
    "name": "ipython",
    "version": 3
   },
   "file_extension": ".py",
   "mimetype": "text/x-python",
   "name": "python",
   "nbconvert_exporter": "python",
   "pygments_lexer": "ipython3",
   "version": "3.13.5"
  }
 },
 "nbformat": 4,
 "nbformat_minor": 5
}

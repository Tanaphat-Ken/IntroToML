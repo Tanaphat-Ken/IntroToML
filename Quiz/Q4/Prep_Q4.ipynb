{
 "cells": [
  {
   "cell_type": "code",
   "execution_count": 9,
   "id": "ba52c30b",
   "metadata": {},
   "outputs": [],
   "source": [
    "import torch\n",
    "\n",
    "device = torch.device(\"cuda\" if torch.cuda.is_available() else \"cpu\")"
   ]
  },
  {
   "cell_type": "code",
   "execution_count": 29,
   "id": "6a44032f",
   "metadata": {},
   "outputs": [
    {
     "name": "stdout",
     "output_type": "stream",
     "text": [
      "original = [0, 1, 2, 3]\n",
      "tensor([[0, 1],\n",
      "        [2, 3]], device='cuda:0')\n",
      "tensor([[ -0.8805,  -4.0749],\n",
      "        [  1.4081, -17.9558]], device='cuda:0')\n",
      "slice = tensor([-0.8805, -4.0749], device='cuda:0')\n",
      "ans = tensor([-0.8805, -4.0749, -0.8805, -4.0749], device='cuda:0')\n"
     ]
    }
   ],
   "source": [
    "x = [0, 1, 2, 3]\n",
    "print(f\"original = {x}\")\n",
    "\n",
    "x = torch.tensor(x, device=device).reshape(2, 2)\n",
    "print(x)\n",
    "\n",
    "y = torch.tensor([[0, 1], [0, 4]], device=device)\n",
    "z = torch.rand(2, 2, device=device)\n",
    "\n",
    "x = x + (-5 * y) - z\n",
    "print(x)\n",
    "\n",
    "slice = x[0, :]\n",
    "print(f\"slice = {slice}\")\n",
    "\n",
    "ans = torch.cat((slice, slice), dim=0)\n",
    "print(f\"ans = {ans}\")\n"
   ]
  },
  {
   "cell_type": "code",
   "execution_count": 42,
   "id": "fa87305f",
   "metadata": {},
   "outputs": [
    {
     "name": "stdout",
     "output_type": "stream",
     "text": [
      "tensor([[0, 1, 2, 3, 4],\n",
      "        [5, 6, 7, 8, 9]])\n",
      "tensor([[0, 5],\n",
      "        [1, 6],\n",
      "        [2, 7],\n",
      "        [3, 8],\n",
      "        [4, 9]])\n",
      "tensor([[0, 5],\n",
      "        [1, 6],\n",
      "        [2, 7],\n",
      "        [3, 8],\n",
      "        [4, 9]])\n"
     ]
    }
   ],
   "source": [
    "x = torch.arange(10).reshape(2, 5)\n",
    "print(x)\n",
    "print(x.permute(1, 0))\n",
    "print(x.t())"
   ]
  },
  {
   "cell_type": "code",
   "execution_count": null,
   "id": "b809dd53",
   "metadata": {},
   "outputs": [
    {
     "data": {
      "text/plain": [
       "tensor([ 1.,  2.,  3.,  4.,  5.,  6.,  7.,  8.,  9., 10.])"
      ]
     },
     "execution_count": 63,
     "metadata": {},
     "output_type": "execute_result"
    }
   ],
   "source": [
    "x = torch.empty(size = (2, 5))\n",
    "x = torch.zeros((2, 5))\n",
    "x = torch.ones((2, 5))\n",
    "x = torch.rand((2, 5))\n",
    "x = torch.randn((2, 5))\n",
    "x = torch.randint(0, 10, (2, 5))\n",
    "x = torch.eye(2, 5)\n",
    "x = torch.linspace(1, 10, steps=10)\n",
    "x"
   ]
  },
  {
   "cell_type": "code",
   "execution_count": 66,
   "id": "9f58c719",
   "metadata": {},
   "outputs": [
    {
     "name": "stdout",
     "output_type": "stream",
     "text": [
      "[0 1 2 3]\n"
     ]
    },
    {
     "data": {
      "text/plain": [
       "tensor([0, 1, 2, 3])"
      ]
     },
     "execution_count": 66,
     "metadata": {},
     "output_type": "execute_result"
    }
   ],
   "source": [
    "import numpy as np\n",
    "np_array = np.array([0, 1, 2, 3])\n",
    "print(np_array)\n",
    "x = torch.from_numpy(np_array)\n",
    "x"
   ]
  },
  {
   "cell_type": "code",
   "execution_count": 70,
   "id": "999dc442",
   "metadata": {},
   "outputs": [
    {
     "data": {
      "text/plain": [
       "tensor(1.0324)"
      ]
     },
     "execution_count": 70,
     "metadata": {},
     "output_type": "execute_result"
    }
   ],
   "source": [
    "x0 = torch.rand(5)\n",
    "x1 = torch.rand((2, 5))\n",
    "x2 = torch.rand((5, 3))\n",
    "x3 = torch.mm(x1, x2) # 2D x 2D only\n",
    "x3 = torch.matmul(x1, x2) # General Purpose\n",
    "x3 = torch.dot(x0, x0)\n",
    "x3"
   ]
  }
 ],
 "metadata": {
  "kernelspec": {
   "display_name": "Python 3",
   "language": "python",
   "name": "python3"
  },
  "language_info": {
   "codemirror_mode": {
    "name": "ipython",
    "version": 3
   },
   "file_extension": ".py",
   "mimetype": "text/x-python",
   "name": "python",
   "nbconvert_exporter": "python",
   "pygments_lexer": "ipython3",
   "version": "3.13.5"
  }
 },
 "nbformat": 4,
 "nbformat_minor": 5
}

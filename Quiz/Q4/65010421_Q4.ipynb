{
 "cells": [
  {
   "cell_type": "code",
   "execution_count": 1,
   "id": "ba52c30b",
   "metadata": {},
   "outputs": [],
   "source": [
    "import torch\n",
    "\n",
    "device = torch.device(\"cuda\" if torch.cuda.is_available() else \"cpu\")"
   ]
  },
  {
   "cell_type": "code",
   "execution_count": 39,
   "id": "6a44032f",
   "metadata": {},
   "outputs": [
    {
     "name": "stdout",
     "output_type": "stream",
     "text": [
      "original = [30, 20, 10, 40]\n",
      "tensor([[30, 20],\n",
      "        [10, 40]])\n",
      "tensor([[26.9022, 22.9173],\n",
      "        [12.4703, 46.9455]])\n",
      "tensor([[26.9022],\n",
      "        [12.4703],\n",
      "        [22.9173],\n",
      "        [46.9455]])\n",
      "tensor([585.4255])\n"
     ]
    }
   ],
   "source": [
    "my_list = [30, 20, 10, 40]\n",
    "print(f\"original = {my_list}\")\n",
    "\n",
    "x = torch.tensor(my_list).reshape(2, 2)\n",
    "print(x)\n",
    "\n",
    "y = torch.tensor([[-2, 1], [1, 3]])\n",
    "z = torch.rand(2, 2)\n",
    "\n",
    "ans = x + (2*y) + z\n",
    "print(ans)\n",
    "\n",
    "slice_1 = ans[:, 0].reshape(2, 1)\n",
    "slice_2 = ans[:, 1].reshape(2, 1)\n",
    "\n",
    "ans2 = torch.concat((slice_1, slice_2), dim=0)\n",
    "print(ans2)\n",
    "\n",
    "ans3 = ans2.min()*ans2.max()\n",
    "ans3 = torch.unsqueeze(ans3, dim=0)\n",
    "print(ans3)"
   ]
  }
 ],
 "metadata": {
  "kernelspec": {
   "display_name": "Python 3",
   "language": "python",
   "name": "python3"
  },
  "language_info": {
   "codemirror_mode": {
    "name": "ipython",
    "version": 3
   },
   "file_extension": ".py",
   "mimetype": "text/x-python",
   "name": "python",
   "nbconvert_exporter": "python",
   "pygments_lexer": "ipython3",
   "version": "3.13.5"
  }
 },
 "nbformat": 4,
 "nbformat_minor": 5
}

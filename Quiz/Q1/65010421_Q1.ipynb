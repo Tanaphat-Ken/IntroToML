{
 "cells": [
  {
   "cell_type": "markdown",
   "id": "eeb48ac8",
   "metadata": {},
   "source": []
  },
  {
   "cell_type": "code",
   "execution_count": 15,
   "id": "571ef563",
   "metadata": {},
   "outputs": [
    {
     "name": "stdout",
     "output_type": "stream",
     "text": [
      "[[3 2]\n",
      " [1 4]]\n"
     ]
    }
   ],
   "source": [
    "import numpy as np\n",
    "\n",
    "my_list = [3, 2, 1, 4]\n",
    "array_list = np.array(my_list)\n",
    "shape = array_list.reshape(2, 2)\n",
    "print(shape)\n"
   ]
  },
  {
   "cell_type": "code",
   "execution_count": 16,
   "id": "4b783089",
   "metadata": {},
   "outputs": [
    {
     "name": "stdout",
     "output_type": "stream",
     "text": [
      "[[-1.55616474  3.24803997]\n",
      " [ 2.71912551  9.93508258]]\n"
     ]
    }
   ],
   "source": [
    "arr2 = np.array([[-2,1] ,[1, 3]])\n",
    "arr_rand = np.random.rand(2, 2)\n",
    "arr2 = arr2 * 2\n",
    "ans = arr2 - arr_rand + shape\n",
    "print(ans)"
   ]
  },
  {
   "cell_type": "code",
   "execution_count": 17,
   "id": "5c7818e2",
   "metadata": {},
   "outputs": [
    {
     "name": "stdout",
     "output_type": "stream",
     "text": [
      "[-1.55616474  3.24803997 -1.55616474  3.24803997]\n"
     ]
    }
   ],
   "source": [
    "x = ans[0]\n",
    "x = np.concatenate((x, x))\n",
    "print(x)"
   ]
  },
  {
   "cell_type": "code",
   "execution_count": 18,
   "id": "9e2d20c9",
   "metadata": {},
   "outputs": [
    {
     "name": "stdout",
     "output_type": "stream",
     "text": [
      "min * max = -1.5561647390987243 * 3.248039967108083\n",
      "-5.054485267996979\n"
     ]
    }
   ],
   "source": [
    "xmin = x.min()\n",
    "xmax = x.max()\n",
    "ans2 = xmin * xmax\n",
    "print(f\"min * max = {xmin} * {xmax}\")\n",
    "print(ans2)"
   ]
  },
  {
   "cell_type": "code",
   "execution_count": 19,
   "id": "77bf9287",
   "metadata": {},
   "outputs": [
    {
     "data": {
      "text/plain": [
       "array([-1.55616474,  3.24803997, -1.55616474,  3.24803997])"
      ]
     },
     "execution_count": 19,
     "metadata": {},
     "output_type": "execute_result"
    }
   ],
   "source": [
    "x "
   ]
  }
 ],
 "metadata": {
  "kernelspec": {
   "display_name": "Python 3",
   "language": "python",
   "name": "python3"
  },
  "language_info": {
   "codemirror_mode": {
    "name": "ipython",
    "version": 3
   },
   "file_extension": ".py",
   "mimetype": "text/x-python",
   "name": "python",
   "nbconvert_exporter": "python",
   "pygments_lexer": "ipython3",
   "version": "3.13.5"
  }
 },
 "nbformat": 4,
 "nbformat_minor": 5
}
